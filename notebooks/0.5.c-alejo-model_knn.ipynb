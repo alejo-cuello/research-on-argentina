{
 "cells": [
  {
   "cell_type": "markdown",
   "metadata": {},
   "source": [
    "Imputation by K-NN"
   ]
  },
  {
   "cell_type": "markdown",
   "metadata": {},
   "source": [
    "For using this type of imputation, you must sort the variables by missingness"
   ]
  },
  {
   "cell_type": "code",
   "execution_count": null,
   "metadata": {
    "vscode": {
     "languageId": "plaintext"
    }
   },
   "outputs": [],
   "source": [
    "knn_imputer = sklearn.impute.KNNImputer(n_neighbors=5)\n",
    "\n",
    "arg_di_df_knn = arg_di_df.missing.sort_variables_by_missingness(ascending=True).copy()\n",
    "arg_di_df_knn.iloc[:,:] = knn_imputer.fit_transform(arg_di_df_knn)\n",
    "arg_di_df_knn.head(5)\n",
    "\n",
    "(\n",
    "    pd.concat(\n",
    "        [\n",
    "            arg_di_df_knn,\n",
    "            arg_di_df.missing.create_shadow_matrix(True, False, suffix=\"_imp\", only_missing=True)\n",
    "        ],\n",
    "        axis=1\n",
    "    )\n",
    "    .missing.scatter_imputation_plot(x=columns_with_missing_values[0], y=columns_with_missing_values[1],show_marginal=True)\n",
    ")"
   ]
  }
 ],
 "metadata": {
  "language_info": {
   "name": "python"
  }
 },
 "nbformat": 4,
 "nbformat_minor": 2
}
