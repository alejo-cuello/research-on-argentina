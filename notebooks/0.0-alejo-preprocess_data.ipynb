{
 "cells": [
  {
   "cell_type": "markdown",
   "metadata": {},
   "source": [
    "## Preprocessing data"
   ]
  },
  {
   "cell_type": "code",
   "execution_count": 1,
   "metadata": {},
   "outputs": [],
   "source": [
    "import pandas as pd\n",
    "import re"
   ]
  },
  {
   "cell_type": "markdown",
   "metadata": {},
   "source": [
    "### Filtering data by country and indicator code "
   ]
  },
  {
   "cell_type": "code",
   "execution_count": 2,
   "metadata": {},
   "outputs": [],
   "source": [
    "input_df = pd.read_csv(\"../data/raw/WDICSV.csv\")\n",
    "\n",
    "arg_indicators_df = input_df[input_df[\"Country Code\"] == \"ARG\"]"
   ]
  },
  {
   "cell_type": "markdown",
   "metadata": {},
   "source": [
    "I selected the next code Indicators from the raw data to analyze them in this project "
   ]
  },
  {
   "cell_type": "code",
   "execution_count": 3,
   "metadata": {},
   "outputs": [
    {
     "data": {
      "text/plain": [
       "96"
      ]
     },
     "execution_count": 3,
     "metadata": {},
     "output_type": "execute_result"
    }
   ],
   "source": [
    "selected_indicators = [\n",
    "    \"EG.ELC.ACCS.ZS\",\n",
    "    \"FX.OWN.TOTL.ZS\",\n",
    "    \"FX.OWN.TOTL.OL.ZS\",\n",
    "    \"FX.OWN.TOTL.40.ZS\",\n",
    "    \"FX.OWN.TOTL.PL.ZS\",\n",
    "    \"FX.OWN.TOTL.60.ZS\",\n",
    "    \"FX.OWN.TOTL.SO.ZS\",\n",
    "    \"FX.OWN.TOTL.YG.ZS\",\n",
    "    \"per_si_allsi.adq_pop_tot\",\n",
    "    \"per_allsp.adq_pop_tot\",\n",
    "    \"per_sa_allsa.adq_pop_tot\",\n",
    "    \"per_lm_alllm.adq_pop_tot\",\n",
    "    \"SE.PRM.TENR\",\n",
    "    \"SL.TLF.0714.SW.TM\",\n",
    "    \"SL.TLF.0714.WK.TM\",\n",
    "    \"per_si_allsi.ben_q1_tot\",\n",
    "    \"per_allsp.ben_q1_tot\",\n",
    "    \"per_sa_allsa.ben_q1_tot\",\n",
    "    \"per_lm_alllm.ben_q1_tot\",\n",
    "    \"SL.TLF.0714.ZS\",\n",
    "    \"SE.PRM.UNER\",\n",
    "    \"SE.COM.DURS\",\n",
    "    \"per_si_allsi.cov_pop_tot\",\n",
    "    \"per_allsp.cov_pop_tot\",\n",
    "    \"per_sa_allsa.cov_pop_tot\",\n",
    "    \"per_lm_alllm.cov_pop_tot\",\n",
    "    \"SE.XPD.CPRM.ZS\",\n",
    "    \"SE.XPD.CSEC.ZS\",\n",
    "    \"SE.XPD.CTER.ZS\",\n",
    "    \"SE.XPD.CTOT.ZS\",\n",
    "    \"SH.XPD.CHEX.GD.ZS\",\n",
    "    \"SE.TER.CUAT.BA.ZS\",\n",
    "    \"SE.SEC.CUAT.LO.ZS\",\n",
    "    \"SE.SEC.CUAT.PO.ZS\",\n",
    "    \"SE.PRM.CUAT.ZS\",\n",
    "    \"SE.TER.CUAT.ST.ZS\",\n",
    "    \"SE.SEC.CUAT.UP.ZS\",\n",
    "    \"SE.TER.CUAT.MS.ZS\",\n",
    "    \"SE.TER.CUAT.DO.ZS\",\n",
    "    \"SL.EMP.MPYR.ZS\",\n",
    "    \"SE.XPD.PRIM.ZS\",\n",
    "    \"SE.XPD.SECO.ZS\",\n",
    "    \"SE.XPD.TERT.ZS\",\n",
    "    \"IT.NET.BBND\",\n",
    "    \"IT.MLT.MAIN\",\n",
    "    \"NY.GDP.MKTP.KD\",\n",
    "    \"NY.GDP.MKTP.KD.ZG\",\n",
    "    \"NY.GDP.PCAP.KD\",\n",
    "    \"NY.GDP.PCAP.KD.ZG\",\n",
    "    \"SI.POV.GINI\",\n",
    "    \"IT.NET.USER.ZS\",\n",
    "    \"SL.TLF.ADVN.ZS\",\n",
    "    \"SL.TLF.BASC.ZS\",\n",
    "    \"SL.TLF.INTM.ZS\",\n",
    "    \"SL.TLF.TOTL.IN\",\n",
    "    \"SP.DYN.LE00.IN\",\n",
    "    \"SE.ADT.LITR.ZS\",\n",
    "    \"SE.ADT.1524.LT.ZS\",\n",
    "    \"IT.CEL.SETS\",\n",
    "    \"SH.DTH.1014\",\n",
    "    \"SH.DTH.1519\",\n",
    "    \"SH.DTH.2024\",\n",
    "    \"SH.DTH.0509\",\n",
    "    \"SH.DTH.IMRT\",\n",
    "    \"SH.DTH.MORT\",\n",
    "    \"SE.PRM.OENR.ZS\",\n",
    "    \"SL.TLF.PART.ZS\",\n",
    "    \"SH.STA.SMSS.ZS\",\n",
    "    \"SP.POP.0014.TO.ZS\",\n",
    "    \"SP.POP.1564.TO.ZS\",\n",
    "    \"SP.POP.65UP.TO.ZS\",\n",
    "    \"SP.POP.TOTL\",\n",
    "    \"SE.PRM.CMPT.ZS\",\n",
    "    \"SE.LPV.PRIM.SD\",\n",
    "    \"SE.PRM.AGES\",\n",
    "    \"SE.LPV.PRIM.LD\",\n",
    "    \"SE.PRE.ENRL.TC.ZS\",\n",
    "    \"SE.PRM.ENRL.TC.ZS\",\n",
    "    \"SE.SEC.ENRL.TC.ZS\",\n",
    "    \"SE.TER.ENRL.TC.ZS\",\n",
    "    \"SE.SEC.ENRL.UP.TC.ZS\",\n",
    "    \"SM.POP.REFG\",\n",
    "    \"SM.POP.REFG.OR\",\n",
    "    \"SP.RUR.TOTL.ZS\",\n",
    "    \"SE.PRE.ENRR\",\n",
    "    \"SE.PRM.ENRR\",\n",
    "    \"SE.SEC.ENRR\",\n",
    "    \"SE.TER.ENRR\",\n",
    "    \"SE.SEC.DURS\",\n",
    "    \"SL.EMP.SELF.ZS\",\n",
    "    \"SL.UEM.NEET.ME.ZS\",\n",
    "    \"SL.UEM.ADVN.ZS\",\n",
    "    \"SL.UEM.BASC.ZS\",\n",
    "    \"SL.UEM.INTM.ZS\",\n",
    "    \"SL.UEM.TOTL.ZS\",\n",
    "    \"SP.URB.TOTL.IN.ZS\"\n",
    "]\n",
    "\n",
    "len(selected_indicators)"
   ]
  },
  {
   "cell_type": "markdown",
   "metadata": {},
   "source": [
    "### Code cell for filtering by Indicator Name\n",
    "This code cell it's useful to filter the raw data by Indicator Name. It's not necessary if you are filterin by Indicator Code or ID"
   ]
  },
  {
   "cell_type": "code",
   "execution_count": 4,
   "metadata": {},
   "outputs": [
    {
     "data": {
      "text/plain": [
       "0"
      ]
     },
     "execution_count": 4,
     "metadata": {},
     "output_type": "execute_result"
    }
   ],
   "source": [
    "escaped_strings = [re.escape(column) for column in selected_indicators]\n",
    "pattern = \"|\".join(escaped_strings)\n",
    "\n",
    "indicators_df = arg_indicators_df[arg_indicators_df[\"Indicator Name\"].str.contains(pattern, case=False, na=False)]\n",
    "\n",
    "different_values = list(set(indicators_df[\"Indicator Name\"].unique().tolist()) - set(selected_indicators))\n",
    "\n",
    "indicators_df = indicators_df[~(indicators_df[\"Indicator Name\"].isin(different_values))]\n",
    "indicators_df.shape[0]\n"
   ]
  },
  {
   "cell_type": "markdown",
   "metadata": {},
   "source": [
    "### Code cell for filtering by Indicator Code"
   ]
  },
  {
   "cell_type": "code",
   "execution_count": 5,
   "metadata": {},
   "outputs": [
    {
     "data": {
      "text/plain": [
       "96"
      ]
     },
     "execution_count": 5,
     "metadata": {},
     "output_type": "execute_result"
    }
   ],
   "source": [
    "indicators_df = arg_indicators_df[arg_indicators_df[\"Indicator Code\"].isin(selected_indicators)]\n",
    "indicators_df.shape[0]"
   ]
  },
  {
   "cell_type": "markdown",
   "metadata": {},
   "source": [
    "### Creating a df dictionary and indexing data by indicator code"
   ]
  },
  {
   "cell_type": "code",
   "execution_count": 10,
   "metadata": {},
   "outputs": [],
   "source": [
    "def get_snake_case(x):\n",
    "    # Replace spaces or hyphens with underscores\n",
    "    x = re.sub(r\"[\\s\\-.]+\", \"_\", x)\n",
    "    # Add an underscore before any uppercase letter preceded by a lowercase or digit\n",
    "    x = re.sub(r\"(?<=[a-z0-9])([A-Z])\", r\"_\\1\", x)\n",
    "    # Convert the entire string to lowercase\n",
    "    x = x.lower()\n",
    "    return x.strip(\"_\")  # Remove leading/trailing underscores\n",
    "\n",
    "df_dictionary = indicators_df[[\"Indicator Name\", \"Indicator Code\"]].copy()\n",
    "df_dictionary[\"Indicator Code Snake Case\"] = df_dictionary[\"Indicator Code\"].apply(get_snake_case)\n",
    "df_dictionary = (\n",
    "    pd.concat(\n",
    "        [\n",
    "            df_dictionary,\n",
    "            pd.DataFrame(\n",
    "                {\n",
    "                    \"Indicator Code\": [\"year\"],\n",
    "                    \"Indicator Code Snake Case\": [\"year\"],\n",
    "                    \"Indicator Name\": [\"year\"]\n",
    "                }\n",
    "            ),\n",
    "        ],\n",
    "        ignore_index=True\n",
    "    )\n",
    ")\n",
    "\n",
    "transposed_indicators_df = indicators_df.drop([\"Country Code\",\"Country Name\", \"Indicator Name\"], axis=1, inplace=False).set_index(\"Indicator Code\").T"
   ]
  },
  {
   "cell_type": "code",
   "execution_count": 12,
   "metadata": {},
   "outputs": [
    {
     "data": {
      "text/plain": [
       "(64, 96)"
      ]
     },
     "execution_count": 12,
     "metadata": {},
     "output_type": "execute_result"
    }
   ],
   "source": [
    "transposed_indicators_df.shape"
   ]
  },
  {
   "cell_type": "markdown",
   "metadata": {},
   "source": [
    "### Saving the interim data\n",
    "I'll save the interim data and a dataFrame dictionary, where I'll store the relationship between indicator codes and names "
   ]
  },
  {
   "cell_type": "code",
   "execution_count": 9,
   "metadata": {},
   "outputs": [],
   "source": [
    "transposed_indicators_df.to_csv(\"../data/interim/WDICSV_INTERIM.csv\", index_label=\"Year\")\n",
    "df_dictionary.to_csv(\"../data/utils/DF_DICTIONARY.csv\", index=False, quoting=1)"
   ]
  }
 ],
 "metadata": {
  "kernelspec": {
   "display_name": "base",
   "language": "python",
   "name": "python3"
  },
  "language_info": {
   "codemirror_mode": {
    "name": "ipython",
    "version": 3
   },
   "file_extension": ".py",
   "mimetype": "text/x-python",
   "name": "python",
   "nbconvert_exporter": "python",
   "pygments_lexer": "ipython3",
   "version": "3.11.5"
  }
 },
 "nbformat": 4,
 "nbformat_minor": 2
}
