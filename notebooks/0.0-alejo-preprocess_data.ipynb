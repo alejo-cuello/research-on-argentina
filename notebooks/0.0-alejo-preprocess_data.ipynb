{
 "cells": [
  {
   "cell_type": "markdown",
   "metadata": {},
   "source": [
    "# Import libraries"
   ]
  },
  {
   "cell_type": "code",
   "execution_count": 1,
   "metadata": {},
   "outputs": [],
   "source": [
    "import pandas as pd\n",
    "import re\n",
    "import session_info"
   ]
  },
  {
   "cell_type": "markdown",
   "metadata": {},
   "source": [
    "# Filter data by country and indicator code "
   ]
  },
  {
   "cell_type": "code",
   "execution_count": 2,
   "metadata": {},
   "outputs": [],
   "source": [
    "input_df = pd.read_csv(\"../data/raw/WDICSV.csv\")\n",
    "\n",
    "arg_indicators_df = input_df[input_df[\"Country Code\"] == \"ARG\"]"
   ]
  },
  {
   "cell_type": "markdown",
   "metadata": {},
   "source": [
    "I selected the next code Indicators from the raw data to analyze them in this project "
   ]
  },
  {
   "cell_type": "code",
   "execution_count": 3,
   "metadata": {},
   "outputs": [
    {
     "data": {
      "text/plain": [
       "96"
      ]
     },
     "execution_count": 3,
     "metadata": {},
     "output_type": "execute_result"
    }
   ],
   "source": [
    "selected_indicators = [\n",
    "    \"EG.ELC.ACCS.ZS\",\n",
    "    \"FX.OWN.TOTL.ZS\",\n",
    "    \"FX.OWN.TOTL.OL.ZS\",\n",
    "    \"FX.OWN.TOTL.40.ZS\",\n",
    "    \"FX.OWN.TOTL.PL.ZS\",\n",
    "    \"FX.OWN.TOTL.60.ZS\",\n",
    "    \"FX.OWN.TOTL.SO.ZS\",\n",
    "    \"FX.OWN.TOTL.YG.ZS\",\n",
    "    \"per_si_allsi.adq_pop_tot\",\n",
    "    \"per_allsp.adq_pop_tot\",\n",
    "    \"per_sa_allsa.adq_pop_tot\",\n",
    "    \"per_lm_alllm.adq_pop_tot\",\n",
    "    \"SE.PRM.TENR\",\n",
    "    \"SL.TLF.0714.SW.TM\",\n",
    "    \"SL.TLF.0714.WK.TM\",\n",
    "    \"per_si_allsi.ben_q1_tot\",\n",
    "    \"per_allsp.ben_q1_tot\",\n",
    "    \"per_sa_allsa.ben_q1_tot\",\n",
    "    \"per_lm_alllm.ben_q1_tot\",\n",
    "    \"SL.TLF.0714.ZS\",\n",
    "    \"SE.PRM.UNER\",\n",
    "    \"SE.COM.DURS\",\n",
    "    \"per_si_allsi.cov_pop_tot\",\n",
    "    \"per_allsp.cov_pop_tot\",\n",
    "    \"per_sa_allsa.cov_pop_tot\",\n",
    "    \"per_lm_alllm.cov_pop_tot\",\n",
    "    \"SE.XPD.CPRM.ZS\",\n",
    "    \"SE.XPD.CSEC.ZS\",\n",
    "    \"SE.XPD.CTER.ZS\",\n",
    "    \"SE.XPD.CTOT.ZS\",\n",
    "    \"SH.XPD.CHEX.GD.ZS\",\n",
    "    \"SE.TER.CUAT.BA.ZS\",\n",
    "    \"SE.SEC.CUAT.LO.ZS\",\n",
    "    \"SE.SEC.CUAT.PO.ZS\",\n",
    "    \"SE.PRM.CUAT.ZS\",\n",
    "    \"SE.TER.CUAT.ST.ZS\",\n",
    "    \"SE.SEC.CUAT.UP.ZS\",\n",
    "    \"SE.TER.CUAT.MS.ZS\",\n",
    "    \"SE.TER.CUAT.DO.ZS\",\n",
    "    \"SL.EMP.MPYR.ZS\",\n",
    "    \"SE.XPD.PRIM.ZS\",\n",
    "    \"SE.XPD.SECO.ZS\",\n",
    "    \"SE.XPD.TERT.ZS\",\n",
    "    \"IT.NET.BBND\",\n",
    "    \"IT.MLT.MAIN\",\n",
    "    \"NY.GDP.MKTP.KD\",\n",
    "    \"NY.GDP.MKTP.KD.ZG\",\n",
    "    \"NY.GDP.PCAP.KD\",\n",
    "    \"NY.GDP.PCAP.KD.ZG\",\n",
    "    \"SI.POV.GINI\",\n",
    "    \"IT.NET.USER.ZS\",\n",
    "    \"SL.TLF.ADVN.ZS\",\n",
    "    \"SL.TLF.BASC.ZS\",\n",
    "    \"SL.TLF.INTM.ZS\",\n",
    "    \"SL.TLF.TOTL.IN\",\n",
    "    \"SP.DYN.LE00.IN\",\n",
    "    \"SE.ADT.LITR.ZS\",\n",
    "    \"SE.ADT.1524.LT.ZS\",\n",
    "    \"IT.CEL.SETS\",\n",
    "    \"SH.DTH.1014\",\n",
    "    \"SH.DTH.1519\",\n",
    "    \"SH.DTH.2024\",\n",
    "    \"SH.DTH.0509\",\n",
    "    \"SH.DTH.IMRT\",\n",
    "    \"SH.DTH.MORT\",\n",
    "    \"SE.PRM.OENR.ZS\",\n",
    "    \"SL.TLF.PART.ZS\",\n",
    "    \"SH.STA.SMSS.ZS\",\n",
    "    \"SP.POP.0014.TO.ZS\",\n",
    "    \"SP.POP.1564.TO.ZS\",\n",
    "    \"SP.POP.65UP.TO.ZS\",\n",
    "    \"SP.POP.TOTL\",\n",
    "    \"SE.PRM.CMPT.ZS\",\n",
    "    \"SE.LPV.PRIM.SD\",\n",
    "    \"SE.PRM.AGES\",\n",
    "    \"SE.LPV.PRIM.LD\",\n",
    "    \"SE.PRE.ENRL.TC.ZS\",\n",
    "    \"SE.PRM.ENRL.TC.ZS\",\n",
    "    \"SE.SEC.ENRL.TC.ZS\",\n",
    "    \"SE.TER.ENRL.TC.ZS\",\n",
    "    \"SE.SEC.ENRL.UP.TC.ZS\",\n",
    "    \"SM.POP.REFG\",\n",
    "    \"SM.POP.REFG.OR\",\n",
    "    \"SP.RUR.TOTL.ZS\",\n",
    "    \"SE.PRE.ENRR\",\n",
    "    \"SE.PRM.ENRR\",\n",
    "    \"SE.SEC.ENRR\",\n",
    "    \"SE.TER.ENRR\",\n",
    "    \"SE.SEC.DURS\",\n",
    "    \"SL.EMP.SELF.ZS\",\n",
    "    \"SL.UEM.NEET.ME.ZS\",\n",
    "    \"SL.UEM.ADVN.ZS\",\n",
    "    \"SL.UEM.BASC.ZS\",\n",
    "    \"SL.UEM.INTM.ZS\",\n",
    "    \"SL.UEM.TOTL.ZS\",\n",
    "    \"SP.URB.TOTL.IN.ZS\"\n",
    "]\n",
    "\n",
    "len(selected_indicators)"
   ]
  },
  {
   "cell_type": "markdown",
   "metadata": {},
   "source": [
    "## Code cell for filtering by Indicator Name"
   ]
  },
  {
   "cell_type": "markdown",
   "metadata": {},
   "source": [
    "This code cell it's useful to filter the raw data by Indicator Name. It's not necessary if you are filterin by Indicator Code or ID"
   ]
  },
  {
   "cell_type": "code",
   "execution_count": 4,
   "metadata": {},
   "outputs": [
    {
     "data": {
      "text/plain": [
       "0"
      ]
     },
     "execution_count": 4,
     "metadata": {},
     "output_type": "execute_result"
    }
   ],
   "source": [
    "escaped_strings = [re.escape(column) for column in selected_indicators]\n",
    "pattern = \"|\".join(escaped_strings)\n",
    "\n",
    "indicators_df = arg_indicators_df[arg_indicators_df[\"Indicator Name\"].str.contains(pattern, case=False, na=False)]\n",
    "\n",
    "different_values = list(set(indicators_df[\"Indicator Name\"].unique().tolist()) - set(selected_indicators))\n",
    "\n",
    "indicators_df = indicators_df[~(indicators_df[\"Indicator Name\"].isin(different_values))]\n",
    "indicators_df.shape[0]\n"
   ]
  },
  {
   "cell_type": "markdown",
   "metadata": {},
   "source": [
    "## Code cell for filtering by Indicator Code"
   ]
  },
  {
   "cell_type": "code",
   "execution_count": 5,
   "metadata": {},
   "outputs": [
    {
     "data": {
      "text/plain": [
       "96"
      ]
     },
     "execution_count": 5,
     "metadata": {},
     "output_type": "execute_result"
    }
   ],
   "source": [
    "indicators_df = arg_indicators_df[arg_indicators_df[\"Indicator Code\"].isin(selected_indicators)]\n",
    "indicators_df.shape[0]"
   ]
  },
  {
   "cell_type": "markdown",
   "metadata": {},
   "source": [
    "# Create a DataFrame dictionary and index data by indicator code"
   ]
  },
  {
   "cell_type": "code",
   "execution_count": 6,
   "metadata": {},
   "outputs": [
    {
     "data": {
      "text/html": [
       "<div>\n",
       "<style scoped>\n",
       "    .dataframe tbody tr th:only-of-type {\n",
       "        vertical-align: middle;\n",
       "    }\n",
       "\n",
       "    .dataframe tbody tr th {\n",
       "        vertical-align: top;\n",
       "    }\n",
       "\n",
       "    .dataframe thead th {\n",
       "        text-align: right;\n",
       "    }\n",
       "</style>\n",
       "<table border=\"1\" class=\"dataframe\">\n",
       "  <thead>\n",
       "    <tr style=\"text-align: right;\">\n",
       "      <th></th>\n",
       "      <th>Indicator Name</th>\n",
       "      <th>Indicator Code</th>\n",
       "      <th>Indicator Code Snake Case</th>\n",
       "      <th>Indicator Name in Spanish</th>\n",
       "    </tr>\n",
       "  </thead>\n",
       "  <tbody>\n",
       "    <tr>\n",
       "      <th>0</th>\n",
       "      <td>Access to electricity (% of population)</td>\n",
       "      <td>EG.ELC.ACCS.ZS</td>\n",
       "      <td>eg_elc_accs_zs</td>\n",
       "      <td>Acceso a la electricidad (% de la población)</td>\n",
       "    </tr>\n",
       "    <tr>\n",
       "      <th>1</th>\n",
       "      <td>Account ownership at a financial institution o...</td>\n",
       "      <td>FX.OWN.TOTL.ZS</td>\n",
       "      <td>fx_own_totl_zs</td>\n",
       "      <td>Titularidad de cuenta en una institución finan...</td>\n",
       "    </tr>\n",
       "    <tr>\n",
       "      <th>2</th>\n",
       "      <td>Account ownership at a financial institution o...</td>\n",
       "      <td>FX.OWN.TOTL.OL.ZS</td>\n",
       "      <td>fx_own_totl_ol_zs</td>\n",
       "      <td>Titularidad de cuenta en una institución finan...</td>\n",
       "    </tr>\n",
       "    <tr>\n",
       "      <th>3</th>\n",
       "      <td>Account ownership at a financial institution o...</td>\n",
       "      <td>FX.OWN.TOTL.40.ZS</td>\n",
       "      <td>fx_own_totl_40_zs</td>\n",
       "      <td>Titularidad de cuenta en una institución finan...</td>\n",
       "    </tr>\n",
       "    <tr>\n",
       "      <th>4</th>\n",
       "      <td>Account ownership at a financial institution o...</td>\n",
       "      <td>FX.OWN.TOTL.PL.ZS</td>\n",
       "      <td>fx_own_totl_pl_zs</td>\n",
       "      <td>Titularidad de cuenta en una institución finan...</td>\n",
       "    </tr>\n",
       "  </tbody>\n",
       "</table>\n",
       "</div>"
      ],
      "text/plain": [
       "                                      Indicator Name     Indicator Code  \\\n",
       "0            Access to electricity (% of population)     EG.ELC.ACCS.ZS   \n",
       "1  Account ownership at a financial institution o...     FX.OWN.TOTL.ZS   \n",
       "2  Account ownership at a financial institution o...  FX.OWN.TOTL.OL.ZS   \n",
       "3  Account ownership at a financial institution o...  FX.OWN.TOTL.40.ZS   \n",
       "4  Account ownership at a financial institution o...  FX.OWN.TOTL.PL.ZS   \n",
       "\n",
       "  Indicator Code Snake Case                          Indicator Name in Spanish  \n",
       "0            eg_elc_accs_zs       Acceso a la electricidad (% de la población)  \n",
       "1            fx_own_totl_zs  Titularidad de cuenta en una institución finan...  \n",
       "2         fx_own_totl_ol_zs  Titularidad de cuenta en una institución finan...  \n",
       "3         fx_own_totl_40_zs  Titularidad de cuenta en una institución finan...  \n",
       "4         fx_own_totl_pl_zs  Titularidad de cuenta en una institución finan...  "
      ]
     },
     "execution_count": 6,
     "metadata": {},
     "output_type": "execute_result"
    }
   ],
   "source": [
    "def get_snake_case(x):\n",
    "    # Replace spaces or hyphens with underscores\n",
    "    x = re.sub(r\"[\\s\\-.]+\", \"_\", x)\n",
    "    # Add an underscore before any uppercase letter preceded by a lowercase or digit\n",
    "    x = re.sub(r\"(?<=[a-z0-9])([A-Z])\", r\"_\\1\", x)\n",
    "    # Convert the entire string to lowercase\n",
    "    x = x.lower()\n",
    "    return x.strip(\"_\")  # Remove leading/trailing underscores\n",
    "\n",
    "\n",
    "df_dictionary = indicators_df[[\"Indicator Name\", \"Indicator Code\"]].copy()\n",
    "df_dictionary[\"Indicator Code Snake Case\"] = df_dictionary[\"Indicator Code\"].apply(get_snake_case)\n",
    "\n",
    "wdi_translations = pd.read_csv(\"../data/utils/WDI_TRANSLATIONS.csv\",index_col=\"Indicator Code\") #File generated with ChatGPT\n",
    "\n",
    "df_dictionary[\"Indicator Name in Spanish\"] = (\n",
    "    df_dictionary[\"Indicator Code\"]\n",
    "        .map(wdi_translations[\"Indicator Name in Spanish\"])\n",
    "        .fillna(\"\")\n",
    ")\n",
    "\n",
    "df_dictionary = (\n",
    "    pd.concat(\n",
    "        [\n",
    "            df_dictionary,\n",
    "            pd.DataFrame(\n",
    "                {\n",
    "                    \"Indicator Code\": [\"year\"],\n",
    "                    \"Indicator Code Snake Case\": [\"year\"],\n",
    "                    \"Indicator Name\": [\"Year\"],\n",
    "                    \"Indicator Name in Spanish\": [\"Año\"]\n",
    "                }\n",
    "            ),\n",
    "        ],\n",
    "        ignore_index=True\n",
    "    )\n",
    ")\n",
    "\n",
    "transposed_indicators_df = indicators_df.drop([\"Country Code\", \"Country Name\", \"Indicator Name\"], axis=1, inplace=False).set_index(\"Indicator Code\").T\n",
    "\n",
    "df_dictionary.head(5)"
   ]
  },
  {
   "cell_type": "code",
   "execution_count": 7,
   "metadata": {},
   "outputs": [
    {
     "data": {
      "text/plain": [
       "(64, 96)"
      ]
     },
     "execution_count": 7,
     "metadata": {},
     "output_type": "execute_result"
    }
   ],
   "source": [
    "transposed_indicators_df.shape"
   ]
  },
  {
   "cell_type": "markdown",
   "metadata": {},
   "source": [
    "# Save the interim data"
   ]
  },
  {
   "cell_type": "markdown",
   "metadata": {},
   "source": [
    "I'll save the interim data and a dataFrame dictionary, where I'll store the relationship between indicator codes and names "
   ]
  },
  {
   "cell_type": "code",
   "execution_count": 8,
   "metadata": {},
   "outputs": [],
   "source": [
    "transposed_indicators_df.to_csv(\"../data/interim/WDICSV_INTERIM.csv\", index_label=\"Year\")\n",
    "df_dictionary.to_csv(\"../data/utils/DF_DICTIONARY.csv\", index=False, quoting=1)"
   ]
  },
  {
   "cell_type": "markdown",
   "metadata": {},
   "source": [
    "# Session Info"
   ]
  },
  {
   "cell_type": "code",
   "execution_count": 9,
   "metadata": {},
   "outputs": [
    {
     "data": {
      "text/html": [
       "<details>\n",
       "<summary>Click to view session information</summary>\n",
       "<pre>\n",
       "-----\n",
       "pandas              2.1.4\n",
       "session_info        v1.0.1\n",
       "-----\n",
       "</pre>\n",
       "<details>\n",
       "<summary>Click to view modules imported as dependencies</summary>\n",
       "<pre>\n",
       "anyio                       NA\n",
       "arrow                       1.2.3\n",
       "asttokens                   NA\n",
       "attr                        23.1.0\n",
       "attrs                       23.1.0\n",
       "babel                       2.11.0\n",
       "bottleneck                  1.3.5\n",
       "brotli                      1.0.9\n",
       "certifi                     2025.04.26\n",
       "chardet                     4.0.0\n",
       "charset_normalizer          2.0.4\n",
       "cloudpickle                 2.2.1\n",
       "colorama                    0.4.6\n",
       "comm                        0.1.2\n",
       "cython_runtime              NA\n",
       "dateutil                    2.8.2\n",
       "debugpy                     1.6.7\n",
       "decorator                   5.1.1\n",
       "executing                   0.8.3\n",
       "fastjsonschema              NA\n",
       "fqdn                        NA\n",
       "idna                        3.4\n",
       "ipykernel                   6.28.0\n",
       "ipywidgets                  8.0.4\n",
       "isoduration                 NA\n",
       "jedi                        0.18.1\n",
       "jinja2                      3.1.3\n",
       "json5                       NA\n",
       "jsonpointer                 2.1\n",
       "jsonschema                  4.19.2\n",
       "jsonschema_specifications   NA\n",
       "jupyter_events              0.8.0\n",
       "jupyter_server              2.10.0\n",
       "jupyterlab_server           2.25.1\n",
       "markupsafe                  2.1.3\n",
       "mkl                         2.4.0\n",
       "nbformat                    5.9.2\n",
       "numexpr                     2.8.7\n",
       "numpy                       1.26.3\n",
       "overrides                   NA\n",
       "packaging                   24.2\n",
       "parso                       0.8.3\n",
       "pexpect                     4.8.0\n",
       "pickleshare                 0.7.5\n",
       "pkg_resources               NA\n",
       "platformdirs                3.10.0\n",
       "prometheus_client           NA\n",
       "prompt_toolkit              3.0.43\n",
       "psutil                      5.9.0\n",
       "ptyprocess                  0.7.0\n",
       "pure_eval                   0.2.2\n",
       "pyarrow                     14.0.2\n",
       "pydev_ipython               NA\n",
       "pydevconsole                NA\n",
       "pydevd                      2.9.5\n",
       "pydevd_file_utils           NA\n",
       "pydevd_plugins              NA\n",
       "pydevd_tracing              NA\n",
       "pygments                    2.15.1\n",
       "pythonjsonlogger            NA\n",
       "pytz                        2023.3.post1\n",
       "referencing                 NA\n",
       "requests                    2.32.3\n",
       "rfc3339_validator           0.1.4\n",
       "rfc3986_validator           0.1.1\n",
       "rpds                        NA\n",
       "ruamel                      NA\n",
       "send2trash                  NA\n",
       "six                         1.16.0\n",
       "sniffio                     1.3.0\n",
       "socks                       1.7.1\n",
       "sphinxcontrib               NA\n",
       "stack_data                  0.2.0\n",
       "tornado                     6.3.3\n",
       "traitlets                   5.7.1\n",
       "typing_extensions           NA\n",
       "uri_template                NA\n",
       "urllib3                     2.0.7\n",
       "vscode                      NA\n",
       "wcwidth                     0.2.5\n",
       "webcolors                   NA\n",
       "websocket                   0.58.0\n",
       "yaml                        6.0.1\n",
       "zmq                         25.1.2\n",
       "zope                        NA\n",
       "zstandard                   0.19.0\n",
       "</pre>\n",
       "</details> <!-- seems like this ends pre, so might as well be explicit -->\n",
       "<pre>\n",
       "-----\n",
       "IPython             8.20.0\n",
       "jupyter_client      8.6.0\n",
       "jupyter_core        5.5.0\n",
       "jupyterlab          4.0.11\n",
       "notebook            7.0.6\n",
       "-----\n",
       "Python 3.11.5 (main, Sep 11 2023, 13:54:46) [GCC 11.2.0]\n",
       "Linux-5.15.167.4-microsoft-standard-WSL2-x86_64-with-glibc2.35\n",
       "-----\n",
       "Session information updated at 2025-07-12 22:03\n",
       "</pre>\n",
       "</details>"
      ],
      "text/plain": [
       "<IPython.core.display.HTML object>"
      ]
     },
     "execution_count": 9,
     "metadata": {},
     "output_type": "execute_result"
    }
   ],
   "source": [
    "try:\n",
    "    session_info_output = session_info.show()\n",
    "except Exception as error:\n",
    "    print(\"The session info has been requested already:\")\n",
    "    \n",
    "session_info_output"
   ]
  }
 ],
 "metadata": {
  "kernelspec": {
   "display_name": "base",
   "language": "python",
   "name": "python3"
  },
  "language_info": {
   "codemirror_mode": {
    "name": "ipython",
    "version": 3
   },
   "file_extension": ".py",
   "mimetype": "text/x-python",
   "name": "python",
   "nbconvert_exporter": "python",
   "pygments_lexer": "ipython3",
   "version": "3.11.5"
  }
 },
 "nbformat": 4,
 "nbformat_minor": 2
}
