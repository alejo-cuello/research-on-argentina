{
 "cells": [
  {
   "cell_type": "code",
   "execution_count": 108,
   "metadata": {},
   "outputs": [],
   "source": [
    "import numpy as np\n",
    "import matplotlib.pyplot as plt\n",
    "import seaborn as sns\n",
    "import session_info\n",
    "from sklearn.experimental import enable_iterative_imputer\n",
    "from sklearn.impute import IterativeImputer\n",
    "from sklearn.linear_model import Ridge\n",
    "from sklearn.model_selection import train_test_split\n",
    "from sklearn.linear_model import LinearRegression\n",
    "import sklearn.metrics as metrics\n",
    "import statsmodels.api as sm"
   ]
  },
  {
   "cell_type": "code",
   "execution_count": 45,
   "metadata": {},
   "outputs": [
    {
     "name": "stderr",
     "output_type": "stream",
     "text": [
      "/home/ubuntu/anaconda3/lib/python3.11/site-packages/session_info/main.py:213: DeprecationWarning: Accessing jsonschema.__version__ is deprecated and will be removed in a future release. Use importlib.metadata directly to query for jsonschema's version.\n",
      "  mod_version = _find_version(mod.__version__)\n"
     ]
    },
    {
     "data": {
      "text/html": [
       "<details>\n",
       "<summary>Click to view session information</summary>\n",
       "<pre>\n",
       "-----\n",
       "janitor             0.31.0\n",
       "matplotlib          3.7.2\n",
       "pandas              2.0.3\n",
       "scipy               1.11.1\n",
       "seaborn             0.12.2\n",
       "session_info        1.0.0\n",
       "sklearn             1.3.0\n",
       "statsmodels         0.14.0\n",
       "upsetplot           0.9.0\n",
       "-----\n",
       "</pre>\n",
       "<details>\n",
       "<summary>Click to view modules imported as dependencies</summary>\n",
       "<pre>\n",
       "PIL                 9.4.0\n",
       "anyio               NA\n",
       "asttokens           NA\n",
       "attr                22.1.0\n",
       "babel               2.11.0\n",
       "backcall            0.2.0\n",
       "bottleneck          1.3.5\n",
       "brotli              NA\n",
       "certifi             2025.01.31\n",
       "cffi                1.15.1\n",
       "chardet             4.0.0\n",
       "charset_normalizer  2.0.4\n",
       "cloudpickle         2.2.1\n",
       "colorama            0.4.6\n",
       "comm                0.1.2\n",
       "cycler              0.10.0\n",
       "cython_runtime      NA\n",
       "cytoolz             0.12.0\n",
       "dask                2023.6.0\n",
       "dateutil            2.8.2\n",
       "debugpy             1.6.7\n",
       "decorator           5.1.1\n",
       "defusedxml          0.7.1\n",
       "entrypoints         0.4\n",
       "executing           0.8.3\n",
       "fastjsonschema      NA\n",
       "idna                3.4\n",
       "importlib_metadata  NA\n",
       "ipykernel           6.25.0\n",
       "ipython_genutils    0.2.0\n",
       "ipywidgets          8.0.4\n",
       "jedi                0.18.1\n",
       "jinja2              3.1.2\n",
       "joblib              1.2.0\n",
       "json5               NA\n",
       "jsonpointer         2.1\n",
       "jsonschema          4.17.3\n",
       "jupyter_server      1.23.4\n",
       "jupyterlab_server   2.22.0\n",
       "kiwisolver          1.4.4\n",
       "lz4                 4.3.2\n",
       "markupsafe          2.1.1\n",
       "matplotlib_inline   0.1.6\n",
       "mkl                 2.4.0\n",
       "mpl_toolkits        NA\n",
       "multipledispatch    0.6.0\n",
       "natsort             8.4.0\n",
       "nbformat            5.9.2\n",
       "numexpr             2.8.4\n",
       "numpy               1.24.3\n",
       "packaging           23.1\n",
       "pandas_flavor       NA\n",
       "parso               0.8.3\n",
       "patsy               0.5.3\n",
       "pexpect             4.8.0\n",
       "pickleshare         0.7.5\n",
       "pkg_resources       NA\n",
       "platformdirs        3.10.0\n",
       "prometheus_client   NA\n",
       "prompt_toolkit      3.0.36\n",
       "psutil              5.9.0\n",
       "ptyprocess          0.7.0\n",
       "pure_eval           0.2.2\n",
       "pvectorc            NA\n",
       "pyarrow             11.0.0\n",
       "pydev_ipython       NA\n",
       "pydevconsole        NA\n",
       "pydevd              2.9.5\n",
       "pydevd_file_utils   NA\n",
       "pydevd_plugins      NA\n",
       "pydevd_tracing      NA\n",
       "pygments            2.15.1\n",
       "pyparsing           3.0.9\n",
       "pyrsistent          NA\n",
       "pytz                2023.3.post1\n",
       "requests            2.31.0\n",
       "rfc3339_validator   0.1.4\n",
       "rfc3986_validator   0.1.1\n",
       "ruamel              NA\n",
       "send2trash          NA\n",
       "setuptools          68.0.0\n",
       "six                 1.16.0\n",
       "sniffio             1.2.0\n",
       "socks               1.7.1\n",
       "sphinxcontrib       NA\n",
       "stack_data          0.2.0\n",
       "tblib               1.7.0\n",
       "terminado           0.17.1\n",
       "threadpoolctl       2.2.0\n",
       "tlz                 0.12.0\n",
       "toolz               0.12.0\n",
       "tornado             6.3.2\n",
       "traitlets           5.7.1\n",
       "typing_extensions   NA\n",
       "urllib3             1.26.16\n",
       "vscode              NA\n",
       "wcwidth             0.2.5\n",
       "websocket           0.58.0\n",
       "xarray              2023.6.0\n",
       "xxhash              2.0.2\n",
       "yaml                6.0\n",
       "zipp                NA\n",
       "zmq                 23.2.0\n",
       "zope                NA\n",
       "zstandard           0.19.0\n",
       "</pre>\n",
       "</details> <!-- seems like this ends pre, so might as well be explicit -->\n",
       "<pre>\n",
       "-----\n",
       "IPython             8.15.0\n",
       "jupyter_client      7.4.9\n",
       "jupyter_core        5.3.0\n",
       "jupyterlab          3.6.3\n",
       "notebook            6.5.4\n",
       "-----\n",
       "Python 3.11.5 (main, Sep 11 2023, 13:54:46) [GCC 11.2.0]\n",
       "Linux-6.6.87.1-microsoft-standard-WSL2-x86_64-with-glibc2.35\n",
       "-----\n",
       "Session information updated at 2025-06-22 16:01\n",
       "</pre>\n",
       "</details>"
      ],
      "text/plain": [
       "<IPython.core.display.HTML object>"
      ]
     },
     "execution_count": 45,
     "metadata": {},
     "output_type": "execute_result"
    }
   ],
   "source": [
    "try:\n",
    "    session_info_output = session_info.show()\n",
    "except Exception as error:\n",
    "    print(\"The session info has been requested already:\")\n",
    "    \n",
    "session_info_output"
   ]
  },
  {
   "cell_type": "code",
   "execution_count": 46,
   "metadata": {},
   "outputs": [],
   "source": [
    "import janitor # This library generates an error when I execute session_info()"
   ]
  },
  {
   "cell_type": "markdown",
   "metadata": {},
   "source": [
    "# Import external files"
   ]
  },
  {
   "cell_type": "markdown",
   "metadata": {},
   "source": [
    "- Extension of the \"missing\" functions from Pandas\n",
    "- DataFrame and dictionary functions\n",
    "- Statistical functions"
   ]
  },
  {
   "cell_type": "code",
   "execution_count": 47,
   "metadata": {},
   "outputs": [],
   "source": [
    "%run utils/u.0.0-pandas_missing_extension.ipynb\n",
    "%run utils/u.0.1-df_functions.ipynb\n",
    "%run utils/u.0.2-statistical-functions.ipynb"
   ]
  },
  {
   "cell_type": "markdown",
   "metadata": {},
   "source": [
    "# Get the processed data (V3)"
   ]
  },
  {
   "cell_type": "code",
   "execution_count": 48,
   "metadata": {},
   "outputs": [
    {
     "name": "stdout",
     "output_type": "stream",
     "text": [
      "(54, 28)\n",
      "<class 'pandas.core.frame.DataFrame'>\n",
      "RangeIndex: 54 entries, 0 to 53\n",
      "Data columns (total 28 columns):\n",
      " #   Column                  Non-Null Count  Dtype  \n",
      "---  ------                  --------------  -----  \n",
      " 0   ny_gdp_mktp_kd_zg_cat   54 non-null     float64\n",
      " 1   sp_dyn_le00_in_cat      54 non-null     float64\n",
      " 2   it_cel_sets_cat         54 non-null     float64\n",
      " 3   ny_gdp_pcap_kd_cat      54 non-null     float64\n",
      " 4   se_sec_enrr_cat         54 non-null     float64\n",
      " 5   ny_gdp_mktp_kd_grw_cat  54 non-null     float64\n",
      " 6   year                    54 non-null     float64\n",
      " 7   it_mlt_main             54 non-null     float64\n",
      " 8   ny_gdp_mktp_kd_zg       54 non-null     float64\n",
      " 9   ny_gdp_pcap_kd          54 non-null     float64\n",
      " 10  ny_gdp_pcap_kd_zg       54 non-null     float64\n",
      " 11  sp_dyn_le00_in          53 non-null     float64\n",
      " 12  it_cel_sets             54 non-null     float64\n",
      " 13  sh_dth_imrt             53 non-null     float64\n",
      " 14  sp_pop_0014_to_zs       54 non-null     float64\n",
      " 15  sp_pop_1564_to_zs       54 non-null     float64\n",
      " 16  sp_pop_65_up_to_zs      54 non-null     float64\n",
      " 17  sp_pop_totl             54 non-null     float64\n",
      " 18  sm_pop_refg             54 non-null     float64\n",
      " 19  sm_pop_refg_or          44 non-null     float64\n",
      " 20  se_pre_enrr             45 non-null     float64\n",
      " 21  se_prm_enrr             47 non-null     float64\n",
      " 22  se_sec_enrr             48 non-null     float64\n",
      " 23  se_ter_enrr             44 non-null     float64\n",
      " 24  sp_urb_totl_in_zs       54 non-null     float64\n",
      " 25  year_of_dictatorship    54 non-null     float64\n",
      " 26  it_cel_sets_pct         54 non-null     float64\n",
      " 27  dem_dep_cat             54 non-null     float64\n",
      "dtypes: float64(28)\n",
      "memory usage: 11.9 KB\n"
     ]
    }
   ],
   "source": [
    "arg_di_df = pd.read_csv('../data/processed/WDICSV_PROCESSED_V3.csv').clean_names(case_type=\"snake\")\n",
    "\n",
    "print(arg_di_df.shape)\n",
    "arg_di_df.info()"
   ]
  },
  {
   "cell_type": "markdown",
   "metadata": {},
   "source": [
    "# Get columns names and types"
   ]
  },
  {
   "cell_type": "code",
   "execution_count": 49,
   "metadata": {},
   "outputs": [],
   "source": [
    "indicators_names, categorical_cols, numeric_cols, columns_with_missing_values = get_columns(arg_di_df)"
   ]
  },
  {
   "cell_type": "code",
   "execution_count": 50,
   "metadata": {},
   "outputs": [
    {
     "name": "stdout",
     "output_type": "stream",
     "text": [
      "Total Columns: 28\n",
      "Categorical Columns: 0\n",
      "Numeric Columns: 28\n"
     ]
    }
   ],
   "source": [
    "print(f'Total Columns: {len(indicators_names)}')\n",
    "print(f'Categorical Columns: {len(categorical_cols)}')\n",
    "print(f'Numeric Columns: {len(numeric_cols)}')"
   ]
  },
  {
   "cell_type": "code",
   "execution_count": 51,
   "metadata": {},
   "outputs": [
    {
     "data": {
      "text/plain": [
       "['ny_gdp_mktp_kd_zg_cat, GDP growth categories',\n",
       " 'sp_dyn_le00_in_cat, Life Expectancy categories',\n",
       " 'it_cel_sets_cat, Mobile Subscription Categories',\n",
       " 'ny_gdp_pcap_kd_cat, GDP Per Capita Categories',\n",
       " 'se_sec_enrr_cat, Secondary school enrollment categories',\n",
       " 'ny_gdp_mktp_kd_grw_cat, GDP Growth Volatility',\n",
       " 'year, Year',\n",
       " 'it_mlt_main, Fixed telephone subscriptions',\n",
       " 'ny_gdp_mktp_kd_zg, GDP growth (annual %)',\n",
       " 'ny_gdp_pcap_kd, GDP per capita (constant 2015 US$)',\n",
       " 'ny_gdp_pcap_kd_zg, GDP per capita growth (annual %)',\n",
       " 'sp_dyn_le00_in, Life expectancy at birth, total (years)',\n",
       " 'it_cel_sets, Mobile cellular subscriptions',\n",
       " 'sh_dth_imrt, Number of infant deaths',\n",
       " 'sp_pop_0014_to_zs, Population ages 0-14 (% of total population)',\n",
       " 'sp_pop_1564_to_zs, Population ages 15-64 (% of total population)',\n",
       " 'sp_pop_65_up_to_zs, Population ages 65 and above (% of total population)',\n",
       " 'sp_pop_totl, Population, total',\n",
       " 'sm_pop_refg, Refugee population by country or territory of asylum',\n",
       " 'sm_pop_refg_or, Refugee population by country or territory of origin',\n",
       " 'se_pre_enrr, School enrollment, preprimary (% gross)',\n",
       " 'se_prm_enrr, School enrollment, primary (% gross)',\n",
       " 'se_sec_enrr, School enrollment, secondary (% gross)',\n",
       " 'se_ter_enrr, School enrollment, tertiary (% gross)',\n",
       " 'sp_urb_totl_in_zs, Urban population (% of total population)',\n",
       " 'year_of_dictatorship, It was a year of military dictatorship',\n",
       " 'it_cel_sets_pct, Mobile Subscription (% of total population)',\n",
       " 'dem_dep_cat, Percentage of Worker Age Population']"
      ]
     },
     "execution_count": 51,
     "metadata": {},
     "output_type": "execute_result"
    }
   ],
   "source": [
    "indicators_names"
   ]
  },
  {
   "cell_type": "code",
   "execution_count": 52,
   "metadata": {},
   "outputs": [
    {
     "data": {
      "text/plain": [
       "['se_ter_enrr',\n",
       " 'sm_pop_refg_or',\n",
       " 'se_pre_enrr',\n",
       " 'se_prm_enrr',\n",
       " 'se_sec_enrr',\n",
       " 'sp_dyn_le00_in',\n",
       " 'sh_dth_imrt']"
      ]
     },
     "execution_count": 52,
     "metadata": {},
     "output_type": "execute_result"
    }
   ],
   "source": [
    "columns_with_missing_values"
   ]
  },
  {
   "cell_type": "markdown",
   "metadata": {},
   "source": [
    "# Split target variable"
   ]
  },
  {
   "cell_type": "markdown",
   "metadata": {},
   "source": [
    "Target variable: sp_dyn_le00_in (Life expectancy at birth, total (years))"
   ]
  },
  {
   "cell_type": "code",
   "execution_count": 53,
   "metadata": {},
   "outputs": [],
   "source": [
    "target_variable = \"sp_dyn_le00_in\"\n",
    "target_variable_name = get_indicator_name(target_variable, True)"
   ]
  },
  {
   "cell_type": "markdown",
   "metadata": {},
   "source": [
    "## Split rows with missing values"
   ]
  },
  {
   "cell_type": "code",
   "execution_count": 80,
   "metadata": {},
   "outputs": [
    {
     "data": {
      "text/html": [
       "<div>\n",
       "<style scoped>\n",
       "    .dataframe tbody tr th:only-of-type {\n",
       "        vertical-align: middle;\n",
       "    }\n",
       "\n",
       "    .dataframe tbody tr th {\n",
       "        vertical-align: top;\n",
       "    }\n",
       "\n",
       "    .dataframe thead th {\n",
       "        text-align: right;\n",
       "    }\n",
       "</style>\n",
       "<table border=\"1\" class=\"dataframe\">\n",
       "  <thead>\n",
       "    <tr style=\"text-align: right;\">\n",
       "      <th></th>\n",
       "      <th>ny_gdp_mktp_kd_zg_cat</th>\n",
       "      <th>sp_dyn_le00_in_cat</th>\n",
       "      <th>it_cel_sets_cat</th>\n",
       "      <th>ny_gdp_pcap_kd_cat</th>\n",
       "      <th>se_sec_enrr_cat</th>\n",
       "      <th>ny_gdp_mktp_kd_grw_cat</th>\n",
       "      <th>year</th>\n",
       "      <th>it_mlt_main</th>\n",
       "      <th>ny_gdp_mktp_kd_zg</th>\n",
       "      <th>ny_gdp_pcap_kd</th>\n",
       "      <th>...</th>\n",
       "      <th>sm_pop_refg</th>\n",
       "      <th>sm_pop_refg_or</th>\n",
       "      <th>se_pre_enrr</th>\n",
       "      <th>se_prm_enrr</th>\n",
       "      <th>se_sec_enrr</th>\n",
       "      <th>se_ter_enrr</th>\n",
       "      <th>sp_urb_totl_in_zs</th>\n",
       "      <th>year_of_dictatorship</th>\n",
       "      <th>it_cel_sets_pct</th>\n",
       "      <th>dem_dep_cat</th>\n",
       "    </tr>\n",
       "  </thead>\n",
       "  <tbody>\n",
       "    <tr>\n",
       "      <th>53</th>\n",
       "      <td>1.0</td>\n",
       "      <td>0.0</td>\n",
       "      <td>4.0</td>\n",
       "      <td>3.0</td>\n",
       "      <td>0.0</td>\n",
       "      <td>3.0</td>\n",
       "      <td>1.0</td>\n",
       "      <td>0.647369</td>\n",
       "      <td>0.432342</td>\n",
       "      <td>0.739951</td>\n",
       "      <td>...</td>\n",
       "      <td>0.041237</td>\n",
       "      <td>0.232682</td>\n",
       "      <td>NaN</td>\n",
       "      <td>NaN</td>\n",
       "      <td>NaN</td>\n",
       "      <td>NaN</td>\n",
       "      <td>1.0</td>\n",
       "      <td>0.0</td>\n",
       "      <td>0.841504</td>\n",
       "      <td>0.0</td>\n",
       "    </tr>\n",
       "  </tbody>\n",
       "</table>\n",
       "<p>1 rows × 28 columns</p>\n",
       "</div>"
      ],
      "text/plain": [
       "    ny_gdp_mktp_kd_zg_cat  sp_dyn_le00_in_cat  it_cel_sets_cat  \\\n",
       "53                    1.0                 0.0              4.0   \n",
       "\n",
       "    ny_gdp_pcap_kd_cat  se_sec_enrr_cat  ny_gdp_mktp_kd_grw_cat  year  \\\n",
       "53                 3.0              0.0                     3.0   1.0   \n",
       "\n",
       "    it_mlt_main  ny_gdp_mktp_kd_zg  ny_gdp_pcap_kd  ...  sm_pop_refg  \\\n",
       "53     0.647369           0.432342        0.739951  ...     0.041237   \n",
       "\n",
       "    sm_pop_refg_or  se_pre_enrr  se_prm_enrr  se_sec_enrr  se_ter_enrr  \\\n",
       "53        0.232682          NaN          NaN          NaN          NaN   \n",
       "\n",
       "    sp_urb_totl_in_zs  year_of_dictatorship  it_cel_sets_pct  dem_dep_cat  \n",
       "53                1.0                   0.0         0.841504          0.0  \n",
       "\n",
       "[1 rows x 28 columns]"
      ]
     },
     "execution_count": 80,
     "metadata": {},
     "output_type": "execute_result"
    }
   ],
   "source": [
    "rows_with_na = arg_di_df[arg_di_df[target_variable].isna()].copy()\n",
    "rows_with_na"
   ]
  },
  {
   "cell_type": "code",
   "execution_count": 86,
   "metadata": {},
   "outputs": [
    {
     "data": {
      "text/plain": [
       "((53, 27), (53,))"
      ]
     },
     "execution_count": 86,
     "metadata": {},
     "output_type": "execute_result"
    }
   ],
   "source": [
    "X = arg_di_df.dropna(subset=[target_variable]).drop(columns=target_variable)\n",
    "y = arg_di_df.dropna(subset=[target_variable])[target_variable]\n",
    "\n",
    "X.shape, y.shape"
   ]
  },
  {
   "cell_type": "markdown",
   "metadata": {},
   "source": [
    "# Get numerical variables"
   ]
  },
  {
   "cell_type": "code",
   "execution_count": 87,
   "metadata": {},
   "outputs": [
    {
     "data": {
      "text/plain": [
       "['year',\n",
       " 'it_mlt_main',\n",
       " 'ny_gdp_mktp_kd_zg',\n",
       " 'ny_gdp_pcap_kd',\n",
       " 'ny_gdp_pcap_kd_zg',\n",
       " 'it_cel_sets',\n",
       " 'sh_dth_imrt',\n",
       " 'sp_pop_0014_to_zs',\n",
       " 'sp_pop_1564_to_zs',\n",
       " 'sp_pop_65_up_to_zs',\n",
       " 'sp_pop_totl',\n",
       " 'sm_pop_refg',\n",
       " 'sm_pop_refg_or',\n",
       " 'se_pre_enrr',\n",
       " 'se_prm_enrr',\n",
       " 'se_sec_enrr',\n",
       " 'se_ter_enrr',\n",
       " 'sp_urb_totl_in_zs',\n",
       " 'year_of_dictatorship',\n",
       " 'it_cel_sets_pct']"
      ]
     },
     "execution_count": 87,
     "metadata": {},
     "output_type": "execute_result"
    }
   ],
   "source": [
    "numeric_cols = [col for col in X.columns if not col.endswith(\"_cat\")]\n",
    "numeric_cols"
   ]
  },
  {
   "cell_type": "markdown",
   "metadata": {},
   "source": [
    "# Impute missing values"
   ]
  },
  {
   "cell_type": "markdown",
   "metadata": {},
   "source": [
    "MICE (Multiple Imputation by Chained Equations) is a technique for imputing missing data, where multiple possible values are generated for each missing entry using iterative regression models.\n",
    "\n",
    "If dependent variables have NA values, then linear regression will predict NA results"
   ]
  },
  {
   "cell_type": "code",
   "execution_count": 89,
   "metadata": {},
   "outputs": [],
   "source": [
    "mice_imputer = IterativeImputer(estimator=Ridge())\n",
    "\n",
    "X = X[numeric_cols].copy()\n",
    "X.iloc[:,:] = mice_imputer.fit_transform(X).round()\n"
   ]
  },
  {
   "cell_type": "code",
   "execution_count": 90,
   "metadata": {},
   "outputs": [
    {
     "data": {
      "text/plain": [
       "0"
      ]
     },
     "execution_count": 90,
     "metadata": {},
     "output_type": "execute_result"
    }
   ],
   "source": [
    "X.isna().sum().sum()"
   ]
  },
  {
   "cell_type": "markdown",
   "metadata": {},
   "source": [
    "# Apply Linear Regression"
   ]
  },
  {
   "cell_type": "markdown",
   "metadata": {},
   "source": [
    "## Split data"
   ]
  },
  {
   "cell_type": "code",
   "execution_count": 91,
   "metadata": {},
   "outputs": [
    {
     "data": {
      "text/plain": [
       "((42, 20), (11, 20), (42,), (11,))"
      ]
     },
     "execution_count": 91,
     "metadata": {},
     "output_type": "execute_result"
    }
   ],
   "source": [
    "X_train, X_test, y_train, y_test = train_test_split(X, y, test_size=0.2, random_state=42)\n",
    "X_train.shape, X_test.shape, y_train.shape, y_test.shape"
   ]
  },
  {
   "cell_type": "markdown",
   "metadata": {},
   "source": [
    "## Get predictions"
   ]
  },
  {
   "cell_type": "code",
   "execution_count": 92,
   "metadata": {},
   "outputs": [],
   "source": [
    "model = LinearRegression()\n",
    "model.fit(X_train, y_train)\n",
    "y_pred = model.predict(X_test)"
   ]
  },
  {
   "cell_type": "markdown",
   "metadata": {},
   "source": [
    "# Evaluate the model"
   ]
  },
  {
   "cell_type": "code",
   "execution_count": 98,
   "metadata": {},
   "outputs": [
    {
     "name": "stdout",
     "output_type": "stream",
     "text": [
      "0.0036 0.97\n"
     ]
    }
   ],
   "source": [
    "mse = metrics.mean_squared_error(y_test, y_pred)\n",
    "r2 = metrics.r2_score(y_test, y_pred)\n",
    "\n",
    "print(round(mse,4), round(r2,2))"
   ]
  },
  {
   "cell_type": "code",
   "execution_count": 104,
   "metadata": {},
   "outputs": [
    {
     "data": {
      "text/plain": [
       "array([-0.0431338 ,  0.07081431, -0.00432188, -0.0608125 , -0.00432188,\n",
       "        0.01064636, -0.03424861, -0.33553629, -0.2115656 , -0.01173613,\n",
       "        0.07081431, -0.03424861, -0.04406345, -0.02945742, -0.0246547 ,\n",
       "        0.11816753,  0.08691555,  0.21845639, -0.07482472,  0.01064636])"
      ]
     },
     "execution_count": 104,
     "metadata": {},
     "output_type": "execute_result"
    }
   ],
   "source": [
    "model.coef_.reshape(-1)"
   ]
  },
  {
   "cell_type": "code",
   "execution_count": 106,
   "metadata": {},
   "outputs": [
    {
     "name": "stdout",
     "output_type": "stream",
     "text": [
      "                            OLS Regression Results                            \n",
      "==============================================================================\n",
      "Dep. Variable:         sp_dyn_le00_in   R-squared:                       0.994\n",
      "Model:                            OLS   Adj. R-squared:                  0.972\n",
      "Method:                 Least Squares   F-statistic:                     44.39\n",
      "Date:                Sun, 22 Jun 2025   Prob (F-statistic):             0.0222\n",
      "Time:                        17:29:55   Log-Likelihood:                 25.384\n",
      "No. Observations:                  11   AIC:                            -32.77\n",
      "Df Residuals:                       2   BIC:                            -29.19\n",
      "Df Model:                           8                                         \n",
      "Covariance Type:            nonrobust                                         \n",
      "========================================================================================\n",
      "                           coef    std err          t      P>|t|      [0.025      0.975]\n",
      "----------------------------------------------------------------------------------------\n",
      "const                    0.1775      0.024      7.325      0.018       0.073       0.282\n",
      "year                     0.0539      0.020      2.701      0.114      -0.032       0.140\n",
      "it_mlt_main              0.0539      0.020      2.701      0.114      -0.032       0.140\n",
      "ny_gdp_mktp_kd_zg        0.0488      0.049      0.988      0.427      -0.164       0.261\n",
      "ny_gdp_pcap_kd           0.0970      0.024      4.061      0.056      -0.006       0.200\n",
      "ny_gdp_pcap_kd_zg       -0.0454      0.042     -1.076      0.394      -0.227       0.136\n",
      "it_cel_sets              0.0970      0.024      4.061      0.056      -0.006       0.200\n",
      "sh_dth_imrt              0.0751      0.037      2.045      0.178      -0.083       0.233\n",
      "sp_pop_0014_to_zs        0.0805      0.024      3.327      0.080      -0.024       0.185\n",
      "sp_pop_1564_to_zs       -0.0769      0.040     -1.922      0.195      -0.249       0.095\n",
      "sp_pop_65_up_to_zs       0.0539      0.020      2.701      0.114      -0.032       0.140\n",
      "sp_pop_totl              0.0539      0.020      2.701      0.114      -0.032       0.140\n",
      "sm_pop_refg             -0.1738      0.043     -4.016      0.057      -0.360       0.012\n",
      "sm_pop_refg_or          -0.0247      0.098     -0.253      0.824      -0.445       0.396\n",
      "se_pre_enrr              0.1024      0.022      4.618      0.044       0.007       0.198\n",
      "se_prm_enrr             -0.0064      0.063     -0.101      0.929      -0.278       0.265\n",
      "se_sec_enrr              0.0539      0.020      2.701      0.114      -0.032       0.140\n",
      "se_ter_enrr              0.0539      0.020      2.701      0.114      -0.032       0.140\n",
      "sp_urb_totl_in_zs        0.1024      0.022      4.618      0.044       0.007       0.198\n",
      "year_of_dictatorship    -0.0191      0.051     -0.375      0.744      -0.239       0.200\n",
      "it_cel_sets_pct          0.0970      0.024      4.061      0.056      -0.006       0.200\n",
      "==============================================================================\n",
      "Omnibus:                        0.001   Durbin-Watson:                   1.684\n",
      "Prob(Omnibus):                  1.000   Jarque-Bera (JB):                0.178\n",
      "Skew:                           0.000   Prob(JB):                        0.915\n",
      "Kurtosis:                       2.377   Cond. No.                     2.59e+16\n",
      "==============================================================================\n",
      "\n",
      "Notes:\n",
      "[1] Standard Errors assume that the covariance matrix of the errors is correctly specified.\n",
      "[2] The input rank is higher than the number of observations.\n",
      "[3] The smallest eigenvalue is 1.05e-31. This might indicate that there are\n",
      "strong multicollinearity problems or that the design matrix is singular.\n"
     ]
    },
    {
     "name": "stderr",
     "output_type": "stream",
     "text": [
      "/home/ubuntu/anaconda3/lib/python3.11/site-packages/scipy/stats/_stats_py.py:1806: UserWarning: kurtosistest only valid for n>=20 ... continuing anyway, n=11\n",
      "  warnings.warn(\"kurtosistest only valid for n>=20 ... continuing \"\n"
     ]
    }
   ],
   "source": [
    "y_pred.reshape(-1)\n",
    "\n",
    "X_test_sm = sm.add_constant(X_test)\n",
    "model_sm = sm.OLS(y_test, X_test_sm).fit()\n",
    "\n",
    "print(model_sm.summary())"
   ]
  },
  {
   "cell_type": "code",
   "execution_count": null,
   "metadata": {},
   "outputs": [
    {
     "data": {
      "image/png": "[encoded data removed]",
      "text/plain": [
       "<Figure size 640x480 with 1 Axes>"
      ]
     },
     "metadata": {},
     "output_type": "display_data"
    }
   ],
   "source": [
    "residuals = np.subtract(y_test, y_pred.reshape(-1))\n",
    "title = \"Linear Regression Residuals\"\n",
    "\n",
    "sns.scatterplot(x=y_pred, y=residuals)\n",
    "plt.title(title)\n",
    "plt.ylabel(\"\")\n",
    "plt.show()"
   ]
  }
 ],
 "metadata": {
  "kernelspec": {
   "display_name": "base",
   "language": "python",
   "name": "python3"
  },
  "language_info": {
   "codemirror_mode": {
    "name": "ipython",
    "version": 3
   },
   "file_extension": ".py",
   "mimetype": "text/x-python",
   "name": "python",
   "nbconvert_exporter": "python",
   "pygments_lexer": "ipython3",
   "version": "3.11.5"
  }
 },
 "nbformat": 4,
 "nbformat_minor": 2
}
