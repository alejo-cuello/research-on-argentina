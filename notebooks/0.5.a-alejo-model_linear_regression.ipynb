{
 "cells": [
  {
   "cell_type": "markdown",
   "metadata": {},
   "source": [
    "# use regplot for checking linear relationship between 2 variables. or use lmplot directly "
   ]
  },
  {
   "cell_type": "code",
   "execution_count": null,
   "metadata": {},
   "outputs": [
    {
     "data": {
      "text/plain": [
       "['sm_pop_refg_or',\n",
       " 'se_ter_enrr',\n",
       " 'se_pre_enrr',\n",
       " 'se_prm_enrr',\n",
       " 'se_sec_enrr',\n",
       " 'sp_dyn_le00_in',\n",
       " 'sh_dth_imrt']"
      ]
     },
     "metadata": {},
     "output_type": "display_data"
    }
   ],
   "source": [
    "columns_with_missing_values = get_columns_with_missing_values(arg_di_df)\n",
    "columns_with_missing_values"
   ]
  },
  {
   "cell_type": "markdown",
   "metadata": {},
   "source": [
    "## Model Based Imputation"
   ]
  },
  {
   "cell_type": "markdown",
   "metadata": {},
   "source": [
    "### Ordinary Least Squares (OLS)"
   ]
  },
  {
   "cell_type": "code",
   "execution_count": null,
   "metadata": {},
   "outputs": [
    {
     "data": {
      "text/html": [
       "<table class=\"simpletable\">\n",
       "<caption>OLS Regression Results</caption>\n",
       "<tr>\n",
       "  <th>Dep. Variable:</th>       <td>se_ter_enrr</td>   <th>  R-squared:         </th> <td>   0.959</td>\n",
       "</tr>\n",
       "<tr>\n",
       "  <th>Model:</th>                   <td>OLS</td>       <th>  Adj. R-squared:    </th> <td>   0.957</td>\n",
       "</tr>\n",
       "<tr>\n",
       "  <th>Method:</th>             <td>Least Squares</td>  <th>  F-statistic:       </th> <td>   461.8</td>\n",
       "</tr>\n",
       "<tr>\n",
       "  <th>Date:</th>             <td>Thu, 27 Mar 2025</td> <th>  Prob (F-statistic):</th> <td>7.04e-28</td>\n",
       "</tr>\n",
       "<tr>\n",
       "  <th>Time:</th>                 <td>21:59:46</td>     <th>  Log-Likelihood:    </th> <td> -128.87</td>\n",
       "</tr>\n",
       "<tr>\n",
       "  <th>No. Observations:</th>      <td>    42</td>      <th>  AIC:               </th> <td>   263.7</td>\n",
       "</tr>\n",
       "<tr>\n",
       "  <th>Df Residuals:</th>          <td>    39</td>      <th>  BIC:               </th> <td>   269.0</td>\n",
       "</tr>\n",
       "<tr>\n",
       "  <th>Df Model:</th>              <td>     2</td>      <th>                     </th>     <td> </td>   \n",
       "</tr>\n",
       "<tr>\n",
       "  <th>Covariance Type:</th>      <td>nonrobust</td>    <th>                     </th>     <td> </td>   \n",
       "</tr>\n",
       "</table>"
      ],
      "text/latex": [
       "\\begin{center}\n",
       "\\begin{tabular}{lclc}\n",
       "\\toprule\n",
       "\\textbf{Dep. Variable:}    &  se\\_ter\\_enrr   & \\textbf{  R-squared:         } &    0.959  \\\\\n",
       "\\textbf{Model:}            &       OLS        & \\textbf{  Adj. R-squared:    } &    0.957  \\\\\n",
       "\\textbf{Method:}           &  Least Squares   & \\textbf{  F-statistic:       } &    461.8  \\\\\n",
       "\\textbf{Date:}             & Thu, 27 Mar 2025 & \\textbf{  Prob (F-statistic):} & 7.04e-28  \\\\\n",
       "\\textbf{Time:}             &     21:59:46     & \\textbf{  Log-Likelihood:    } &  -128.87  \\\\\n",
       "\\textbf{No. Observations:} &          42      & \\textbf{  AIC:               } &    263.7  \\\\\n",
       "\\textbf{Df Residuals:}     &          39      & \\textbf{  BIC:               } &    269.0  \\\\\n",
       "\\textbf{Df Model:}         &           2      & \\textbf{                     } &           \\\\\n",
       "\\textbf{Covariance Type:}  &    nonrobust     & \\textbf{                     } &           \\\\\n",
       "\\bottomrule\n",
       "\\end{tabular}\n",
       "%\\caption{OLS Regression Results}\n",
       "\\end{center}"
      ],
      "text/plain": [
       "<class 'statsmodels.iolib.table.SimpleTable'>"
      ]
     },
     "metadata": {},
     "output_type": "display_data"
    }
   ],
   "source": [
    "(\n",
    "      # Selects the first table from the summary, which contains high-level model details\n",
    ")"
   ]
  },
  {
   "cell_type": "code",
   "execution_count": null,
   "metadata": {},
   "outputs": [
    {
     "data": {
      "text/html": [
       "<div>\n",
       "<style scoped>\n",
       "    .dataframe tbody tr th:only-of-type {\n",
       "        vertical-align: middle;\n",
       "    }\n",
       "\n",
       "    .dataframe tbody tr th {\n",
       "        vertical-align: top;\n",
       "    }\n",
       "\n",
       "    .dataframe thead th {\n",
       "        text-align: right;\n",
       "    }\n",
       "</style>\n",
       "<table border=\"1\" class=\"dataframe\">\n",
       "  <thead>\n",
       "    <tr style=\"text-align: right;\">\n",
       "      <th></th>\n",
       "      <th>se_ter_enrr</th>\n",
       "      <th>se_pre_enrr</th>\n",
       "      <th>se_sec_enrr</th>\n",
       "      <th>year</th>\n",
       "      <th>se_ter_enrr_imp</th>\n",
       "      <th>se_pre_enrr_imp</th>\n",
       "      <th>se_sec_enrr_imp</th>\n",
       "      <th>year_imp</th>\n",
       "    </tr>\n",
       "  </thead>\n",
       "  <tbody>\n",
       "    <tr>\n",
       "      <th>0</th>\n",
       "      <td>13.377590</td>\n",
       "      <td>23.44487</td>\n",
       "      <td>44.709621</td>\n",
       "      <td>1970</td>\n",
       "      <td>False</td>\n",
       "      <td>False</td>\n",
       "      <td>False</td>\n",
       "      <td>False</td>\n",
       "    </tr>\n",
       "    <tr>\n",
       "      <th>1</th>\n",
       "      <td>15.440980</td>\n",
       "      <td>24.93766</td>\n",
       "      <td>45.642109</td>\n",
       "      <td>1971</td>\n",
       "      <td>False</td>\n",
       "      <td>False</td>\n",
       "      <td>False</td>\n",
       "      <td>False</td>\n",
       "    </tr>\n",
       "    <tr>\n",
       "      <th>2</th>\n",
       "      <td>16.620810</td>\n",
       "      <td>26.51997</td>\n",
       "      <td>47.472710</td>\n",
       "      <td>1972</td>\n",
       "      <td>False</td>\n",
       "      <td>False</td>\n",
       "      <td>False</td>\n",
       "      <td>False</td>\n",
       "    </tr>\n",
       "    <tr>\n",
       "      <th>3</th>\n",
       "      <td>19.751631</td>\n",
       "      <td>29.06558</td>\n",
       "      <td>49.939709</td>\n",
       "      <td>1973</td>\n",
       "      <td>False</td>\n",
       "      <td>False</td>\n",
       "      <td>False</td>\n",
       "      <td>False</td>\n",
       "    </tr>\n",
       "    <tr>\n",
       "      <th>8</th>\n",
       "      <td>21.250999</td>\n",
       "      <td>29.06558</td>\n",
       "      <td>55.343731</td>\n",
       "      <td>1978</td>\n",
       "      <td>False</td>\n",
       "      <td>False</td>\n",
       "      <td>False</td>\n",
       "      <td>False</td>\n",
       "    </tr>\n",
       "  </tbody>\n",
       "</table>\n",
       "</div>"
      ],
      "text/plain": [
       "   se_ter_enrr  se_pre_enrr  se_sec_enrr  year  se_ter_enrr_imp  \\\n",
       "0    13.377590     23.44487    44.709621  1970            False   \n",
       "1    15.440980     24.93766    45.642109  1971            False   \n",
       "2    16.620810     26.51997    47.472710  1972            False   \n",
       "3    19.751631     29.06558    49.939709  1973            False   \n",
       "8    21.250999     29.06558    55.343731  1978            False   \n",
       "\n",
       "   se_pre_enrr_imp  se_sec_enrr_imp  year_imp  \n",
       "0            False            False     False  \n",
       "1            False            False     False  \n",
       "2            False            False     False  \n",
       "3            False            False     False  \n",
       "8            False            False     False  "
      ]
     },
     "metadata": {},
     "output_type": "display_data"
    }
   ],
   "source": [
    "arg_di_df_model = (\n",
    "    arg_di_df\n",
    "        .select(columns=[\"se_ter_enrr\", \"se_pre_enrr\", \"se_sec_enrr\", \"year\"])\n",
    "        .sort_values(by=\"se_ter_enrr\")\n",
    "        .transform_column( #If a dependent variable has NA values, then they predict NA results\n",
    "            \"se_pre_enrr\",\n",
    "            lambda x: x.ffill(),\n",
    "            elementwise = False\n",
    "        )\n",
    "        .transform_column(\n",
    "            \"se_sec_enrr\",\n",
    "            lambda x: x.ffill(),\n",
    "            elementwise = False\n",
    "        )\n",
    "        .missing.bind_shadow_matrix(\n",
    "            True,\n",
    "            False,\n",
    "            False,\n",
    "            \"_imp\"\n",
    "        )\n",
    ")\n",
    "\n",
    "arg_di_df_model.head()"
   ]
  },
  {
   "cell_type": "code",
   "execution_count": null,
   "metadata": {},
   "outputs": [],
   "source": [
    "se_ter_enrr_ols = (\n",
    "    arg_di_df_model\n",
    "        .pipe(\n",
    "            lambda df: smf.ols(formula=\"se_ter_enrr ~ se_pre_enrr + se_sec_enrr\", data = df)\n",
    "        )\n",
    "        .fit()\n",
    ")"
   ]
  },
  {
   "cell_type": "code",
   "execution_count": null,
   "metadata": {},
   "outputs": [
    {
     "data": {
      "text/plain": [
       "18    44.0\n",
       "19    44.0\n",
       "20    46.0\n",
       "22    46.0\n",
       "23    46.0\n",
       "25    46.0\n",
       "26    49.0\n",
       "27    46.0\n",
       "52    46.0\n",
       "53    46.0\n",
       "dtype: float64"
      ]
     },
     "metadata": {},
     "output_type": "display_data"
    }
   ],
   "source": [
    "ols_imputed_values = (\n",
    "    arg_di_df_model\n",
    "        .pipe(lambda df: df[df.se_ter_enrr.isna()])\n",
    "        .pipe(lambda df: se_ter_enrr_ols.predict(df).round())\n",
    ")\n",
    "\n",
    "ols_imputed_values"
   ]
  },
  {
   "cell_type": "code",
   "execution_count": null,
   "metadata": {},
   "outputs": [],
   "source": [
    "arg_di_df_model.loc[arg_di_df_model[\"se_ter_enrr\"].isna(), \"se_ter_enrr\"] = ols_imputed_values"
   ]
  },
  {
   "cell_type": "code",
   "execution_count": null,
   "metadata": {},
   "outputs": [
    {
     "data": {
      "text/plain": [
       "<seaborn.axisgrid.JointGrid at 0x7f028b6d9790>"
      ]
     },
     "metadata": {},
     "output_type": "display_data"
    },
    {
     "data": {
      "text/plain": [
       "<Figure size 2000x2000 with 0 Axes>"
      ]
     },
     "metadata": {},
     "output_type": "display_data"
    },
    {
     "data": {
      "image/png": "[encoded data removed]",
      "text/plain": [
       "<Figure size 600x600 with 3 Axes>"
      ]
     },
     "metadata": {},
     "output_type": "display_data"
    }
   ],
   "source": [
    "plt.figure(figsize=(20,20))\n",
    "arg_di_df_model.missing.scatter_imputation_plot(x=\"se_ter_enrr\",y=\"se_pre_enrr\",show_marginal=True)\n"
   ]
  },
  {
   "cell_type": "markdown",
   "metadata": {},
   "source": [
    "## Multiple Imputation by Chained Equations (MICE)"
   ]
  },
  {
   "cell_type": "markdown",
   "metadata": {},
   "source": [
    "It's a technique for imputing missing data, where multiple possible values are generated for each missing entry using iterative regression models.\n",
    "\n",
    "By default, Scikit-Learn returns a single dataset, but this can be modified. You must provide values for all variables except the one you want to estimate."
   ]
  },
  {
   "cell_type": "code",
   "execution_count": null,
   "metadata": {},
   "outputs": [
    {
     "data": {
      "text/plain": [
       "<Axes: xlabel='sm_pop_refg_or', ylabel='se_ter_enrr'>"
      ]
     },
     "metadata": {},
     "output_type": "display_data"
    },
    {
     "data": {
      "image/png": "[encoded data removed]",
      "text/plain": [
       "<Figure size 640x480 with 1 Axes>"
      ]
     },
     "metadata": {},
     "output_type": "display_data"
    }
   ],
   "source": [
    "mice_imputer = sklearn.impute.IterativeImputer(estimator=BayesianRidge())\n",
    "\n",
    "arg_di_df_mice = arg_di_df_transformed.copy()\n",
    "arg_di_df_mice.iloc[:,:] = mice_imputer.fit_transform(arg_di_df_mice).round()\n",
    "\n",
    "arg_di_df_mice = (\n",
    "    pd.concat(\n",
    "        [\n",
    "            arg_di_df_mice,\n",
    "            arg_di_df.missing.create_shadow_matrix(True,False,True,\"_imp\")\n",
    "        ],\n",
    "        axis=1\n",
    "    )\n",
    ")\n",
    "\n",
    "arg_di_df_mice.missing.scatter_imputation_plot(\n",
    "    x=columns_with_missing_values[0],\n",
    "    y=columns_with_missing_values[1]\n",
    ")"
   ]
  },
  {
   "cell_type": "markdown",
   "metadata": {},
   "source": [
    "### Inverse transformation of data"
   ]
  },
  {
   "cell_type": "code",
   "execution_count": null,
   "metadata": {},
   "outputs": [
    {
     "ename": "NameError",
     "evalue": "name 'arg_di_df_mice' is not defined",
     "output_type": "error",
     "traceback": [
      "\u001b[0;31m---------------------------------------------------------------------------\u001b[0m\n",
      "\u001b[0;31mNameError\u001b[0m                                 Traceback (most recent call last)\n",
      "Cell \u001b[0;32mIn[2], line 1\u001b[0m\n",
      "\u001b[0;32m----> 1\u001b[0m arg_di_df_imputated \u001b[38;5;241m=\u001b[39m arg_di_df_mice\u001b[38;5;241m.\u001b[39mcopy()\n",
      "\u001b[1;32m      3\u001b[0m arg_di_df_imputated[categorical_columns] \u001b[38;5;241m=\u001b[39m (\n",
      "\u001b[1;32m      4\u001b[0m     categorical_transformer\n",
      "\u001b[1;32m      5\u001b[0m         \u001b[38;5;241m.\u001b[39mnamed_transformers_\u001b[38;5;241m.\u001b[39mordinalencoder\u001b[38;5;241m.\u001b[39minverse_transform(\n",
      "\u001b[1;32m      6\u001b[0m             X \u001b[38;5;241m=\u001b[39m arg_di_df_mice[categorical_columns]\n",
      "\u001b[1;32m      7\u001b[0m         )\n",
      "\u001b[1;32m      8\u001b[0m )\n",
      "\u001b[1;32m     10\u001b[0m \u001b[38;5;28mprint\u001b[39m(arg_di_df_mice\u001b[38;5;241m.\u001b[39mmissing\u001b[38;5;241m.\u001b[39mnumber_missing())\n",
      "\n",
      "\u001b[0;31mNameError\u001b[0m: name 'arg_di_df_mice' is not defined"
     ]
    }
   ],
   "source": [
    "arg_di_df_imputated = arg_di_df_mice.copy()\n",
    "\n",
    "arg_di_df_imputated[categorical_cols] = (\n",
    "    categorical_transformer\n",
    "        .named_transformers_.ordinalencoder.inverse_transform(\n",
    "            X = arg_di_df_mice[categorical_cols]\n",
    "        )\n",
    ")\n",
    "\n",
    "print(arg_di_df_mice.missing.number_missing())\n",
    "\n",
    "pd.concat(\n",
    "    [\n",
    "        arg_di_df_mice[categorical_cols],\n",
    "        arg_di_df_imputated[categorical_cols]\n",
    "    ],\n",
    "    axis=1\n",
    ").head(5)"
   ]
  }
 ],
 "metadata": {
  "language_info": {
   "name": "python"
  }
 },
 "nbformat": 4,
 "nbformat_minor": 2
}
