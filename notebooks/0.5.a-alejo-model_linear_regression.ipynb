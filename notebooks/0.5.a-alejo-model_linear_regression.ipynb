{
 "cells": [
  {
   "cell_type": "code",
   "execution_count": 1,
   "metadata": {},
   "outputs": [],
   "source": [
    "import numpy as np\n",
    "import pandas as pd\n",
    "import matplotlib.pyplot as plt\n",
    "import seaborn as sns\n",
    "import session_info\n",
    "from sklearn.model_selection import train_test_split\n",
    "from sklearn.linear_model import LinearRegression\n",
    "from sklearn.decomposition import PCA\n",
    "import sklearn.metrics as metrics\n",
    "import statsmodels.api as sm"
   ]
  },
  {
   "cell_type": "code",
   "execution_count": 2,
   "metadata": {},
   "outputs": [
    {
     "data": {
      "text/html": [
       "<details>\n",
       "<summary>Click to view session information</summary>\n",
       "<pre>\n",
       "-----\n",
       "matplotlib          3.9.2\n",
       "numpy               1.26.4\n",
       "pandas              2.2.2\n",
       "seaborn             0.13.2\n",
       "session_info        1.0.0\n",
       "sklearn             1.5.1\n",
       "statsmodels         0.14.4\n",
       "-----\n",
       "</pre>\n",
       "<details>\n",
       "<summary>Click to view modules imported as dependencies</summary>\n",
       "<pre>\n",
       "PIL                         10.4.0\n",
       "anyio                       NA\n",
       "asttokens                   NA\n",
       "attr                        24.2.0\n",
       "attrs                       24.2.0\n",
       "babel                       2.11.0\n",
       "backports                   NA\n",
       "bottleneck                  1.3.7\n",
       "brotli                      1.0.9\n",
       "certifi                     2025.01.31\n",
       "cffi                        1.17.1\n",
       "charset_normalizer          3.3.2\n",
       "colorama                    0.4.6\n",
       "comm                        0.2.1\n",
       "cycler                      0.10.0\n",
       "cython_runtime              NA\n",
       "dateutil                    2.9.0.post0\n",
       "debugpy                     1.6.7\n",
       "decorator                   5.1.1\n",
       "defusedxml                  0.7.1\n",
       "executing                   0.8.3\n",
       "fastjsonschema              NA\n",
       "idna                        3.7\n",
       "ipykernel                   6.29.5\n",
       "ipywidgets                  8.1.2\n",
       "jaraco                      NA\n",
       "jedi                        0.19.1\n",
       "jinja2                      3.1.4\n",
       "joblib                      1.4.2\n",
       "json5                       NA\n",
       "jsonschema                  4.23.0\n",
       "jsonschema_specifications   NA\n",
       "jupyter_events              0.10.0\n",
       "jupyter_server              2.14.1\n",
       "jupyterlab_server           2.27.3\n",
       "kiwisolver                  1.4.4\n",
       "markupsafe                  2.1.3\n",
       "more_itertools              10.3.0\n",
       "mpl_toolkits                NA\n",
       "nbformat                    5.10.4\n",
       "numexpr                     2.8.7\n",
       "overrides                   NA\n",
       "packaging                   24.1\n",
       "parso                       0.8.3\n",
       "patsy                       0.5.6\n",
       "pkg_resources               NA\n",
       "platformdirs                3.10.0\n",
       "prometheus_client           NA\n",
       "prompt_toolkit              3.0.43\n",
       "psutil                      5.9.0\n",
       "pure_eval                   0.2.2\n",
       "pydev_ipython               NA\n",
       "pydevconsole                NA\n",
       "pydevd                      2.9.5\n",
       "pydevd_file_utils           NA\n",
       "pydevd_plugins              NA\n",
       "pydevd_tracing              NA\n",
       "pygments                    2.15.1\n",
       "pyparsing                   3.1.2\n",
       "pythonjsonlogger            NA\n",
       "pytz                        2024.1\n",
       "referencing                 NA\n",
       "requests                    2.32.3\n",
       "rfc3339_validator           0.1.4\n",
       "rfc3986_validator           0.1.1\n",
       "rpds                        NA\n",
       "scipy                       1.15.1\n",
       "send2trash                  NA\n",
       "six                         1.16.0\n",
       "sniffio                     1.3.0\n",
       "socks                       1.7.1\n",
       "stack_data                  0.2.0\n",
       "threadpoolctl               3.5.0\n",
       "tornado                     6.4.1\n",
       "traitlets                   5.14.3\n",
       "typing_extensions           NA\n",
       "urllib3                     2.2.3\n",
       "vscode                      NA\n",
       "wcwidth                     0.2.5\n",
       "websocket                   1.8.0\n",
       "yaml                        6.0.2\n",
       "zmq                         25.1.2\n",
       "</pre>\n",
       "</details> <!-- seems like this ends pre, so might as well be explicit -->\n",
       "<pre>\n",
       "-----\n",
       "IPython             8.27.0\n",
       "jupyter_client      8.6.0\n",
       "jupyter_core        5.7.2\n",
       "jupyterlab          4.2.5\n",
       "notebook            7.2.2\n",
       "-----\n",
       "Python 3.11.5 (main, Sep 11 2023, 13:54:46) [GCC 11.2.0]\n",
       "Linux-5.15.167.4-microsoft-standard-WSL2-x86_64-with-glibc2.35\n",
       "-----\n",
       "Session information updated at 2025-08-19 07:47\n",
       "</pre>\n",
       "</details>"
      ],
      "text/plain": [
       "<IPython.core.display.HTML object>"
      ]
     },
     "execution_count": 2,
     "metadata": {},
     "output_type": "execute_result"
    }
   ],
   "source": [
    "try:\n",
    "    session_info_output = session_info.show()\n",
    "except Exception as error:\n",
    "    print(\"The session info has been requested already:\")\n",
    "    \n",
    "session_info_output"
   ]
  },
  {
   "cell_type": "code",
   "execution_count": 3,
   "metadata": {},
   "outputs": [],
   "source": [
    "import janitor # This library generates an error when I execute session_info()"
   ]
  },
  {
   "cell_type": "markdown",
   "metadata": {},
   "source": [
    "# Import external files"
   ]
  },
  {
   "cell_type": "markdown",
   "metadata": {},
   "source": [
    "- Extension of the \"missing\" functions from Pandas\n",
    "- DataFrame and dictionary functions\n",
    "- Statistical functions"
   ]
  },
  {
   "cell_type": "code",
   "execution_count": 4,
   "metadata": {},
   "outputs": [],
   "source": [
    "%run utils/u.0.0-pandas_missing_extension.ipynb\n",
    "%run utils/u.0.1-df_functions.ipynb\n",
    "%run utils/u.0.2-statistical-functions.ipynb"
   ]
  },
  {
   "cell_type": "markdown",
   "metadata": {},
   "source": [
    "# Get the processed data (V3)"
   ]
  },
  {
   "cell_type": "code",
   "execution_count": 5,
   "metadata": {},
   "outputs": [
    {
     "name": "stdout",
     "output_type": "stream",
     "text": [
      "(54, 19)\n",
      "<class 'pandas.core.frame.DataFrame'>\n",
      "RangeIndex: 54 entries, 0 to 53\n",
      "Data columns (total 19 columns):\n",
      " #   Column                  Non-Null Count  Dtype  \n",
      "---  ------                  --------------  -----  \n",
      " 0   ny_gdp_mktp_kd_zg_cat   54 non-null     float64\n",
      " 1   sp_dyn_le00_in_cat      54 non-null     float64\n",
      " 2   ny_gdp_pcap_kd_cat      54 non-null     float64\n",
      " 3   se_sec_enrr_cat         54 non-null     float64\n",
      " 4   ny_gdp_mktp_kd_grw_cat  54 non-null     float64\n",
      " 5   it_cel_sets_cat         54 non-null     float64\n",
      " 6   year                    54 non-null     float64\n",
      " 7   it_mlt_main             54 non-null     float64\n",
      " 8   ny_gdp_pcap_kd          54 non-null     float64\n",
      " 9   sp_dyn_le00_in          53 non-null     float64\n",
      " 10  sh_dth_imrt             54 non-null     float64\n",
      " 11  sm_pop_refg             54 non-null     float64\n",
      " 12  sm_pop_refg_or          54 non-null     float64\n",
      " 13  se_pre_enrr             54 non-null     float64\n",
      " 14  se_sec_enrr             54 non-null     float64\n",
      " 15  sp_urb_totl_in_zs       54 non-null     float64\n",
      " 16  year_of_dictatorship    54 non-null     float64\n",
      " 17  it_cel_sets_pct         54 non-null     float64\n",
      " 18  dem_dep_pct             54 non-null     float64\n",
      "dtypes: float64(19)\n",
      "memory usage: 8.1 KB\n"
     ]
    }
   ],
   "source": [
    "arg_di_df_processed = pd.read_csv('../data/processed/WDICSV_PROCESSED_V3.csv').clean_names(case_type=\"snake\")\n",
    "\n",
    "print(arg_di_df_processed.shape)\n",
    "arg_di_df_processed.info()"
   ]
  },
  {
   "cell_type": "markdown",
   "metadata": {},
   "source": [
    "# Get columns names and types"
   ]
  },
  {
   "cell_type": "code",
   "execution_count": 6,
   "metadata": {},
   "outputs": [],
   "source": [
    "indicators_names, categorical_cols, numeric_cols, columns_with_missing_values = get_columns(arg_di_df_processed, True)"
   ]
  },
  {
   "cell_type": "code",
   "execution_count": 7,
   "metadata": {},
   "outputs": [
    {
     "name": "stdout",
     "output_type": "stream",
     "text": [
      "Total Columns: 19\n",
      "Categorical Columns: 6\n",
      "Numeric Columns: 13\n"
     ]
    }
   ],
   "source": [
    "print(f'Total Columns: {len(indicators_names)}')\n",
    "print(f'Categorical Columns: {len(categorical_cols)}')\n",
    "print(f'Numeric Columns: {len(numeric_cols)}')\n",
    "\n",
    "numeric_cols = list(numeric_cols)"
   ]
  },
  {
   "cell_type": "code",
   "execution_count": 8,
   "metadata": {},
   "outputs": [
    {
     "data": {
      "text/plain": [
       "ny_gdp_mktp_kd_zg_cat     float64\n",
       "sp_dyn_le00_in_cat        float64\n",
       "ny_gdp_pcap_kd_cat        float64\n",
       "se_sec_enrr_cat           float64\n",
       "ny_gdp_mktp_kd_grw_cat    float64\n",
       "it_cel_sets_cat           float64\n",
       "year                      float64\n",
       "it_mlt_main               float64\n",
       "ny_gdp_pcap_kd            float64\n",
       "sp_dyn_le00_in            float64\n",
       "sh_dth_imrt               float64\n",
       "sm_pop_refg               float64\n",
       "sm_pop_refg_or            float64\n",
       "se_pre_enrr               float64\n",
       "se_sec_enrr               float64\n",
       "sp_urb_totl_in_zs         float64\n",
       "year_of_dictatorship      float64\n",
       "it_cel_sets_pct           float64\n",
       "dem_dep_pct               float64\n",
       "dtype: object"
      ]
     },
     "execution_count": 8,
     "metadata": {},
     "output_type": "execute_result"
    }
   ],
   "source": [
    "arg_di_df_processed.dtypes"
   ]
  },
  {
   "cell_type": "code",
   "execution_count": 9,
   "metadata": {},
   "outputs": [
    {
     "data": {
      "text/plain": [
       "['ny_gdp_mktp_kd_zg_cat, GDP growth categories',\n",
       " 'sp_dyn_le00_in_cat, Life Expectancy categories',\n",
       " 'ny_gdp_pcap_kd_cat, GDP Per Capita Categories',\n",
       " 'se_sec_enrr_cat, Secondary school enrollment categories',\n",
       " 'ny_gdp_mktp_kd_grw_cat, GDP Growth Volatility',\n",
       " 'it_cel_sets_cat, Mobile Subscription Categories',\n",
       " 'year, Year',\n",
       " 'it_mlt_main, Fixed telephone subscriptions',\n",
       " 'ny_gdp_pcap_kd, GDP per capita (constant 2015 US$)',\n",
       " 'sp_dyn_le00_in, Life expectancy at birth, total (years)',\n",
       " 'sh_dth_imrt, Number of infant deaths',\n",
       " 'sm_pop_refg, Refugee population by country or territory of asylum',\n",
       " 'sm_pop_refg_or, Refugee population by country or territory of origin',\n",
       " 'se_pre_enrr, School enrollment, preprimary (% gross)',\n",
       " 'se_sec_enrr, School enrollment, secondary (% gross)',\n",
       " 'sp_urb_totl_in_zs, Urban population (% of total population)',\n",
       " 'year_of_dictatorship, It was a year of military dictatorship',\n",
       " 'it_cel_sets_pct, Mobile Subscription (% of total population)',\n",
       " 'dem_dep_pct, Percentage of Worker Age Population']"
      ]
     },
     "execution_count": 9,
     "metadata": {},
     "output_type": "execute_result"
    }
   ],
   "source": [
    "indicators_names"
   ]
  },
  {
   "cell_type": "code",
   "execution_count": 10,
   "metadata": {},
   "outputs": [
    {
     "data": {
      "text/plain": [
       "['sp_dyn_le00_in']"
      ]
     },
     "execution_count": 10,
     "metadata": {},
     "output_type": "execute_result"
    }
   ],
   "source": [
    "columns_with_missing_values"
   ]
  },
  {
   "cell_type": "markdown",
   "metadata": {},
   "source": [
    "# Split target variable"
   ]
  },
  {
   "cell_type": "markdown",
   "metadata": {},
   "source": [
    "Target variable: sp_dyn_le00_in (Life expectancy at birth, total (years))"
   ]
  },
  {
   "cell_type": "code",
   "execution_count": 11,
   "metadata": {},
   "outputs": [],
   "source": [
    "target_variable = \"sp_dyn_le00_in\"\n",
    "target_variable_name = get_indicator_name(target_variable, True)"
   ]
  },
  {
   "cell_type": "code",
   "execution_count": 12,
   "metadata": {},
   "outputs": [],
   "source": [
    "if target_variable in numeric_cols:\n",
    "    numeric_cols.remove(target_variable)\n",
    "    \n",
    "if 'year' in numeric_cols:\n",
    "    numeric_cols.remove('year')"
   ]
  },
  {
   "cell_type": "markdown",
   "metadata": {},
   "source": [
    "## Split rows with missing values in the target variable"
   ]
  },
  {
   "cell_type": "code",
   "execution_count": 13,
   "metadata": {},
   "outputs": [
    {
     "data": {
      "text/html": [
       "<div>\n",
       "<style scoped>\n",
       "    .dataframe tbody tr th:only-of-type {\n",
       "        vertical-align: middle;\n",
       "    }\n",
       "\n",
       "    .dataframe tbody tr th {\n",
       "        vertical-align: top;\n",
       "    }\n",
       "\n",
       "    .dataframe thead th {\n",
       "        text-align: right;\n",
       "    }\n",
       "</style>\n",
       "<table border=\"1\" class=\"dataframe\">\n",
       "  <thead>\n",
       "    <tr style=\"text-align: right;\">\n",
       "      <th></th>\n",
       "      <th>ny_gdp_mktp_kd_zg_cat</th>\n",
       "      <th>sp_dyn_le00_in_cat</th>\n",
       "      <th>ny_gdp_pcap_kd_cat</th>\n",
       "      <th>se_sec_enrr_cat</th>\n",
       "      <th>ny_gdp_mktp_kd_grw_cat</th>\n",
       "      <th>it_cel_sets_cat</th>\n",
       "      <th>year</th>\n",
       "      <th>it_mlt_main</th>\n",
       "      <th>ny_gdp_pcap_kd</th>\n",
       "      <th>sp_dyn_le00_in</th>\n",
       "      <th>sh_dth_imrt</th>\n",
       "      <th>sm_pop_refg</th>\n",
       "      <th>sm_pop_refg_or</th>\n",
       "      <th>se_pre_enrr</th>\n",
       "      <th>se_sec_enrr</th>\n",
       "      <th>sp_urb_totl_in_zs</th>\n",
       "      <th>year_of_dictatorship</th>\n",
       "      <th>it_cel_sets_pct</th>\n",
       "      <th>dem_dep_pct</th>\n",
       "    </tr>\n",
       "  </thead>\n",
       "  <tbody>\n",
       "    <tr>\n",
       "      <th>53</th>\n",
       "      <td>1.0</td>\n",
       "      <td>0.0</td>\n",
       "      <td>3.0</td>\n",
       "      <td>0.0</td>\n",
       "      <td>1.0</td>\n",
       "      <td>4.0</td>\n",
       "      <td>2023.0</td>\n",
       "      <td>0.412407</td>\n",
       "      <td>1.011066</td>\n",
       "      <td>NaN</td>\n",
       "      <td>-0.924576</td>\n",
       "      <td>-0.68224</td>\n",
       "      <td>-0.184756</td>\n",
       "      <td>1.036592</td>\n",
       "      <td>1.152048</td>\n",
       "      <td>1.264111</td>\n",
       "      <td>-0.534522</td>\n",
       "      <td>1.418794</td>\n",
       "      <td>-1.852406</td>\n",
       "    </tr>\n",
       "  </tbody>\n",
       "</table>\n",
       "</div>"
      ],
      "text/plain": [
       "    ny_gdp_mktp_kd_zg_cat  sp_dyn_le00_in_cat  ny_gdp_pcap_kd_cat  \\\n",
       "53                    1.0                 0.0                 3.0   \n",
       "\n",
       "    se_sec_enrr_cat  ny_gdp_mktp_kd_grw_cat  it_cel_sets_cat    year  \\\n",
       "53              0.0                     1.0              4.0  2023.0   \n",
       "\n",
       "    it_mlt_main  ny_gdp_pcap_kd  sp_dyn_le00_in  sh_dth_imrt  sm_pop_refg  \\\n",
       "53     0.412407        1.011066             NaN    -0.924576     -0.68224   \n",
       "\n",
       "    sm_pop_refg_or  se_pre_enrr  se_sec_enrr  sp_urb_totl_in_zs  \\\n",
       "53       -0.184756     1.036592     1.152048           1.264111   \n",
       "\n",
       "    year_of_dictatorship  it_cel_sets_pct  dem_dep_pct  \n",
       "53             -0.534522         1.418794    -1.852406  "
      ]
     },
     "execution_count": 13,
     "metadata": {},
     "output_type": "execute_result"
    }
   ],
   "source": [
    "rows_with_na = arg_di_df_processed[arg_di_df_processed[target_variable].isna()].copy()\n",
    "rows_with_na"
   ]
  },
  {
   "cell_type": "code",
   "execution_count": 14,
   "metadata": {},
   "outputs": [
    {
     "data": {
      "text/plain": [
       "((53, 11), (53,))"
      ]
     },
     "execution_count": 14,
     "metadata": {},
     "output_type": "execute_result"
    }
   ],
   "source": [
    "X = arg_di_df_processed.drop(index=rows_with_na.index)[numeric_cols]\n",
    "y = arg_di_df_processed.drop(index=rows_with_na.index)[target_variable]\n",
    "\n",
    "X.shape, y.shape"
   ]
  },
  {
   "cell_type": "markdown",
   "metadata": {},
   "source": [
    "# Apply Linear Regression"
   ]
  },
  {
   "cell_type": "code",
   "execution_count": 15,
   "metadata": {},
   "outputs": [],
   "source": [
    "def plot_residuals(y_test, y_pred):\n",
    "    residuals = np.subtract(y_test, y_pred.reshape(-1))\n",
    "    title = \"Linear Regression Residuals\"\n",
    "    sns.scatterplot(x=y_pred, y=residuals)\n",
    "    plt.title(title)\n",
    "    plt.ylabel(\"\")\n",
    "    plt.show()\n",
    "    \n",
    "def apply_linear_regression(X, y, with_plot=True, print_shape=False, return_model=False):\n",
    "\n",
    "    # Split data\n",
    "    X_train, X_test, y_train, y_test = train_test_split(X, y, test_size=0.2, random_state=42)\n",
    "    \n",
    "    if print_shape:\n",
    "        print('X_train shape: ', X_train.shape )\n",
    "        print('X_test shape: ', X_test.shape )\n",
    "        print('y_train shape: ', y_train.shape)\n",
    "        print('y_test shape: ', y_test.shape)\n",
    "\n",
    "    # Model training\n",
    "    model = LinearRegression()\n",
    "    model.fit(X_train, y_train)\n",
    "    y_pred = model.predict(X_test)\n",
    "    \n",
    "    y_pred.reshape(-1)\n",
    "    X_test_sm = sm.add_constant(X_test)\n",
    "    \n",
    "    model_sm = sm.OLS(y_test, X_test_sm).fit()\n",
    "\n",
    "    if with_plot:\n",
    "        plot_residuals(y_test, y_pred)\n",
    "\n",
    "    if return_model:\n",
    "        return model_sm\n",
    "    else:\n",
    "        print('mse', round(metrics.mean_squared_error(y_test, y_pred),4))\n",
    "        print(model_sm.summary())\n",
    "        \n",
    "    return None"
   ]
  },
  {
   "cell_type": "code",
   "execution_count": 16,
   "metadata": {},
   "outputs": [
    {
     "name": "stdout",
     "output_type": "stream",
     "text": [
      "X_train shape:  (42, 11)\n",
      "X_test shape:  (11, 11)\n",
      "y_train shape:  (42,)\n",
      "y_test shape:  (11,)\n"
     ]
    },
    {
     "data": {
      "image/png": "[encoded data removed]",
      "text/plain": [
       "<Figure size 640x480 with 1 Axes>"
      ]
     },
     "metadata": {},
     "output_type": "display_data"
    },
    {
     "name": "stdout",
     "output_type": "stream",
     "text": [
      "mse 0.0031\n",
      "                            OLS Regression Results                            \n",
      "==============================================================================\n",
      "Dep. Variable:         sp_dyn_le00_in   R-squared:                       1.000\n",
      "Model:                            OLS   Adj. R-squared:                    nan\n",
      "Method:                 Least Squares   F-statistic:                       nan\n",
      "Date:                Tue, 19 Aug 2025   Prob (F-statistic):                nan\n",
      "Time:                        07:47:50   Log-Likelihood:                 357.16\n",
      "No. Observations:                  11   AIC:                            -692.3\n",
      "Df Residuals:                       0   BIC:                            -687.9\n",
      "Df Model:                          10                                         \n",
      "Covariance Type:            nonrobust                                         \n",
      "========================================================================================\n",
      "                           coef    std err          t      P>|t|      [0.025      0.975]\n",
      "----------------------------------------------------------------------------------------\n",
      "const                   -0.0112        inf         -0        nan         nan         nan\n",
      "it_mlt_main              0.0705        inf          0        nan         nan         nan\n",
      "ny_gdp_pcap_kd           0.1247        inf          0        nan         nan         nan\n",
      "sh_dth_imrt              0.6151        inf          0        nan         nan         nan\n",
      "sm_pop_refg             -0.0396        inf         -0        nan         nan         nan\n",
      "sm_pop_refg_or          -0.0070        inf         -0        nan         nan         nan\n",
      "se_pre_enrr             -0.1193        inf         -0        nan         nan         nan\n",
      "se_sec_enrr              0.8125        inf          0        nan         nan         nan\n",
      "sp_urb_totl_in_zs        0.8621        inf          0        nan         nan         nan\n",
      "year_of_dictatorship     0.0707        inf          0        nan         nan         nan\n",
      "it_cel_sets_pct          0.0925        inf          0        nan         nan         nan\n",
      "dem_dep_pct              0.3089        inf          0        nan         nan         nan\n",
      "==============================================================================\n",
      "Omnibus:                        0.525   Durbin-Watson:                   2.629\n",
      "Prob(Omnibus):                  0.769   Jarque-Bera (JB):                0.531\n",
      "Skew:                           0.160   Prob(JB):                        0.767\n",
      "Kurtosis:                       1.972   Cond. No.                         227.\n",
      "==============================================================================\n",
      "\n",
      "Notes:\n",
      "[1] Standard Errors assume that the covariance matrix of the errors is correctly specified.\n",
      "[2] The input rank is higher than the number of observations.\n"
     ]
    },
    {
     "name": "stderr",
     "output_type": "stream",
     "text": [
      "/home/ubuntu/anaconda3/envs/research-on-argentina/lib/python3.11/site-packages/scipy/stats/_axis_nan_policy.py:430: UserWarning: `kurtosistest` p-value may be inaccurate with fewer than 20 observations; only n=11 observations were given.\n",
      "  return hypotest_fun_in(*args, **kwds)\n",
      "/home/ubuntu/anaconda3/envs/research-on-argentina/lib/python3.11/site-packages/statsmodels/regression/linear_model.py:1795: RuntimeWarning: divide by zero encountered in divide\n",
      "  return 1 - (np.divide(self.nobs - self.k_constant, self.df_resid)\n",
      "/home/ubuntu/anaconda3/envs/research-on-argentina/lib/python3.11/site-packages/statsmodels/regression/linear_model.py:1795: RuntimeWarning: invalid value encountered in scalar multiply\n",
      "  return 1 - (np.divide(self.nobs - self.k_constant, self.df_resid)\n",
      "/home/ubuntu/anaconda3/envs/research-on-argentina/lib/python3.11/site-packages/statsmodels/regression/linear_model.py:1717: RuntimeWarning: divide by zero encountered in scalar divide\n",
      "  return np.dot(wresid, wresid) / self.df_resid\n"
     ]
    }
   ],
   "source": [
    "apply_linear_regression(X, y, True, True)"
   ]
  },
  {
   "cell_type": "markdown",
   "metadata": {},
   "source": [
    "This model is not useful due to the proportion between rows and columns"
   ]
  },
  {
   "cell_type": "markdown",
   "metadata": {},
   "source": [
    "## Check correlation between variables to select less variables"
   ]
  },
  {
   "cell_type": "code",
   "execution_count": 17,
   "metadata": {},
   "outputs": [
    {
     "data": {
      "text/plain": [
       "<Axes: >"
      ]
     },
     "execution_count": 17,
     "metadata": {},
     "output_type": "execute_result"
    },
    {
     "data": {
      "image/png": "[encoded data removed]",
      "text/plain": [
       "<Figure size 640x480 with 2 Axes>"
      ]
     },
     "metadata": {},
     "output_type": "display_data"
    }
   ],
   "source": [
    "corr_matrix = arg_di_df_processed[sorted(numeric_cols)].corr()\n",
    "high_corr_matrix = corr_matrix[(corr_matrix > 0.8) & (corr_matrix < 1)]\n",
    "sns.heatmap(data=high_corr_matrix, cmap='coolwarm')"
   ]
  },
  {
   "cell_type": "markdown",
   "metadata": {},
   "source": [
    "### Selection of 3 variables for building the model"
   ]
  },
  {
   "cell_type": "code",
   "execution_count": 18,
   "metadata": {},
   "outputs": [],
   "source": [
    "variables_by_type_of_information = pd.DataFrame([\n",
    "    {'column_name':'it_mlt_main','information_type':'technology'},\n",
    "    {'column_name':'ny_gdp_pcap_kd','information_type':'economic'},\n",
    "    {'column_name':'sh_dth_imrt','information_type':'health'},\n",
    "    {'column_name':'sm_pop_refg','information_type':'population'},\n",
    "    {'column_name':'sm_pop_refg_or','information_type':'population'},\n",
    "    {'column_name':'se_pre_enrr','information_type':'education'},\n",
    "    {'column_name':'se_sec_enrr','information_type':'education'},\n",
    "    {'column_name':'sp_urb_totl_in_zs','information_type':'population'},\n",
    "    {'column_name':'it_cel_sets_pct','information_type':'technology'},\n",
    "    {'column_name':'dem_dep_pct','information_type':'population'}\n",
    "])\n",
    "\n",
    "information_types = variables_by_type_of_information['information_type'].unique()\n",
    "\n",
    "import itertools\n",
    "combinations = []\n",
    "\n",
    "for combo in itertools.combinations(variables_by_type_of_information.itertuples(index=False), 3):\n",
    "    types = {combo[0].information_type, combo[1].information_type, combo[2].information_type}\n",
    "    if len(types) == 3:\n",
    "        combinations.append([\n",
    "            combo[0].column_name,\n",
    "            combo[1].column_name,\n",
    "            combo[2].column_name\n",
    "        ])"
   ]
  },
  {
   "cell_type": "code",
   "execution_count": 19,
   "metadata": {},
   "outputs": [],
   "source": [
    "models = []\n",
    "\n",
    "for combination in combinations:\n",
    "    models.append(apply_linear_regression(X[combination],y, False, False, True)) "
   ]
  },
  {
   "cell_type": "code",
   "execution_count": 22,
   "metadata": {},
   "outputs": [],
   "source": [
    "def is_good_model(model, r2_threshold=0.7, f_pvalue_threshold=0.05, coef_pvalue_threshold=0.05):\n",
    "    \"\"\"\n",
    "    Check if an OLS model meets the quality criteria.\n",
    "    \n",
    "    Parameters:\n",
    "        model: A fitted statsmodels OLS object (e.g., sm.OLS(...).fit()).\n",
    "        r2_threshold: Minimum R² or Adj. R² required.\n",
    "        f_pvalue_threshold: Maximum acceptable p-value for F-statistic.\n",
    "        coef_pvalue_threshold: Maximum acceptable p-value for individual predictors.\n",
    "        \n",
    "    Returns:\n",
    "        bool: True if model is considered \"good\", otherwise False.\n",
    "    \"\"\"\n",
    "    pvalues = model.pvalues.drop('const', errors='ignore')\n",
    "        \n",
    "    if (\n",
    "        model.rsquared > r2_threshold\n",
    "        and model.rsquared_adj > r2_threshold\n",
    "        and model.f_pvalue < f_pvalue_threshold\n",
    "        and any(p > coef_pvalue_threshold for p in pvalues)\n",
    "    ):\n",
    "        return True\n",
    "    else:\n",
    "        return False"
   ]
  },
  {
   "cell_type": "code",
   "execution_count": null,
   "metadata": {},
   "outputs": [
    {
     "data": {
      "text/plain": [
       "59"
      ]
     },
     "execution_count": 23,
     "metadata": {},
     "output_type": "execute_result"
    }
   ],
   "source": [
    "good_models = []\n",
    "for model in models:\n",
    "    if is_good_model(model):\n",
    "        good_models.append(model)"
   ]
  },
  {
   "cell_type": "markdown",
   "metadata": {},
   "source": [
    "## Apply PCA"
   ]
  },
  {
   "cell_type": "markdown",
   "metadata": {},
   "source": [
    "arg_di_df_processed is already scaled"
   ]
  },
  {
   "cell_type": "code",
   "execution_count": 27,
   "metadata": {},
   "outputs": [],
   "source": [
    "pca = PCA()\n",
    "pca.fit(X)\n",
    "pca_data_scaled = pca.transform(X)"
   ]
  },
  {
   "cell_type": "code",
   "execution_count": 28,
   "metadata": {},
   "outputs": [
    {
     "data": {
      "image/png": "[encoded data removed]",
      "text/plain": [
       "<Figure size 1000x1000 with 1 Axes>"
      ]
     },
     "metadata": {},
     "output_type": "display_data"
    }
   ],
   "source": [
    "var = pca.explained_variance_ratio_\n",
    "cum_var = np.cumsum(np.round(var, decimals=4)*100)\n",
    "\n",
    "plt.figure(figsize=(10,10))\n",
    "plt.plot(cum_var,'r-x')\n",
    "plt.show()"
   ]
  },
  {
   "cell_type": "code",
   "execution_count": 37,
   "metadata": {},
   "outputs": [],
   "source": [
    "pca_data_standard = pd.DataFrame(pca_data_scaled)\n",
    "pca_data_standard.drop(columns=[4,5,6,7,8,9,10], inplace=True)"
   ]
  },
  {
   "cell_type": "code",
   "execution_count": 38,
   "metadata": {},
   "outputs": [
    {
     "data": {
      "text/html": [
       "<div>\n",
       "<style scoped>\n",
       "    .dataframe tbody tr th:only-of-type {\n",
       "        vertical-align: middle;\n",
       "    }\n",
       "\n",
       "    .dataframe tbody tr th {\n",
       "        vertical-align: top;\n",
       "    }\n",
       "\n",
       "    .dataframe thead th {\n",
       "        text-align: right;\n",
       "    }\n",
       "</style>\n",
       "<table border=\"1\" class=\"dataframe\">\n",
       "  <thead>\n",
       "    <tr style=\"text-align: right;\">\n",
       "      <th></th>\n",
       "      <th>0</th>\n",
       "      <th>1</th>\n",
       "      <th>2</th>\n",
       "      <th>3</th>\n",
       "    </tr>\n",
       "  </thead>\n",
       "  <tbody>\n",
       "    <tr>\n",
       "      <th>0</th>\n",
       "      <td>-4.532201</td>\n",
       "      <td>-1.854976</td>\n",
       "      <td>0.801481</td>\n",
       "      <td>-0.259345</td>\n",
       "    </tr>\n",
       "    <tr>\n",
       "      <th>1</th>\n",
       "      <td>-4.388583</td>\n",
       "      <td>-1.880528</td>\n",
       "      <td>0.767853</td>\n",
       "      <td>-0.190175</td>\n",
       "    </tr>\n",
       "    <tr>\n",
       "      <th>2</th>\n",
       "      <td>-4.290122</td>\n",
       "      <td>-1.802962</td>\n",
       "      <td>0.741133</td>\n",
       "      <td>-0.123401</td>\n",
       "    </tr>\n",
       "    <tr>\n",
       "      <th>3</th>\n",
       "      <td>-4.299675</td>\n",
       "      <td>-1.890429</td>\n",
       "      <td>0.521783</td>\n",
       "      <td>-0.146261</td>\n",
       "    </tr>\n",
       "    <tr>\n",
       "      <th>4</th>\n",
       "      <td>-3.880130</td>\n",
       "      <td>-1.455514</td>\n",
       "      <td>-1.064393</td>\n",
       "      <td>-2.087991</td>\n",
       "    </tr>\n",
       "  </tbody>\n",
       "</table>\n",
       "</div>"
      ],
      "text/plain": [
       "          0         1         2         3\n",
       "0 -4.532201 -1.854976  0.801481 -0.259345\n",
       "1 -4.388583 -1.880528  0.767853 -0.190175\n",
       "2 -4.290122 -1.802962  0.741133 -0.123401\n",
       "3 -4.299675 -1.890429  0.521783 -0.146261\n",
       "4 -3.880130 -1.455514 -1.064393 -2.087991"
      ]
     },
     "execution_count": 38,
     "metadata": {},
     "output_type": "execute_result"
    }
   ],
   "source": [
    "pca_data_standard.head()"
   ]
  },
  {
   "cell_type": "code",
   "execution_count": 39,
   "metadata": {},
   "outputs": [
    {
     "name": "stdout",
     "output_type": "stream",
     "text": [
      "X_train shape:  (42, 4)\n",
      "X_test shape:  (11, 4)\n",
      "y_train shape:  (42,)\n",
      "y_test shape:  (11,)\n"
     ]
    },
    {
     "data": {
      "image/png": "[encoded data removed]",
      "text/plain": [
       "<Figure size 640x480 with 1 Axes>"
      ]
     },
     "metadata": {},
     "output_type": "display_data"
    },
    {
     "name": "stdout",
     "output_type": "stream",
     "text": [
      "mse 0.0255\n",
      "                            OLS Regression Results                            \n",
      "==============================================================================\n",
      "Dep. Variable:         sp_dyn_le00_in   R-squared:                       0.994\n",
      "Model:                            OLS   Adj. R-squared:                  0.990\n",
      "Method:                 Least Squares   F-statistic:                     243.2\n",
      "Date:                Tue, 19 Aug 2025   Prob (F-statistic):           9.17e-07\n",
      "Time:                        08:12:52   Log-Likelihood:                 11.775\n",
      "No. Observations:                  11   AIC:                            -13.55\n",
      "Df Residuals:                       6   BIC:                            -11.56\n",
      "Df Model:                           4                                         \n",
      "Covariance Type:            nonrobust                                         \n",
      "==============================================================================\n",
      "                 coef    std err          t      P>|t|      [0.025      0.975]\n",
      "------------------------------------------------------------------------------\n",
      "const         -0.0392      0.035     -1.132      0.301      -0.124       0.046\n",
      "0              0.3621      0.012     29.709      0.000       0.332       0.392\n",
      "1              0.0819      0.028      2.942      0.026       0.014       0.150\n",
      "2             -0.0442      0.033     -1.347      0.227      -0.124       0.036\n",
      "3              0.0106      0.044      0.239      0.819      -0.098       0.119\n",
      "==============================================================================\n",
      "Omnibus:                        0.465   Durbin-Watson:                   1.497\n",
      "Prob(Omnibus):                  0.792   Jarque-Bera (JB):                0.496\n",
      "Skew:                          -0.362   Prob(JB):                        0.780\n",
      "Kurtosis:                       2.253   Cond. No.                         4.21\n",
      "==============================================================================\n",
      "\n",
      "Notes:\n",
      "[1] Standard Errors assume that the covariance matrix of the errors is correctly specified.\n"
     ]
    },
    {
     "name": "stderr",
     "output_type": "stream",
     "text": [
      "/home/ubuntu/anaconda3/envs/research-on-argentina/lib/python3.11/site-packages/scipy/stats/_axis_nan_policy.py:430: UserWarning: `kurtosistest` p-value may be inaccurate with fewer than 20 observations; only n=11 observations were given.\n",
      "  return hypotest_fun_in(*args, **kwds)\n"
     ]
    }
   ],
   "source": [
    "apply_linear_regression(pca_data_standard, y, True, True)"
   ]
  },
  {
   "cell_type": "code",
   "execution_count": 41,
   "metadata": {},
   "outputs": [
    {
     "name": "stdout",
     "output_type": "stream",
     "text": [
      "X_train shape:  (42, 3)\n",
      "X_test shape:  (11, 3)\n",
      "y_train shape:  (42,)\n",
      "y_test shape:  (11,)\n"
     ]
    },
    {
     "data": {
      "image/png": "[encoded data removed]",
      "text/plain": [
       "<Figure size 640x480 with 1 Axes>"
      ]
     },
     "metadata": {},
     "output_type": "display_data"
    },
    {
     "name": "stdout",
     "output_type": "stream",
     "text": [
      "mse 0.0107\n",
      "                            OLS Regression Results                            \n",
      "==============================================================================\n",
      "Dep. Variable:         sp_dyn_le00_in   R-squared:                       0.994\n",
      "Model:                            OLS   Adj. R-squared:                  0.991\n",
      "Method:                 Least Squares   F-statistic:                     374.8\n",
      "Date:                Tue, 19 Aug 2025   Prob (F-statistic):           4.33e-08\n",
      "Time:                        08:13:12   Log-Likelihood:                 11.723\n",
      "No. Observations:                  11   AIC:                            -15.45\n",
      "Df Residuals:                       7   BIC:                            -13.86\n",
      "Df Model:                           3                                         \n",
      "Covariance Type:            nonrobust                                         \n",
      "==============================================================================\n",
      "                 coef    std err          t      P>|t|      [0.025      0.975]\n",
      "------------------------------------------------------------------------------\n",
      "const         -0.0378      0.032     -1.190      0.273      -0.113       0.037\n",
      "0              0.3628      0.011     32.850      0.000       0.337       0.389\n",
      "1              0.0836      0.025      3.341      0.012       0.024       0.143\n",
      "2             -0.0415      0.029     -1.446      0.192      -0.109       0.026\n",
      "==============================================================================\n",
      "Omnibus:                        0.666   Durbin-Watson:                   1.430\n",
      "Prob(Omnibus):                  0.717   Jarque-Bera (JB):                0.639\n",
      "Skew:                          -0.381   Prob(JB):                        0.727\n",
      "Kurtosis:                       2.098   Cond. No.                         3.01\n",
      "==============================================================================\n",
      "\n",
      "Notes:\n",
      "[1] Standard Errors assume that the covariance matrix of the errors is correctly specified.\n"
     ]
    },
    {
     "name": "stderr",
     "output_type": "stream",
     "text": [
      "/home/ubuntu/anaconda3/envs/research-on-argentina/lib/python3.11/site-packages/scipy/stats/_axis_nan_policy.py:430: UserWarning: `kurtosistest` p-value may be inaccurate with fewer than 20 observations; only n=11 observations were given.\n",
      "  return hypotest_fun_in(*args, **kwds)\n"
     ]
    }
   ],
   "source": [
    "apply_linear_regression(pca_data_standard[[0,1,2]], y, True, True)"
   ]
  }
 ],
 "metadata": {
  "kernelspec": {
   "display_name": "research-on-argentina",
   "language": "python",
   "name": "python3"
  },
  "language_info": {
   "codemirror_mode": {
    "name": "ipython",
    "version": 3
   },
   "file_extension": ".py",
   "mimetype": "text/x-python",
   "name": "python",
   "nbconvert_exporter": "python",
   "pygments_lexer": "ipython3",
   "version": "3.11.5"
  }
 },
 "nbformat": 4,
 "nbformat_minor": 2
}
