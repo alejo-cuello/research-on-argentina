{
 "cells": [
  {
   "cell_type": "markdown",
   "metadata": {},
   "source": [
    "### Types of missing data:\n",
    "\n",
    "MCAR: Missing Completely At Random -> Data deletion or imputation (imputation is more recommended)\n",
    "    The missing values in the data set occur completely at random. They don't depend on any other data. Example: when a device such a security camera stops working.\n",
    "\n",
    "MAR: Missing At Random -> Single or multiple imputation (consider one or several columns during imputation)\n",
    "    The missing values depends on other observed values. Example: devices required a periodic maintenance to ensure consistent operation, so the data will be missing during those maintenance period.\n",
    "\n",
    "MNAR: Missing Not At Random -> This kind of missing values require to perform sensivity analysis\n",
    "    The missing values depends on the missing values themselves. They are very difficult to identify. And we may not even know that the data is missing. Example: tools have limitations. When attempting to track data out in areas beyond the measurement range, missing values are generated. Example, a scale not detecting very small or very large values.\n"
   ]
  }
 ],
 "metadata": {
  "language_info": {
   "name": "python"
  }
 },
 "nbformat": 4,
 "nbformat_minor": 2
}
