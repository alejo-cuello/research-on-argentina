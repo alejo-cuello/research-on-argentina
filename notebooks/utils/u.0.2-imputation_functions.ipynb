{
 "cells": [
  {
   "cell_type": "code",
   "execution_count": null,
   "metadata": {
    "vscode": {
     "languageId": "plaintext"
    }
   },
   "outputs": [],
   "source": [
    "def column_fill_with_dummies(\n",
    "    column: pd.Series,\n",
    "    proportion_below: float=0.10,\n",
    "    jitter: float=0.075,\n",
    "    seed: int=42\n",
    ") -> pd.Series:\n",
    "\n",
    "    column = column.copy(deep=True)\n",
    "\n",
    "    # Extract values metadata.\n",
    "    missing_mask = column.isna()\n",
    "    number_missing_values = missing_mask.sum()\n",
    "    column_range = column.max() - column.min()\n",
    "\n",
    "    # Shift data\n",
    "    column_shift = column.min() - column.min() * proportion_below\n",
    "\n",
    "    # Create the \"jitter\" (noise) to be added around the points.\n",
    "    np.random.seed(seed)\n",
    "    column_jitter = (np.random.rand(number_missing_values) - 2) * column_range * jitter\n",
    "\n",
    "    # Save new dummy data.\n",
    "    column[missing_mask] = column_shift + column_jitter\n",
    "\n",
    "    return column\n",
    "\n",
    "\n",
    "def xdxd():\n",
    "    (\n",
    "        riskfactors_df\n",
    "        .select_columns(\"weight_lbs\", \"height_inch\", \"bmi\")\n",
    "        .missing.bind_shadow_matrix(true_string=True, false_string=False)\n",
    "        .apply(\n",
    "            axis=\"rows\",\n",
    "            func=lambda column: column.fillna(column.mean())\n",
    "            if \"_NA\" not in column.name\n",
    "            else column,\n",
    "        )\n",
    "        .pivot_longer(\n",
    "            index=\"*_NA\"\n",
    "        )\n",
    "        .pivot_longer(\n",
    "            index=[\"variable\", 'value'],\n",
    "            names_to=\"variable_NA\",\n",
    "            values_to=\"value_NA\"\n",
    "        )\n",
    "        .assign(\n",
    "            valid=lambda df: df.apply(axis=\"columns\", func=lambda column: column.variable in column.variable_NA)\n",
    "        )\n",
    "        .query(\"valid\")\n",
    "        .pipe(\n",
    "            lambda df: (\n",
    "                sns.displot(\n",
    "                    data=df,\n",
    "                    x=\"value\",\n",
    "                    hue=\"value_NA\",\n",
    "                    col=\"variable\",\n",
    "                    common_bins=False,\n",
    "                    facet_kws={\n",
    "                        \"sharex\": False,\n",
    "                        \"sharey\": False\n",
    "                    }\n",
    "                )\n",
    "            )\n",
    "        )\n",
    "    )"
   ]
  },
  {
   "cell_type": "code",
   "execution_count": null,
   "metadata": {
    "vscode": {
     "languageId": "plaintext"
    }
   },
   "outputs": [],
   "source": []
  }
 ],
 "metadata": {
  "language_info": {
   "name": "python"
  }
 },
 "nbformat": 4,
 "nbformat_minor": 2
}
