{
 "cells": [
  {
   "cell_type": "code",
   "execution_count": null,
   "metadata": {
    "vscode": {
     "languageId": "plaintext"
    }
   },
   "outputs": [],
   "source": [
    "\n",
    "\n",
    "\n",
    "def xdxd():\n",
    "    (\n",
    "        riskfactors_df\n",
    "        .select_columns(\"weight_lbs\", \"height_inch\", \"bmi\")\n",
    "        .missing.bind_shadow_matrix(true_string=True, false_string=False)\n",
    "        .apply(\n",
    "            axis=\"rows\",\n",
    "            func=lambda column: column.fillna(column.mean())\n",
    "            if \"_NA\" not in column.name\n",
    "            else column,\n",
    "        )\n",
    "        .pivot_longer(\n",
    "            index=\"*_NA\"\n",
    "        )\n",
    "        .pivot_longer(\n",
    "            index=[\"variable\", 'value'],\n",
    "            names_to=\"variable_NA\",\n",
    "            values_to=\"value_NA\"\n",
    "        )\n",
    "        .assign(\n",
    "            valid=lambda df: df.apply(axis=\"columns\", func=lambda column: column.variable in column.variable_NA)\n",
    "        )\n",
    "        .query(\"valid\")\n",
    "        .pipe(\n",
    "            lambda df: (\n",
    "                sns.displot(\n",
    "                    data=df,\n",
    "                    x=\"value\",\n",
    "                    hue=\"value_NA\",\n",
    "                    col=\"variable\",\n",
    "                    common_bins=False,\n",
    "                    facet_kws={\n",
    "                        \"sharex\": False,\n",
    "                        \"sharey\": False\n",
    "                    }\n",
    "                )\n",
    "            )\n",
    "        )\n",
    "    )"
   ]
  }
 ],
 "metadata": {
  "language_info": {
   "name": "python"
  }
 },
 "nbformat": 4,
 "nbformat_minor": 2
}
