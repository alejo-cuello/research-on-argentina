{
 "cells": [
  {
   "cell_type": "markdown",
   "metadata": {},
   "source": [
    "#### Getting DataFrame dictionary and setting another variables"
   ]
  },
  {
   "cell_type": "code",
   "execution_count": null,
   "metadata": {},
   "outputs": [],
   "source": [
    "df_dictionary = pd.read_csv('../data/utils/DF_DICTIONARY.csv')\n",
    "\n",
    "years_of_military_dictatorship = [\n",
    "    (1930,1932),\n",
    "    (1943,1946),\n",
    "    (1955,1958),\n",
    "    (1962,1963),\n",
    "    (1966,1973),\n",
    "    (1976,1983)\n",
    "]\n",
    "\n",
    "# Setting initial plots styles\n",
    "sns.set_style(\n",
    "    rc={\n",
    "        \"figure.figsize\": (8, 6)\n",
    "    },\n",
    "    style=\"whitegrid\"\n",
    ")"
   ]
  },
  {
   "cell_type": "markdown",
   "metadata": {},
   "source": [
    "## DataFrame Dictionary Functions"
   ]
  },
  {
   "cell_type": "code",
   "execution_count": 1,
   "metadata": {},
   "outputs": [],
   "source": [
    "def get_indicator_name(indicator_code, indicator_code_in_snake_case=False):\n",
    "    if indicator_code_in_snake_case == False:\n",
    "        df_filtered = df_dictionary.loc[df_dictionary['Indicator Code'] == indicator_code, 'Indicator Name']\n",
    "        if df_filtered.empty:\n",
    "            return ''\n",
    "        else:\n",
    "            return df_filtered.iloc[0]\n",
    "    else:\n",
    "        df_filtered = df_dictionary.loc[df_dictionary['Indicator Code Snake Case'] == indicator_code, 'Indicator Name']\n",
    "        if df_filtered.empty:\n",
    "            return ''\n",
    "        else:\n",
    "            return df_filtered.iloc[0]"
   ]
  },
  {
   "cell_type": "markdown",
   "metadata": {},
   "source": [
    "# Dataframe getting columns with missing values"
   ]
  },
  {
   "cell_type": "code",
   "execution_count": null,
   "metadata": {},
   "outputs": [],
   "source": [
    "def get_columns_with_missing_values(data):\n",
    "    columns_with_missing_values = data.isna().sum().sort_values(ascending=False)\n",
    "    columns_with_missing_values = columns_with_missing_values[columns_with_missing_values > 0].index.to_list()\n",
    "    return columns_with_missing_values"
   ]
  },
  {
   "cell_type": "markdown",
   "metadata": {},
   "source": [
    "## DataFrame filtering by missing values count"
   ]
  },
  {
   "cell_type": "code",
   "execution_count": null,
   "metadata": {},
   "outputs": [],
   "source": [
    "def filter_by_cols_first(df, percentage):\n",
    "    cols_filtered_first = df.dropna(thresh=int(df.shape[0] * percentage), axis=1)\n",
    "    return cols_filtered_first.dropna(thresh=int(cols_filtered_first.shape[1] * percentage), axis=0)"
   ]
  },
  {
   "cell_type": "code",
   "execution_count": null,
   "metadata": {},
   "outputs": [],
   "source": [
    "def filter_by_rows_first(df, percentage):\n",
    "    rows_filtered_second = df.dropna(thresh=int(df.shape[1] * percentage), axis=0)\n",
    "    return rows_filtered_second.dropna(thresh=int(rows_filtered_second.shape[0] * percentage), axis=1)\n"
   ]
  },
  {
   "cell_type": "code",
   "execution_count": null,
   "metadata": {},
   "outputs": [],
   "source": [
    "#TODO: Check this alternative function\n",
    "# Calculate the percentage of non-missing values for each column\n",
    "# threshold = 0.7  # Keep indicators with at least 70% non-missing data\n",
    "# non_missing_percentage = data.notnull().mean()\n",
    "\n",
    "# # Filter indicators\n",
    "# useful_indicators = non_missing_percentage[non_missing_percentage >= threshold].index\n",
    "# filtered_data = data[useful_indicators]"
   ]
  },
  {
   "cell_type": "code",
   "execution_count": null,
   "metadata": {},
   "outputs": [],
   "source": [
    "def add_indicators_of_year(df, year):\n",
    "    new_year_indicator = arg_di_df[arg_di_df[\"Year\"] == year]\n",
    "    new_year_indicator.missing.missing_case_summary()\n",
    "    df = pd.concat([df, new_year_indicator]).sort_index()"
   ]
  },
  {
   "cell_type": "markdown",
   "metadata": {},
   "source": [
    "## Plotting functions"
   ]
  },
  {
   "cell_type": "code",
   "execution_count": 1,
   "metadata": {},
   "outputs": [],
   "source": [
    "def plot_missing_vs_variable(data, variable, variable_na, type_of_plot=\"displot\", kind=\"kde\"): \n",
    "    if type_of_plot==\"displot\":\n",
    "        sns.displot(data=data,x=variable,hue=variable_na,kind=kind)\n",
    "    elif type_of_plot==\"boxenplot\":\n",
    "        sns.boxenplot(data=data,y=variable,x=variable_na)"
   ]
  },
  {
   "cell_type": "code",
   "execution_count": 2,
   "metadata": {},
   "outputs": [],
   "source": [
    "def plot_2_missing_vs_variable(data, variable, variable_1_na, variable_2_na, type_of_plot=\"displot\"): \n",
    "    if type_of_plot==\"displot\":\n",
    "        sns.displot(data=data,x=variable,col=variable_1_na,row=variable_2_na)\n",
    "        \n",
    "def plot_2_missing(data, variable_1, variable_2, type_of_plot=\"scatterplot\"): \n",
    "    if type_of_plot==\"scatterplot\":\n",
    "        data_with_na_filled = data.apply(\n",
    "            axis=\"rows\",\n",
    "            func= lambda column: column.fillna(column.min()) if column.name in [variable_1.split(\"_NA\")[0], variable_2.split(\"_NA\")[0]] else column \n",
    "        ).assign(\n",
    "                nullity=lambda df: (df[variable_1] == \"Missing\") | (df[variable_2] == \"Missing\")\n",
    "            )\n",
    "\n",
    "        sns.scatterplot(data=data_with_na_filled, x=variable_1.split(\"_NA\")[0], y=variable_2.split(\"_NA\")[0], hue=\"nullity\")"
   ]
  },
  {
   "cell_type": "markdown",
   "metadata": {},
   "source": [
    "# Imputation Data"
   ]
  },
  {
   "cell_type": "code",
   "execution_count": null,
   "metadata": {},
   "outputs": [],
   "source": [
    "def imputation_of_missing_variable(data, variable):\n",
    "    (\n",
    "        data\n",
    "            [[variable, variable + \"_NA\"]]\n",
    "            .apply(\n",
    "                axis=\"rows\",\n",
    "                func=lambda column: column.fillna(column.mean()) if column.name == variable else column\n",
    "            )\n",
    "            .pipe(\n",
    "                lambda df: (\n",
    "                    sns.displot(\n",
    "                        data=df,\n",
    "                        x=variable,\n",
    "                        hue=variable+\"_NA\"\n",
    "                    )\n",
    "                )\n",
    "            )\n",
    "    )"
   ]
  },
  {
   "cell_type": "markdown",
   "metadata": {},
   "source": [
    "## Old functions"
   ]
  },
  {
   "cell_type": "markdown",
   "metadata": {},
   "source": [
    "#### Getting the percentage of variables with a minimum percentage of missing values"
   ]
  },
  {
   "cell_type": "code",
   "execution_count": null,
   "metadata": {},
   "outputs": [],
   "source": [
    "def percentage_of_variables_with_pct_missing(df: pd.DataFrame, percentage: float, greater_than_pct = True):\n",
    "    variable_summary = df.missing.missing_variable_summary()\n",
    "    if greater_than_pct:\n",
    "        return round(variable_summary[variable_summary['pct_missing'] >= percentage]['variable'].count() / variable_summary.shape[0], 2)\n",
    "    else:\n",
    "        return round(variable_summary[variable_summary['pct_missing'] <= percentage]['variable'].count() / variable_summary.shape[0], 2)"
   ]
  },
  {
   "cell_type": "markdown",
   "metadata": {},
   "source": [
    "#### Getting the column names with a maximum percentage of missing values"
   ]
  },
  {
   "cell_type": "code",
   "execution_count": null,
   "metadata": {},
   "outputs": [],
   "source": [
    "def columns_with_pct_missing(df: pd.DataFrame, percentage: float, greater_than_pct = True):\n",
    "    variable_summary = df.missing.missing_variable_summary()\n",
    "    if greater_than_pct:\n",
    "        missing_variables_code = list(variable_summary[variable_summary['pct_missing'] >= percentage]['variable'])\n",
    "    else:\n",
    "        missing_variables_code = list(variable_summary[variable_summary['pct_missing'] <= percentage]['variable'])\n",
    "    return missing_variables_code"
   ]
  },
  {
   "cell_type": "markdown",
   "metadata": {},
   "source": [
    "### Getting the rows with more missing values"
   ]
  },
  {
   "cell_type": "code",
   "execution_count": null,
   "metadata": {},
   "outputs": [],
   "source": [
    "def cases_with_pct_missing(df: pd.DataFrame, percentage: float, greater_than_pct = True):\n",
    "    variable_summary = df.missing.missing_case_summary()\n",
    "    if greater_than_pct:\n",
    "        indexes_of_cases = list(variable_summary[variable_summary['pct_missing'] > percentage]['case'])\n",
    "    else:\n",
    "        indexes_of_cases = list(variable_summary[variable_summary['pct_missing'] < percentage]['case'])\n",
    "    return arg_di_df.iloc[indexes_of_cases]"
   ]
  }
 ],
 "metadata": {
  "kernelspec": {
   "display_name": "research-on-argentina",
   "language": "python",
   "name": "python3"
  },
  "language_info": {
   "codemirror_mode": {
    "name": "ipython",
    "version": 3
   },
   "file_extension": ".py",
   "mimetype": "text/x-python",
   "name": "python",
   "nbconvert_exporter": "python",
   "pygments_lexer": "ipython3",
   "version": "3.11.5"
  }
 },
 "nbformat": 4,
 "nbformat_minor": 2
}
