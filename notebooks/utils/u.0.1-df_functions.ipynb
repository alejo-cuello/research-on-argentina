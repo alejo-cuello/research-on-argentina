{
 "cells": [
  {
   "cell_type": "code",
   "execution_count": null,
   "metadata": {},
   "outputs": [],
   "source": [
    "df_dictionary = pd.read_csv('../data/utils/DF_DICTIONARY.csv')\n"
   ]
  },
  {
   "cell_type": "markdown",
   "metadata": {},
   "source": [
    "## DataFrame Dictionary Functions"
   ]
  },
  {
   "cell_type": "code",
   "execution_count": null,
   "metadata": {},
   "outputs": [],
   "source": [
    "def get_indicator_name(indicator_code):\n",
    "    return df_dictionary.loc[df_dictionary['Indicator Code'] == indicator_code, 'Indicator Name'].iloc[0]"
   ]
  },
  {
   "cell_type": "code",
   "execution_count": null,
   "metadata": {},
   "outputs": [],
   "source": [
    "def get_indicator_names(indicator_codes):\n",
    "    response = []\n",
    "    for index_code in indicator_codes:\n",
    "        if(index_code.str.lower() != 'year'):\n",
    "            response.append(get_indicator_name(index_code))\n",
    "    return response"
   ]
  },
  {
   "cell_type": "markdown",
   "metadata": {},
   "source": [
    "## DataFrame filtering by missing values count"
   ]
  },
  {
   "cell_type": "code",
   "execution_count": null,
   "metadata": {},
   "outputs": [],
   "source": [
    "def filter_by_cols_first(df, percentage):\n",
    "    cols_filtered_first = df.dropna(thresh=int(df.shape[0] * percentage), axis=1)\n",
    "    return cols_filtered_first.dropna(thresh=int(cols_filtered_first.shape[1] * percentage), axis=0)"
   ]
  },
  {
   "cell_type": "code",
   "execution_count": null,
   "metadata": {},
   "outputs": [],
   "source": [
    "def filter_by_rows_first(df, percentage):\n",
    "    rows_filtered_second = df.dropna(thresh=int(df.shape[1] * percentage), axis=0)\n",
    "    return rows_filtered_second.dropna(thresh=int(rows_filtered_second.shape[0] * percentage), axis=1)\n"
   ]
  },
  {
   "cell_type": "code",
   "execution_count": null,
   "metadata": {},
   "outputs": [],
   "source": [
    "#TODO: Check this alternative function\n",
    "# Calculate the percentage of non-missing values for each column\n",
    "# threshold = 0.7  # Keep indicators with at least 70% non-missing data\n",
    "# non_missing_percentage = data.notnull().mean()\n",
    "\n",
    "# # Filter indicators\n",
    "# useful_indicators = non_missing_percentage[non_missing_percentage >= threshold].index\n",
    "# filtered_data = data[useful_indicators]"
   ]
  },
  {
   "cell_type": "code",
   "execution_count": null,
   "metadata": {},
   "outputs": [],
   "source": [
    "def add_indicators_of_year(df, year):\n",
    "    new_year_indicator = arg_di_df[arg_di_df[\"Year\"] == year]\n",
    "    new_year_indicator.missing.missing_case_summary()\n",
    "    df = pd.concat([df, new_year_indicator]).sort_index()"
   ]
  },
  {
   "cell_type": "markdown",
   "metadata": {},
   "source": [
    "## Old functions"
   ]
  },
  {
   "cell_type": "markdown",
   "metadata": {},
   "source": [
    "#### Getting the percentage of variables with a minimum percentage of missing values"
   ]
  },
  {
   "cell_type": "code",
   "execution_count": null,
   "metadata": {},
   "outputs": [],
   "source": [
    "def percentage_of_variables_with_pct_missing(df: pd.DataFrame, percentage: float, greater_than_pct = True):\n",
    "    variable_summary = df.missing.missing_variable_summary()\n",
    "    if greater_than_pct:\n",
    "        return round(variable_summary[variable_summary['pct_missing'] >= percentage]['variable'].count() / variable_summary.shape[0], 2)\n",
    "    else:\n",
    "        return round(variable_summary[variable_summary['pct_missing'] <= percentage]['variable'].count() / variable_summary.shape[0], 2)"
   ]
  },
  {
   "cell_type": "markdown",
   "metadata": {},
   "source": [
    "#### Getting the column names with a maximum percentage of missing values"
   ]
  },
  {
   "cell_type": "code",
   "execution_count": null,
   "metadata": {},
   "outputs": [],
   "source": [
    "def columns_with_pct_missing(df: pd.DataFrame, percentage: float, greater_than_pct = True):\n",
    "    variable_summary = df.missing.missing_variable_summary()\n",
    "    if greater_than_pct:\n",
    "        missing_variables_code = list(variable_summary[variable_summary['pct_missing'] >= percentage]['variable'])\n",
    "    else:\n",
    "        missing_variables_code = list(variable_summary[variable_summary['pct_missing'] <= percentage]['variable'])\n",
    "    return missing_variables_code"
   ]
  },
  {
   "cell_type": "markdown",
   "metadata": {},
   "source": [
    "### Getting the rows with more missing values"
   ]
  },
  {
   "cell_type": "code",
   "execution_count": null,
   "metadata": {},
   "outputs": [],
   "source": [
    "def cases_with_pct_missing(df: pd.DataFrame, percentage: float, greater_than_pct = True):\n",
    "    variable_summary = df.missing.missing_case_summary()\n",
    "    if greater_than_pct:\n",
    "        indexes_of_cases = list(variable_summary[variable_summary['pct_missing'] > percentage]['case'])\n",
    "    else:\n",
    "        indexes_of_cases = list(variable_summary[variable_summary['pct_missing'] < percentage]['case'])\n",
    "    return arg_di_df.iloc[indexes_of_cases]"
   ]
  }
 ],
 "metadata": {
  "kernelspec": {
   "display_name": "research-on-argentina",
   "language": "python",
   "name": "python3"
  },
  "language_info": {
   "codemirror_mode": {
    "name": "ipython",
    "version": 3
   },
   "file_extension": ".py",
   "mimetype": "text/x-python",
   "name": "python",
   "nbconvert_exporter": "python",
   "pygments_lexer": "ipython3",
   "version": "3.11.5"
  }
 },
 "nbformat": 4,
 "nbformat_minor": 2
}
