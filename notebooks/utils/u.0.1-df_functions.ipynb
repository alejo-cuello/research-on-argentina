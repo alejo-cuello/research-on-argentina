{
 "cells": [
  {
   "cell_type": "markdown",
   "metadata": {},
   "source": [
    "# Get DataFrame dictionary and set another variables"
   ]
  },
  {
   "cell_type": "code",
   "execution_count": null,
   "metadata": {},
   "outputs": [],
   "source": [
    "import os\n",
    "import ast\n",
    "\n",
    "df_dictionary = pd.read_csv(\"../data/utils/DF_DICTIONARY.csv\")\n",
    "\n",
    "years_of_military_dictatorship = [\n",
    "    (1930,1932),\n",
    "    (1943,1946),\n",
    "    (1955,1958),\n",
    "    (1962,1963),\n",
    "    (1966,1973),\n",
    "    (1976,1983)\n",
    "]\n",
    "\n",
    "def get_df_categorical_values():\n",
    "    file_path = \"../data/utils/DF_CATEGORICAL_COLORS.csv\"\n",
    "    if os.path.exists(file_path):\n",
    "        df_categorical_values = pd.read_csv(\"../data/utils/DF_CATEGORICAL_COLORS.csv\")\n",
    "        df_categorical_values[\"Indicator Colors\"] = df_categorical_values[\"Indicator Colors\"].apply(ast.literal_eval)\n",
    "    else:\n",
    "        df_categorical_values = pd.DataFrame(columns=[\"Indicator Name\", \"Indicator Colors\"])\n",
    "        df_categorical_values.to_csv(\"../data/utils/DF_CATEGORICAL_COLORS.csv\", index=False, quoting=1)\n",
    "    return df_categorical_values\n",
    "\n",
    "df_categorical_values = get_df_categorical_values()\n",
    "    \n",
    "base_colors_category = {\n",
    "    \"grey\":(178/255, 198/255, 213/255),\n",
    "    \"green\":(48/255, 152/255, 152/255),\n",
    "    \"yellow\":(255/255, 159/255, 0/255),\n",
    "    \"orange\":(244/255, 99/255, 30/255),\n",
    "    \"red\":(203/255, 4/255, 4/255)\n",
    "}"
   ]
  },
  {
   "cell_type": "markdown",
   "metadata": {},
   "source": [
    "Setting initial plots styles"
   ]
  },
  {
   "cell_type": "code",
   "execution_count": null,
   "metadata": {},
   "outputs": [],
   "source": [
    "sns.set_style(\n",
    "    rc={\n",
    "        \"figure.figsize\": (8, 6)\n",
    "    },\n",
    "    style=\"whitegrid\"\n",
    ")"
   ]
  },
  {
   "cell_type": "markdown",
   "metadata": {},
   "source": [
    "# DataFrame Dictionary Functions"
   ]
  },
  {
   "cell_type": "code",
   "execution_count": null,
   "metadata": {},
   "outputs": [],
   "source": [
    "def set_new_dictionary_entry(indicator_name, indicator_code, indicator_code_snake_case, indicator_name_spanish=\"\"):\n",
    "    df_dictionary = pd.read_csv(\"../data/utils/DF_DICTIONARY.csv\")\n",
    "    if df_dictionary.loc[df_dictionary[\"Indicator Code\"] == indicator_code].empty:\n",
    "        df_dictionary = pd.concat(\n",
    "            [\n",
    "                df_dictionary,\n",
    "                pd.DataFrame({\n",
    "                    \"Indicator Name\": [indicator_name],\n",
    "                    \"Indicator Code\": [indicator_code],\n",
    "                    \"Indicator Code Snake Case\": [indicator_code_snake_case],\n",
    "                    \"Indicator Name in Spanish\": [indicator_name_spanish]\n",
    "                })\n",
    "            ]\n",
    "        )\n",
    "    df_dictionary.to_csv(\"../data/utils/DF_DICTIONARY.csv\", index=False)\n",
    "    return df_dictionary\n",
    "    \n",
    "def get_indicator_name(indicator_code, indicator_code_in_snake_case=False):\n",
    "    if indicator_code_in_snake_case == False:\n",
    "        df_filtered = df_dictionary.loc[df_dictionary['Indicator Code'] == indicator_code, 'Indicator Name']\n",
    "        if df_filtered.empty:\n",
    "            return ''\n",
    "        else:\n",
    "            return df_filtered.iloc[0]\n",
    "    else:\n",
    "        df_filtered = df_dictionary.loc[df_dictionary['Indicator Code Snake Case'] == indicator_code, 'Indicator Name']\n",
    "        if df_filtered.empty:\n",
    "            return ''\n",
    "        else:\n",
    "            return df_filtered.iloc[0]\n",
    "        \n",
    "def transform_indicator_code(indicator_code, to_snake_case=False):\n",
    "    if to_snake_case:\n",
    "        return str.replace(indicator_code,\".\",\"_\").lower()\n",
    "    else:\n",
    "        return str.replace(indicator_code,\"_\",\".\").upper()\n",
    "    \n",
    "def set_new_categorical_colors(indicator_name, colors):\n",
    "    df_categorical_values = get_df_categorical_values()\n",
    "    if (df_categorical_values.loc[df_categorical_values[\"Indicator Name\"] == indicator_name].empty):\n",
    "        \n",
    "        if colors is None:\n",
    "            colors=sns.color_palette(\"hls\", len(indicator_values_order))\n",
    "            \n",
    "        df_categorical_values = pd.concat(\n",
    "            [\n",
    "                df_categorical_values,\n",
    "                pd.DataFrame({\n",
    "                    \"Indicator Name\": [indicator_name],\n",
    "                    \"Indicator Colors\": [colors]\n",
    "                })\n",
    "            ]\n",
    "        )\n",
    "    df_categorical_values.to_csv(\"../data/utils/DF_CATEGORICAL_COLORS.csv\", index=False)\n",
    "    return df_categorical_values\n",
    "\n",
    "def get_indicator_color(indicator_name):\n",
    "        df_filtered = df_categorical_values.loc[df_categorical_values['Indicator Name'] == indicator_name, \"Indicator Colors\"]\n",
    "        if df_filtered.empty:\n",
    "            return ''\n",
    "        else:\n",
    "            return df_filtered.iloc[0]"
   ]
  },
  {
   "cell_type": "markdown",
   "metadata": {},
   "source": [
    "# Get columns"
   ]
  },
  {
   "cell_type": "code",
   "execution_count": 1,
   "metadata": {},
   "outputs": [],
   "source": [
    "def get_columns_with_missing_values(data):\n",
    "    columns_with_missing_values = data.isna().sum().sort_values(ascending=False)\n",
    "    columns_with_missing_values = columns_with_missing_values[columns_with_missing_values > 0].index.to_list()\n",
    "    return columns_with_missing_values"
   ]
  },
  {
   "cell_type": "code",
   "execution_count": null,
   "metadata": {},
   "outputs": [],
   "source": [
    "def get_columns(data):\n",
    "    indicators_names = [item + \", \" + get_indicator_name(item, True) for item in data.columns]\n",
    "    categorical_cols = data.select_dtypes(include=['object']).columns\n",
    "    numeric_cols = data.select_dtypes(include=['number']).columns\n",
    "    columns_with_missing_values = get_columns_with_missing_values(data)\n",
    "    return indicators_names, categorical_cols, numeric_cols, columns_with_missing_values"
   ]
  },
  {
   "cell_type": "markdown",
   "metadata": {},
   "source": [
    "# Filter by quantity of missing values"
   ]
  },
  {
   "cell_type": "code",
   "execution_count": null,
   "metadata": {},
   "outputs": [],
   "source": [
    "def filter_by_cols_first(df, percentage):\n",
    "    cols_filtered_first = df.dropna(thresh=int(df.shape[0] * percentage), axis=1) #thresh: quantity of non-null rows or column required\n",
    "    return cols_filtered_first.dropna(thresh=int(cols_filtered_first.shape[1] * percentage), axis=0)"
   ]
  },
  {
   "cell_type": "code",
   "execution_count": null,
   "metadata": {},
   "outputs": [],
   "source": [
    "def filter_by_rows_first(df, percentage):\n",
    "    rows_filtered_second = df.dropna(thresh=int(df.shape[1] * percentage), axis=0)\n",
    "    return rows_filtered_second.dropna(thresh=int(rows_filtered_second.shape[0] * percentage), axis=1)\n"
   ]
  },
  {
   "cell_type": "code",
   "execution_count": null,
   "metadata": {},
   "outputs": [],
   "source": [
    "def add_indicators_of_year(df, year):\n",
    "    new_year_indicator = arg_di_df[arg_di_df[\"year\"] == year]\n",
    "    new_year_indicator.missing.missing_case_summary()\n",
    "    df = pd.concat([df, new_year_indicator]).sort_index()"
   ]
  },
  {
   "cell_type": "markdown",
   "metadata": {},
   "source": [
    "# Plot functions"
   ]
  },
  {
   "cell_type": "code",
   "execution_count": null,
   "metadata": {},
   "outputs": [],
   "source": [
    "def plot_2_missing_variables(data, variable_1, variable_2, type_of_plot=\"scatterplot\", is_save_figure=False): \n",
    "    if type_of_plot==\"scatterplot\":\n",
    "        data_with_na_filled = (\n",
    "            data\n",
    "                .apply(\n",
    "                    axis=\"rows\",\n",
    "                    func= lambda column: column.fillna(column.min()) if column.name in [variable_1.split(\"_NA\")[0], variable_2.split(\"_NA\")[0]] else column \n",
    "                )\n",
    "                .assign(\n",
    "                    nullity=lambda df: (df[variable_1] == \"Missing\") | (df[variable_2] == \"Missing\")\n",
    "                \n",
    "                )\n",
    "        )\n",
    "        plt.xlabel(get_indicator_name(variable_1.split(\"_NA\")[0],True))\n",
    "        plt.ylabel(get_indicator_name(variable_2.split(\"_NA\")[0],True))\n",
    "        sns.scatterplot(data=data_with_na_filled, x=variable_1.split(\"_NA\")[0], y=variable_2.split(\"_NA\")[0], hue=\"nullity\")\n",
    "    \n",
    "    if is_save_figure:\n",
    "        save_figure(f\"Scatterplot of {get_indicator_name(variable_1.split('_NA')[0],True)} and {get_indicator_name(variable_2.split('_NA')[0],True)}\", \"eda/scatterplots\")\n",
    "    \n",
    "    plt.show()"
   ]
  },
  {
   "cell_type": "code",
   "execution_count": null,
   "metadata": {},
   "outputs": [],
   "source": [
    "def scatter(data, variable_1, variable_2, hue=None): \n",
    "    data_with_na_filled = (\n",
    "        data\n",
    "            .apply(\n",
    "                axis=\"rows\",\n",
    "                func= lambda column: column.fillna(column.min()) if column.name in [variable_1, variable_2] else column \n",
    "            )\n",
    "    )\n",
    "    plt.xlabel(get_indicator_name(variable_1))\n",
    "    plt.ylabel(get_indicator_name(variable_2))\n",
    "    sns.scatterplot(data=data_with_na_filled, x=variable_1, y=variable_2, hue=hue)\n",
    "    plt.show()"
   ]
  },
  {
   "cell_type": "code",
   "execution_count": null,
   "metadata": {},
   "outputs": [],
   "source": [
    "def plot_hist_missing_and_filled_data(df, columns):\n",
    "    return (\n",
    "        df\n",
    "            .select_columns(*columns)\n",
    "            .missing.bind_shadow_matrix(true_string=True, false_string=False)\n",
    "            .apply(\n",
    "                axis=1,\n",
    "                func=lambda column: column.fillna(column.mean())\n",
    "                if \"_NA\" not in column.name\n",
    "                else column,\n",
    "            )\n",
    "            .pivot_longer(index=\"*_NA\")\n",
    "            .pivot_longer(\n",
    "                index=[\"variable\", \"value\"],\n",
    "                names_to=\"variable_NA\",\n",
    "                values_to=\"value_NA\"\n",
    "            )\n",
    "            .assign(\n",
    "                valid=lambda df: df.apply(\n",
    "                    axis=1, func=lambda column: column.variable in column.variable_NA\n",
    "                )\n",
    "            )\n",
    "            .query(\"valid\")\n",
    "            .pipe(\n",
    "                lambda df: (\n",
    "                    sns.displot(\n",
    "                        data=df,\n",
    "                        x=\"value\",\n",
    "                        hue=\"value_NA\",\n",
    "                        col=\"variable\",\n",
    "                        common_bins=False,\n",
    "                        facet_kws={\"sharex\": False, \"sharey\": False}\n",
    "                    )\n",
    "                )\n",
    "            )\n",
    "    )"
   ]
  },
  {
   "cell_type": "code",
   "execution_count": null,
   "metadata": {},
   "outputs": [],
   "source": [
    "def time_series(data, x, y=[], figsize=(12,5), plot_labels=None, background_colors=\"dictatorship\", title=\"\", is_save_figure=False):\n",
    "    \n",
    "    plt.figure(figsize=figsize)\n",
    "    plt.xticks(ticks=data[x][::5])\n",
    "    plt.grid(True)\n",
    "    plt.title(title)\n",
    "        \n",
    "    colors=sns.color_palette(\"hls\", len(y))\n",
    "    for i, item in enumerate(y):\n",
    "        if plot_labels is None:\n",
    "            plot_label=get_indicator_name(item,True)\n",
    "        else:\n",
    "            plot_label=plot_labels[i]\n",
    "        sns.lineplot(x=data[x],y=data[item],label=plot_label, color=colors[i % len(colors)])\n",
    "        \n",
    "    plt.ylabel(\"\")\n",
    "    plt.xlabel(\"year\")\n",
    "    \n",
    "    if background_colors == \"dictatorship\":\n",
    "        min_year=data[\"year\"].min()\n",
    "        for start, end in years_of_military_dictatorship[4:]:\n",
    "            plt.axvspan(max(start,min_year),end,color=\"green\",alpha=0.3,label=\"Periods of Military Dictatorship\")\n",
    "    elif background_colors == \"gdp_growth\":\n",
    "        color_map = {\"Negative growth\": \"black\", \"Low growth\": \"grey\", \"Moderate growth\": \"lightgrey\", \"High growth\": \"white\"}\n",
    "        start_year = data[\"year\"].iloc[0]\n",
    "        current_type_of_growth = data[\"ny_gdp_mktp_kd_zg_cat\"].iloc[0]\n",
    "        for i in range(1, len(data)):\n",
    "                if data[\"ny_gdp_mktp_kd_zg_cat\"].iloc[i] != current_type_of_growth or i == len(data) - 1:\n",
    "                    end_year = data['year'].iloc[i]\n",
    "                    plt.axvspan(start_year, end_year, color=color_map[current_type_of_growth], alpha=0.3,label=\"GDP \" + current_type_of_growth)\n",
    "                    start_year = end_year\n",
    "                    current_type_of_growth = data[\"ny_gdp_mktp_kd_zg_cat\"].iloc[i]\n",
    "                \n",
    "    handles, labels = plt.gca().get_legend_handles_labels()\n",
    "    by_label = dict(zip(labels, handles))\n",
    "    plt.legend(by_label.values(), by_label.keys())\n",
    "    \n",
    "    if is_save_figure:\n",
    "        save_figure(title, \"eda/time_series\")"
   ]
  },
  {
   "cell_type": "code",
   "execution_count": 2,
   "metadata": {},
   "outputs": [],
   "source": [
    "def plot_count_of_years_of_military_dictatorship(df, is_save_figure=False):\n",
    "    indicator_name = df_dictionary.loc[df_dictionary[\"Indicator Code\"] == \"year.of.dictatorship\",[\"Indicator Name\"]].iloc[0,0]\n",
    "    title=\"Quantity of years of dictatorship\"\n",
    "    \n",
    "    years_of_dictatorship = pd.DataFrame(df.rename(columns={\"year_of_dictatorship\": indicator_name}).astype(bool).value_counts(indicator_name,ascending=True))\n",
    "    years_of_dictatorship = years_of_dictatorship.rename(columns={\"count\": \"Count\"}).T\n",
    "    years_of_dictatorship.plot(kind=\"barh\",stacked=True, color=[\"green\",\"grey\"],title=title)\n",
    "    \n",
    "    if is_save_figure:\n",
    "        save_figure(title)"
   ]
  },
  {
   "cell_type": "code",
   "execution_count": null,
   "metadata": {},
   "outputs": [],
   "source": [
    "def plot_categorical(data, column, hue):\n",
    "    dict_colors = get_indicator_color(hue)\n",
    "    sns.countplot(data=data, x=column, hue=hue, palette=dict_colors, hue_order=list(dict_colors.keys()), order=list(get_indicator_color(column).keys()))\n",
    "    plt.xlabel(get_indicator_name(column,True))\n",
    "    plt.xticks(rotation=45)\n",
    "    plt.legend(title=get_indicator_name(hue,True), bbox_to_anchor=(1.05, 1), loc='upper left')\n",
    "    plt.show()"
   ]
  },
  {
   "cell_type": "markdown",
   "metadata": {},
   "source": [
    "### Imputation Plots"
   ]
  },
  {
   "cell_type": "code",
   "execution_count": 1,
   "metadata": {},
   "outputs": [],
   "source": [
    "def plot_imputation_by_statistic(data, variable, statistic = \"mean\"):\n",
    "    statistic = statistic.lower()\n",
    "    if statistic == \"mean\":\n",
    "        data[variable] = data[variable].fillna(data[variable].mean())\n",
    "    elif statistic == \"mode\":\n",
    "        data[variable] = data[variable].fillna(data[variable].mode().iloc[0])\n",
    "    elif statistic == \"median\":\n",
    "        data[variable] = data[variable].fillna(data[variable].median())\n",
    "    else:\n",
    "        raise ValueError(\"Statistic must be one of: 'mean', 'median', or 'mode'\")\n",
    "\n",
    "            \n",
    "    sns.displot(\n",
    "        data=data,\n",
    "        x=variable,\n",
    "        hue=variable+\"_NA\"\n",
    "    )\n",
    "    \n",
    "    plt.title(f\"Distribution of '{get_indicator_name(variable, True)}' after {statistic} imputation\")\n",
    "    plt.xlabel(variable)\n",
    "    plt.ylabel(\"Count\")"
   ]
  },
  {
   "cell_type": "markdown",
   "metadata": {},
   "source": [
    "# Save figures"
   ]
  },
  {
   "cell_type": "code",
   "execution_count": null,
   "metadata": {},
   "outputs": [],
   "source": [
    "def save_figure(fig_name, subfolder=\"eda\", add_timestamp=False, tight=True, dpi=300):\n",
    "    folder_path = f\"../reports/figures/{subfolder}\"\n",
    "    os.makedirs(folder_path, exist_ok=True)\n",
    "    \n",
    "    if add_timestamp:\n",
    "        timestamp = datetime.now().strftime(\"%Y%m%d-%H%M%S\")\n",
    "        fig_name = f\"{fig_name}_{timestamp}\"\n",
    "\n",
    "    file_path = os.path.join(folder_path, f\"{fig_name}.png\")\n",
    "\n",
    "    # Save\n",
    "    plt.savefig(file_path, dpi=dpi, bbox_inches='tight' if tight else None)\n",
    "    print(f\"Figure saved to: {file_path}\")"
   ]
  },
  {
   "cell_type": "markdown",
   "metadata": {},
   "source": [
    "# Detect outliers"
   ]
  },
  {
   "cell_type": "code",
   "execution_count": 4,
   "metadata": {},
   "outputs": [],
   "source": [
    "def detect_outliers(data, columns=None, treatment=False):\n",
    "    if columns is None:\n",
    "        numerical_cols = data.select_dtypes(include=['number']).columns\n",
    "    else:\n",
    "        numerical_cols = data[columns].select_dtypes(include=['number']).columns\n",
    "\n",
    "    print(\"Outliers detection:\")\n",
    "\n",
    "    for col in numerical_cols:\n",
    "        if col == \"year_of_dictatorship\":\n",
    "            continue\n",
    "        \n",
    "        Q1 = data[col].quantile(0.25)\n",
    "        Q3 = data[col].quantile(0.75)\n",
    "        IQR = Q3 - Q1\n",
    "        \n",
    "        outliers = (data[col] < (Q1 - 1.5 * IQR)) | (data[col] > (Q3 + 1.5 * IQR))\n",
    "        if(outliers.any()):\n",
    "            print(f\"Outliers of {get_indicator_name(col,True)}\")\n",
    "            print(data.loc[(outliers[outliers].index)][['year',col]])\n",
    "        else:\n",
    "            print(f\"There are no outliers for {get_indicator_name(col,True)}\")\n",
    "            \n",
    "        if treatment:\n",
    "            lower_bound = Q1 - 1.5 * IQR\n",
    "            upper_bound = Q3 + 1.5 * IQR\n",
    "            data[col] = np.clip(data[col], lower_bound, upper_bound)\n"
   ]
  },
  {
   "cell_type": "markdown",
   "metadata": {},
   "source": [
    "## Rename columns"
   ]
  },
  {
   "cell_type": "code",
   "execution_count": null,
   "metadata": {},
   "outputs": [],
   "source": [
    "def remove_prefix(column_name):\n",
    "    prefixes = [\"ordinalencoder__\", \"onehotencoder__\", \"remainder__\"]\n",
    "    for prefix in prefixes:\n",
    "        if column_name.startswith(prefix):\n",
    "            return column_name.removeprefix(prefix)\n",
    "    return column_name"
   ]
  },
  {
   "cell_type": "markdown",
   "metadata": {},
   "source": [
    "# Old functions"
   ]
  },
  {
   "cell_type": "markdown",
   "metadata": {},
   "source": [
    "## Get the percentage of variables with a minimum percentage of missing values"
   ]
  },
  {
   "cell_type": "code",
   "execution_count": null,
   "metadata": {},
   "outputs": [],
   "source": [
    "def percentage_of_variables_with_pct_missing(df: pd.DataFrame, percentage: float, greater_than_pct = True):\n",
    "    variable_summary = df.missing.missing_variable_summary()\n",
    "    if greater_than_pct:\n",
    "        return round(variable_summary[variable_summary['pct_missing'] >= percentage]['variable'].count() / variable_summary.shape[0], 2)\n",
    "    else:\n",
    "        return round(variable_summary[variable_summary['pct_missing'] <= percentage]['variable'].count() / variable_summary.shape[0], 2)"
   ]
  },
  {
   "cell_type": "markdown",
   "metadata": {},
   "source": [
    "## Get the column names with a maximum percentage of missing values"
   ]
  },
  {
   "cell_type": "code",
   "execution_count": null,
   "metadata": {},
   "outputs": [],
   "source": [
    "def columns_with_pct_missing(df: pd.DataFrame, percentage: float, greater_than_pct = True):\n",
    "    variable_summary = df.missing.missing_variable_summary()\n",
    "    if greater_than_pct:\n",
    "        missing_variables_code = list(variable_summary[variable_summary['pct_missing'] >= percentage]['variable'])\n",
    "    else:\n",
    "        missing_variables_code = list(variable_summary[variable_summary['pct_missing'] <= percentage]['variable'])\n",
    "    return missing_variables_code"
   ]
  },
  {
   "cell_type": "markdown",
   "metadata": {},
   "source": [
    "## Get the rows with more missing values"
   ]
  },
  {
   "cell_type": "code",
   "execution_count": null,
   "metadata": {},
   "outputs": [],
   "source": [
    "def cases_with_pct_missing(df: pd.DataFrame, percentage: float, greater_than_pct = True):\n",
    "    variable_summary = df.missing.missing_case_summary()\n",
    "    if greater_than_pct:\n",
    "        indexes_of_cases = list(variable_summary[variable_summary['pct_missing'] > percentage]['case'])\n",
    "    else:\n",
    "        indexes_of_cases = list(variable_summary[variable_summary['pct_missing'] < percentage]['case'])\n",
    "    return arg_di_df.iloc[indexes_of_cases]"
   ]
  },
  {
   "cell_type": "markdown",
   "metadata": {},
   "source": [
    "## Plot functions"
   ]
  },
  {
   "cell_type": "code",
   "execution_count": null,
   "metadata": {},
   "outputs": [],
   "source": [
    "def plot_imputation_by_mean(data, columns):\n",
    "    (\n",
    "        data[columns]\n",
    "            .missing.bind_shadow_matrix(true_string=True, false_string=False)\n",
    "            .apply(\n",
    "                axis=0,\n",
    "                func=lambda column: column.fillna(column.mean())\n",
    "                    if \"_NA\" not in column.name\n",
    "                    else column,\n",
    "            ).iloc[0:20]\n",
    "            .pipe(lambda df: pd.melt(df, id_vars=[x + \"_NA\" for x in columns]))\n",
    "            .pipe(lambda df: pd.melt(df, id_vars=[\"variable\", \"value\"], var_name=\"variable_NA\", value_name=\"value_NA\"))\n",
    "            .assign(\n",
    "                valid=lambda df: df.apply(\n",
    "                    axis=1, func=lambda column: column.variable in column.variable_NA\n",
    "                )\n",
    "            )\n",
    "            .query(\"valid\")\n",
    "            .pipe(\n",
    "                lambda df: (\n",
    "                    sns.displot(\n",
    "                        data=df,\n",
    "                        x=\"value\",\n",
    "                        hue=\"value_NA\",\n",
    "                        col=\"variable\",\n",
    "                        common_bins=False,\n",
    "                        facet_kws={\"sharex\": False, \"sharey\": False}\n",
    "                    )\n",
    "                )\n",
    "            )\n",
    "    )"
   ]
  },
  {
   "cell_type": "code",
   "execution_count": 1,
   "metadata": {},
   "outputs": [],
   "source": [
    "def plot_missing_variables_grouped_by_categories(data, categorical_variable_1, categorical_variable_2, variable_with_missing_values):\n",
    "    data[\"variable_with_missing_values_na\"] = data[variable_with_missing_values].isna().replace([True, False], [\"NA\", \"!NA\"])\n",
    "    \n",
    "    size_series = (\n",
    "        data[[categorical_variable_1, categorical_variable_2, \"variable_with_missing_values_na\"]]\n",
    "            .groupby([categorical_variable_1, categorical_variable_2, \"variable_with_missing_values_na\"], dropna=False, as_index=True)\n",
    "            .size()\n",
    "    )\n",
    "\n",
    "    group_sizes_df = size_series.reset_index(name=\"size\")\n",
    "\n",
    "    stacked_data = group_sizes_df.pivot_table(\n",
    "        index=[categorical_variable_1, categorical_variable_2],\n",
    "        columns=\"variable_with_missing_values_na\",\n",
    "        values=\"size\",\n",
    "        fill_value=0  # Fill missing values with 0\n",
    "    )\n",
    "\n",
    "    stacked_data.plot(\n",
    "        kind=\"bar\",\n",
    "        stacked=True,\n",
    "        color={\"!NA\": \"grey\", \"NA\": \"red\"},\n",
    "        edgecolor=\"black\",\n",
    "    )"
   ]
  }
 ],
 "metadata": {
  "kernelspec": {
   "display_name": "base",
   "language": "python",
   "name": "python3"
  },
  "language_info": {
   "codemirror_mode": {
    "name": "ipython",
    "version": 3
   },
   "file_extension": ".py",
   "mimetype": "text/x-python",
   "name": "python",
   "nbconvert_exporter": "python",
   "pygments_lexer": "ipython3",
   "version": "3.11.5"
  }
 },
 "nbformat": 4,
 "nbformat_minor": 2
}
