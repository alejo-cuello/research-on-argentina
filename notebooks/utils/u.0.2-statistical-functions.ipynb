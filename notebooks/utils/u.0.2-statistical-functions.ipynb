{
 "cells": [
  {
   "cell_type": "code",
   "execution_count": null,
   "metadata": {},
   "outputs": [],
   "source": [
    "from scipy.stats import shapiro, levene, ttest_ind\n",
    "from statsmodels.graphics.tsaplots import plot_acf\n",
    "import random"
   ]
  },
  {
   "cell_type": "code",
   "execution_count": null,
   "metadata": {},
   "outputs": [],
   "source": [
    "# This function uses Shapiro-Wilk Test:\n",
    "def check_normality_of_samples(samples, accepted_p_value=0.05):\n",
    "    results = []\n",
    "    for sample in samples:\n",
    "        stat, p = shapiro(sample)\n",
    "        results.append({\n",
    "            \"stat\": stat,\n",
    "            \"p\": p,\n",
    "            \"passes_the_test\": p < accepted_p_value\n",
    "        })\n",
    "    return results"
   ]
  },
  {
   "cell_type": "code",
   "execution_count": null,
   "metadata": {},
   "outputs": [],
   "source": [
    "def check_equality_of_variances(samples, accepted_p_value=0.05):\n",
    "    stat, p = levene(samples[0], samples[1])\n",
    "    return {\n",
    "        \"stat\": stat,\n",
    "        \"p\": p,\n",
    "        \"passes_the_test\": p < accepted_p_value\n",
    "    }"
   ]
  },
  {
   "cell_type": "code",
   "execution_count": null,
   "metadata": {},
   "outputs": [],
   "source": [
    "def check_autocorrelation_between_samples(sample):\n",
    "    plot_acf(sample)\n",
    "    plt.show()"
   ]
  },
  {
   "cell_type": "code",
   "execution_count": null,
   "metadata": {},
   "outputs": [],
   "source": [
    "def ttest_ind_and_conditions(sample_1, sample_2, alternative='two-sided'):\n",
    "    normality_of_samples_check = check_normality_of_samples([sample_1, sample_2])\n",
    "    equality_of_variances_check = check_equality_of_variances([sample_1, sample_2])\n",
    "    check_autocorrelation_between_samples(sample_2)\n",
    "    \n",
    "    for index, sample in enumerate(normality_of_samples_check):\n",
    "        print(\"Normality of sample {0}? {1}\".format(index,sample[\"passes_the_test\"]))\n",
    "    print(\"Equality of variances? {0}\".format(equality_of_variances_check[\"passes_the_test\"]))\n",
    "    \n",
    "    return ttest_ind(\n",
    "        a = sample_1,\n",
    "        b = sample_2,\n",
    "        alternative=\"two-sided\"\n",
    "    )\n"
   ]
  },
  {
   "cell_type": "code",
   "execution_count": null,
   "metadata": {},
   "outputs": [],
   "source": [
    "def t_interval(data, column_1, column_2):\n",
    "    data_filtered = data[[column_1, column_2]]\n",
    "    return st.t.interval(confidence=0.95, df=len(data_filtered)-1, loc=np.mean(data_filtered), scale=st.sem(data_filtered)) "
   ]
  },
  {
   "cell_type": "code",
   "execution_count": null,
   "metadata": {},
   "outputs": [],
   "source": [
    "def mean_by_bootstrapping(data, quantity_of_samples=40, observations_by_sample=5):\n",
    "    samples_mean = []\n",
    "    for i in range(quantity_of_samples):\n",
    "        sample = random.sample(data.tolist(), observations_by_sample)\n",
    "        mean = np.mean(sample)\n",
    "        samples_mean.append(mean)\n",
    "    return np.mean(samples_mean)"
   ]
  },
  {
   "cell_type": "code",
   "execution_count": null,
   "metadata": {},
   "outputs": [],
   "source": [
    "def systematic_sampling(data, step=3):\n",
    "    indexes = np.arange(0, len(data), step=step)\n",
    "    return data.iloc[indexes]"
   ]
  },
  {
   "cell_type": "code",
   "execution_count": null,
   "metadata": {},
   "outputs": [],
   "source": [
    "def stratified_sampling(data, column, stratified_column_values, stratified_column_values_proportions, random_state=None):\n",
    "    stratified_data = pd.DataFrame(columns = [column])\n",
    "    pos = -1\n",
    "    \n",
    "    for i in range(len(stratified_column_values)): # iteration by stratified column\n",
    "        pos += 1\n",
    "        if pos == len(stratified_column_values) - 1: \n",
    "            ratio_len = len(data) - len(stratified_data) # if it's the final iteration, it calculates the number of values to get the original data length\n",
    "        else:\n",
    "            ratio_len = int(len(data) * stratified_column_values_proportions[i]) # it calculates the number of rows according to the desired proportion\n",
    "\n",
    "        filtered_data = data[data[column] == stratified_column_values[i]]\n",
    "        iteration_sample = filtered_data.sample(replace=True, n=ratio_len, random_state=random_state)\n",
    "        \n",
    "        stratified_data = pd.concat([stratified_data, iteration_sample])\n",
    "        \n",
    "    return stratified_data # Return the stratified, re-sampled data   "
   ]
  }
 ],
 "metadata": {
  "kernelspec": {
   "display_name": "research-on-argentina",
   "language": "python",
   "name": "python3"
  },
  "language_info": {
   "codemirror_mode": {
    "name": "ipython",
    "version": 3
   },
   "file_extension": ".py",
   "mimetype": "text/x-python",
   "name": "python",
   "nbconvert_exporter": "python",
   "pygments_lexer": "ipython3",
   "version": "3.11.5"
  }
 },
 "nbformat": 4,
 "nbformat_minor": 2
}
