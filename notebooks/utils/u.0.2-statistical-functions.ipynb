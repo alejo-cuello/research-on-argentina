{
 "cells": [
  {
   "cell_type": "code",
   "execution_count": null,
   "metadata": {},
   "outputs": [],
   "source": [
    "from scipy.stats import shapiro, levene, ttest_ind\n",
    "from statsmodels.graphics.tsaplots import plot_acf"
   ]
  },
  {
   "cell_type": "code",
   "execution_count": null,
   "metadata": {},
   "outputs": [],
   "source": [
    "# This function uses Shapiro-Wilk Test:\n",
    "def check_normality_of_samples(samples, accepted_p_value=0.05):\n",
    "    results = []\n",
    "    for sample in samples:\n",
    "        stat, p = shapiro(sample)\n",
    "        results.append({\n",
    "            \"stat\": stat,\n",
    "            \"p\": p,\n",
    "            \"passes_the_test\": p < accepted_p_value\n",
    "        })\n",
    "    return results"
   ]
  },
  {
   "cell_type": "code",
   "execution_count": null,
   "metadata": {},
   "outputs": [],
   "source": [
    "def check_equality_of_variances(samples, accepted_p_value=0.05):\n",
    "    stat, p = levene(samples[0], samples[1])\n",
    "    return {\n",
    "        \"stat\": stat,\n",
    "        \"p\": p,\n",
    "        \"passes_the_test\": p < accepted_p_value\n",
    "    }"
   ]
  },
  {
   "cell_type": "code",
   "execution_count": null,
   "metadata": {},
   "outputs": [],
   "source": [
    "def check_autocorrelation_between_samples(sample):\n",
    "    plot_acf(sample)\n",
    "    plt.show()"
   ]
  },
  {
   "cell_type": "code",
   "execution_count": null,
   "metadata": {},
   "outputs": [],
   "source": [
    "def ttest_ind_and_conditions(sample_1, sample_2, alternative='two-sided'):\n",
    "    normality_of_samples_check = check_normality_of_samples([sample_1, sample_2])\n",
    "    equality_of_variances_check = check_equality_of_variances([sample_1, sample_2])\n",
    "    check_autocorrelation_between_samples(sample_2)\n",
    "    \n",
    "    for index, sample in enumerate(normality_of_samples_check):\n",
    "        print(\"Normality of sample {0}? {1}\".format(index,sample[\"passes_the_test\"]))\n",
    "    print(\"Equality of variances? {0}\".format(equality_of_variances_check[\"passes_the_test\"]))\n",
    "    \n",
    "    return ttest_ind(\n",
    "        a = sample_1,\n",
    "        b = sample_2,\n",
    "        alternative=\"two-sided\"\n",
    "    )\n"
   ]
  }
 ],
 "metadata": {
  "kernelspec": {
   "display_name": "research-on-argentina",
   "language": "python",
   "name": "python3"
  },
  "language_info": {
   "codemirror_mode": {
    "name": "ipython",
    "version": 3
   },
   "file_extension": ".py",
   "mimetype": "text/x-python",
   "name": "python",
   "nbconvert_exporter": "python",
   "pygments_lexer": "ipython3",
   "version": "3.11.5"
  }
 },
 "nbformat": 4,
 "nbformat_minor": 2
}
