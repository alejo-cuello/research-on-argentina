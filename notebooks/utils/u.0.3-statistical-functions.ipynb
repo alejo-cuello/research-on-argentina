{
 "cells": [
  {
   "cell_type": "code",
   "execution_count": null,
   "metadata": {
    "vscode": {
     "languageId": "plaintext"
    }
   },
   "outputs": [],
   "source": [
    "from scipy.stats import shapiro, levene\n",
    "from statsmodels.graphics.tsaplots import plot_acf"
   ]
  },
  {
   "cell_type": "code",
   "execution_count": null,
   "metadata": {
    "vscode": {
     "languageId": "plaintext"
    }
   },
   "outputs": [],
   "source": [
    "# This function uses Shapiro-Wilk Test:\n",
    "def check_normality_of_samples(samples, accepted_p_value=0.05):\n",
    "    results = []\n",
    "    for sample in samples:\n",
    "        stat, p = shapiro(sample)\n",
    "        results.append({\n",
    "            \"stat\": stat,\n",
    "            \"p\": p,\n",
    "            \"passes_the_test\": p < accepted_p_value\n",
    "        })\n",
    "    return results"
   ]
  },
  {
   "cell_type": "code",
   "execution_count": null,
   "metadata": {
    "vscode": {
     "languageId": "plaintext"
    }
   },
   "outputs": [],
   "source": [
    "def check_equality_of_variances(samples, accepted_p_value=0.05):\n",
    "    stat, p = levene(samples[0], samples[1])\n",
    "    return {\n",
    "        \"stat\": stat,\n",
    "        \"p\": p,\n",
    "        \"passes_the_test\": p < accepted_p_value\n",
    "    }"
   ]
  },
  {
   "cell_type": "markdown",
   "metadata": {},
   "source": [
    "def check_autocorrelation_between_samples(samples):\n",
    "    plot_acf(samples[0])\n",
    "    plt.show()"
   ]
  },
  {
   "cell_type": "code",
   "execution_count": null,
   "metadata": {
    "vscode": {
     "languageId": "plaintext"
    }
   },
   "outputs": [],
   "source": [
    "def ttest_ind(sample_1, sample_2):\n",
    "    normality_of_samples_check = check_normality_of_samples([sample_1, sample_2])\n",
    "    equality_of_variances_check = check_equality_of_variances([sample_1, sample_2])\n",
    "    check_autocorrelation_between_samples([sample_1, sample_2])\n",
    "    print(equality_of_variances_check[\"passes_the_test\"])\n",
    "    print(ttest_ind(sample_1, sample_2, equal_var=True))\n"
   ]
  }
 ],
 "metadata": {
  "language_info": {
   "name": "python"
  }
 },
 "nbformat": 4,
 "nbformat_minor": 2
}
