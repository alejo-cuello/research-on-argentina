{
 "cells": [
  {
   "cell_type": "markdown",
   "metadata": {},
   "source": [
    "# Import libraries"
   ]
  },
  {
   "cell_type": "code",
   "execution_count": 2,
   "metadata": {},
   "outputs": [],
   "source": [
    "import matplotlib.pyplot as plt\n",
    "import numpy as np\n",
    "import pandas as pd\n",
    "import seaborn as sns\n",
    "import session_info\n",
    "from sklearn.preprocessing import MinMaxScaler, OrdinalEncoder"
   ]
  },
  {
   "cell_type": "code",
   "execution_count": 3,
   "metadata": {},
   "outputs": [
    {
     "data": {
      "text/html": [
       "<details>\n",
       "<summary>Click to view session information</summary>\n",
       "<pre>\n",
       "-----\n",
       "matplotlib          3.7.2\n",
       "numpy               1.24.3\n",
       "pandas              2.0.3\n",
       "seaborn             0.12.2\n",
       "session_info        1.0.0\n",
       "sklearn             1.3.0\n",
       "-----\n",
       "</pre>\n",
       "<details>\n",
       "<summary>Click to view modules imported as dependencies</summary>\n",
       "<pre>\n",
       "PIL                 9.4.0\n",
       "anyio               NA\n",
       "asttokens           NA\n",
       "attr                22.1.0\n",
       "babel               2.11.0\n",
       "backcall            0.2.0\n",
       "bottleneck          1.3.5\n",
       "brotli              NA\n",
       "certifi             2025.01.31\n",
       "cffi                1.15.1\n",
       "chardet             4.0.0\n",
       "charset_normalizer  2.0.4\n",
       "cloudpickle         2.2.1\n",
       "colorama            0.4.6\n",
       "comm                0.1.2\n",
       "cycler              0.10.0\n",
       "cython_runtime      NA\n",
       "dateutil            2.8.2\n",
       "debugpy             1.6.7\n",
       "decorator           5.1.1\n",
       "defusedxml          0.7.1\n",
       "entrypoints         0.4\n",
       "executing           0.8.3\n",
       "fastjsonschema      NA\n",
       "idna                3.4\n",
       "ipykernel           6.25.0\n",
       "ipython_genutils    0.2.0\n",
       "ipywidgets          8.0.4\n",
       "jedi                0.18.1\n",
       "jinja2              3.1.2\n",
       "joblib              1.2.0\n",
       "json5               NA\n",
       "jsonpointer         2.1\n",
       "jsonschema          4.17.3\n",
       "jupyter_server      1.23.4\n",
       "jupyterlab_server   2.22.0\n",
       "kiwisolver          1.4.4\n",
       "lz4                 4.3.2\n",
       "markupsafe          2.1.1\n",
       "mkl                 2.4.0\n",
       "mpl_toolkits        NA\n",
       "nbformat            5.9.2\n",
       "numexpr             2.8.4\n",
       "packaging           23.1\n",
       "parso               0.8.3\n",
       "patsy               0.5.3\n",
       "pexpect             4.8.0\n",
       "pickleshare         0.7.5\n",
       "pkg_resources       NA\n",
       "platformdirs        3.10.0\n",
       "prometheus_client   NA\n",
       "prompt_toolkit      3.0.36\n",
       "psutil              5.9.0\n",
       "ptyprocess          0.7.0\n",
       "pure_eval           0.2.2\n",
       "pvectorc            NA\n",
       "pyarrow             11.0.0\n",
       "pydev_ipython       NA\n",
       "pydevconsole        NA\n",
       "pydevd              2.9.5\n",
       "pydevd_file_utils   NA\n",
       "pydevd_plugins      NA\n",
       "pydevd_tracing      NA\n",
       "pygments            2.15.1\n",
       "pyparsing           3.0.9\n",
       "pyrsistent          NA\n",
       "pytz                2023.3.post1\n",
       "requests            2.31.0\n",
       "rfc3339_validator   0.1.4\n",
       "rfc3986_validator   0.1.1\n",
       "ruamel              NA\n",
       "scipy               1.11.1\n",
       "send2trash          NA\n",
       "setuptools          68.0.0\n",
       "six                 1.16.0\n",
       "sniffio             1.2.0\n",
       "socks               1.7.1\n",
       "sphinxcontrib       NA\n",
       "stack_data          0.2.0\n",
       "statsmodels         0.14.0\n",
       "terminado           0.17.1\n",
       "threadpoolctl       2.2.0\n",
       "tornado             6.3.2\n",
       "traitlets           5.7.1\n",
       "typing_extensions   NA\n",
       "urllib3             1.26.16\n",
       "vscode              NA\n",
       "wcwidth             0.2.5\n",
       "websocket           0.58.0\n",
       "zmq                 23.2.0\n",
       "zope                NA\n",
       "</pre>\n",
       "</details> <!-- seems like this ends pre, so might as well be explicit -->\n",
       "<pre>\n",
       "-----\n",
       "IPython             8.15.0\n",
       "jupyter_client      7.4.9\n",
       "jupyter_core        5.3.0\n",
       "jupyterlab          3.6.3\n",
       "notebook            6.5.4\n",
       "-----\n",
       "Python 3.11.5 (main, Sep 11 2023, 13:54:46) [GCC 11.2.0]\n",
       "Linux-6.6.87.1-microsoft-standard-WSL2-x86_64-with-glibc2.35\n",
       "-----\n",
       "Session information updated at 2025-06-07 14:47\n",
       "</pre>\n",
       "</details>"
      ],
      "text/plain": [
       "<IPython.core.display.HTML object>"
      ]
     },
     "execution_count": 3,
     "metadata": {},
     "output_type": "execute_result"
    }
   ],
   "source": [
    "try:\n",
    "    session_info_output = session_info.show()\n",
    "except Exception as error:\n",
    "    print(\"The session info has been requested already:\")\n",
    "    \n",
    "session_info_output"
   ]
  },
  {
   "cell_type": "code",
   "execution_count": 4,
   "metadata": {},
   "outputs": [],
   "source": [
    "import janitor # This library generates an error when I execute session_info()"
   ]
  },
  {
   "cell_type": "markdown",
   "metadata": {},
   "source": [
    "# Import external files"
   ]
  },
  {
   "cell_type": "markdown",
   "metadata": {},
   "source": [
    "- Extension of the \"missing\" functions from Pandas\n",
    "- DataFrame and dictionary functions\n",
    "- Statistical functions"
   ]
  },
  {
   "cell_type": "code",
   "execution_count": 5,
   "metadata": {},
   "outputs": [
    {
     "name": "stderr",
     "output_type": "stream",
     "text": [
      "/home/ubuntu/anaconda3/lib/python3.11/site-packages/upsetplot/plotting.py:15: MatplotlibDeprecationWarning: The matplotlib.tight_layout module was deprecated in Matplotlib 3.6 and will be removed two minor releases later.\n",
      "  from matplotlib.tight_layout import get_renderer\n"
     ]
    }
   ],
   "source": [
    "%run utils/u.0.0-pandas_missing_extension.ipynb\n",
    "%run utils/u.0.1-df_functions.ipynb\n",
    "%run utils/u.0.2-statistical-functions.ipynb"
   ]
  },
  {
   "cell_type": "markdown",
   "metadata": {},
   "source": [
    "# Get the processed data (v2)"
   ]
  },
  {
   "cell_type": "code",
   "execution_count": 13,
   "metadata": {},
   "outputs": [
    {
     "ename": "FileNotFoundError",
     "evalue": "[Errno 2] No such file or directory: '../data/processed/WDICSV_PROCESSED_V2.csv'",
     "output_type": "error",
     "traceback": [
      "\u001b[0;31m---------------------------------------------------------------------------\u001b[0m",
      "\u001b[0;31mFileNotFoundError\u001b[0m                         Traceback (most recent call last)",
      "Cell \u001b[0;32mIn[13], line 1\u001b[0m\n\u001b[0;32m----> 1\u001b[0m arg_di_df \u001b[38;5;241m=\u001b[39m pd\u001b[38;5;241m.\u001b[39mread_csv(\u001b[38;5;124m'\u001b[39m\u001b[38;5;124m../data/processed/WDICSV_PROCESSED_V2.csv\u001b[39m\u001b[38;5;124m'\u001b[39m)\u001b[38;5;241m.\u001b[39mclean_names(case_type\u001b[38;5;241m=\u001b[39m\u001b[38;5;124m\"\u001b[39m\u001b[38;5;124msnake\u001b[39m\u001b[38;5;124m\"\u001b[39m)\n\u001b[1;32m      3\u001b[0m \u001b[38;5;28mprint\u001b[39m(arg_di_df\u001b[38;5;241m.\u001b[39mshape)\n\u001b[1;32m      4\u001b[0m arg_di_df\u001b[38;5;241m.\u001b[39minfo()\n",
      "File \u001b[0;32m~/anaconda3/lib/python3.11/site-packages/pandas/io/parsers/readers.py:912\u001b[0m, in \u001b[0;36mread_csv\u001b[0;34m(filepath_or_buffer, sep, delimiter, header, names, index_col, usecols, dtype, engine, converters, true_values, false_values, skipinitialspace, skiprows, skipfooter, nrows, na_values, keep_default_na, na_filter, verbose, skip_blank_lines, parse_dates, infer_datetime_format, keep_date_col, date_parser, date_format, dayfirst, cache_dates, iterator, chunksize, compression, thousands, decimal, lineterminator, quotechar, quoting, doublequote, escapechar, comment, encoding, encoding_errors, dialect, on_bad_lines, delim_whitespace, low_memory, memory_map, float_precision, storage_options, dtype_backend)\u001b[0m\n\u001b[1;32m    899\u001b[0m kwds_defaults \u001b[38;5;241m=\u001b[39m _refine_defaults_read(\n\u001b[1;32m    900\u001b[0m     dialect,\n\u001b[1;32m    901\u001b[0m     delimiter,\n\u001b[0;32m   (...)\u001b[0m\n\u001b[1;32m    908\u001b[0m     dtype_backend\u001b[38;5;241m=\u001b[39mdtype_backend,\n\u001b[1;32m    909\u001b[0m )\n\u001b[1;32m    910\u001b[0m kwds\u001b[38;5;241m.\u001b[39mupdate(kwds_defaults)\n\u001b[0;32m--> 912\u001b[0m \u001b[38;5;28;01mreturn\u001b[39;00m _read(filepath_or_buffer, kwds)\n",
      "File \u001b[0;32m~/anaconda3/lib/python3.11/site-packages/pandas/io/parsers/readers.py:577\u001b[0m, in \u001b[0;36m_read\u001b[0;34m(filepath_or_buffer, kwds)\u001b[0m\n\u001b[1;32m    574\u001b[0m _validate_names(kwds\u001b[38;5;241m.\u001b[39mget(\u001b[38;5;124m\"\u001b[39m\u001b[38;5;124mnames\u001b[39m\u001b[38;5;124m\"\u001b[39m, \u001b[38;5;28;01mNone\u001b[39;00m))\n\u001b[1;32m    576\u001b[0m \u001b[38;5;66;03m# Create the parser.\u001b[39;00m\n\u001b[0;32m--> 577\u001b[0m parser \u001b[38;5;241m=\u001b[39m TextFileReader(filepath_or_buffer, \u001b[38;5;241m*\u001b[39m\u001b[38;5;241m*\u001b[39mkwds)\n\u001b[1;32m    579\u001b[0m \u001b[38;5;28;01mif\u001b[39;00m chunksize \u001b[38;5;129;01mor\u001b[39;00m iterator:\n\u001b[1;32m    580\u001b[0m     \u001b[38;5;28;01mreturn\u001b[39;00m parser\n",
      "File \u001b[0;32m~/anaconda3/lib/python3.11/site-packages/pandas/io/parsers/readers.py:1407\u001b[0m, in \u001b[0;36mTextFileReader.__init__\u001b[0;34m(self, f, engine, **kwds)\u001b[0m\n\u001b[1;32m   1404\u001b[0m     \u001b[38;5;28mself\u001b[39m\u001b[38;5;241m.\u001b[39moptions[\u001b[38;5;124m\"\u001b[39m\u001b[38;5;124mhas_index_names\u001b[39m\u001b[38;5;124m\"\u001b[39m] \u001b[38;5;241m=\u001b[39m kwds[\u001b[38;5;124m\"\u001b[39m\u001b[38;5;124mhas_index_names\u001b[39m\u001b[38;5;124m\"\u001b[39m]\n\u001b[1;32m   1406\u001b[0m \u001b[38;5;28mself\u001b[39m\u001b[38;5;241m.\u001b[39mhandles: IOHandles \u001b[38;5;241m|\u001b[39m \u001b[38;5;28;01mNone\u001b[39;00m \u001b[38;5;241m=\u001b[39m \u001b[38;5;28;01mNone\u001b[39;00m\n\u001b[0;32m-> 1407\u001b[0m \u001b[38;5;28mself\u001b[39m\u001b[38;5;241m.\u001b[39m_engine \u001b[38;5;241m=\u001b[39m \u001b[38;5;28mself\u001b[39m\u001b[38;5;241m.\u001b[39m_make_engine(f, \u001b[38;5;28mself\u001b[39m\u001b[38;5;241m.\u001b[39mengine)\n",
      "File \u001b[0;32m~/anaconda3/lib/python3.11/site-packages/pandas/io/parsers/readers.py:1661\u001b[0m, in \u001b[0;36mTextFileReader._make_engine\u001b[0;34m(self, f, engine)\u001b[0m\n\u001b[1;32m   1659\u001b[0m     \u001b[38;5;28;01mif\u001b[39;00m \u001b[38;5;124m\"\u001b[39m\u001b[38;5;124mb\u001b[39m\u001b[38;5;124m\"\u001b[39m \u001b[38;5;129;01mnot\u001b[39;00m \u001b[38;5;129;01min\u001b[39;00m mode:\n\u001b[1;32m   1660\u001b[0m         mode \u001b[38;5;241m+\u001b[39m\u001b[38;5;241m=\u001b[39m \u001b[38;5;124m\"\u001b[39m\u001b[38;5;124mb\u001b[39m\u001b[38;5;124m\"\u001b[39m\n\u001b[0;32m-> 1661\u001b[0m \u001b[38;5;28mself\u001b[39m\u001b[38;5;241m.\u001b[39mhandles \u001b[38;5;241m=\u001b[39m get_handle(\n\u001b[1;32m   1662\u001b[0m     f,\n\u001b[1;32m   1663\u001b[0m     mode,\n\u001b[1;32m   1664\u001b[0m     encoding\u001b[38;5;241m=\u001b[39m\u001b[38;5;28mself\u001b[39m\u001b[38;5;241m.\u001b[39moptions\u001b[38;5;241m.\u001b[39mget(\u001b[38;5;124m\"\u001b[39m\u001b[38;5;124mencoding\u001b[39m\u001b[38;5;124m\"\u001b[39m, \u001b[38;5;28;01mNone\u001b[39;00m),\n\u001b[1;32m   1665\u001b[0m     compression\u001b[38;5;241m=\u001b[39m\u001b[38;5;28mself\u001b[39m\u001b[38;5;241m.\u001b[39moptions\u001b[38;5;241m.\u001b[39mget(\u001b[38;5;124m\"\u001b[39m\u001b[38;5;124mcompression\u001b[39m\u001b[38;5;124m\"\u001b[39m, \u001b[38;5;28;01mNone\u001b[39;00m),\n\u001b[1;32m   1666\u001b[0m     memory_map\u001b[38;5;241m=\u001b[39m\u001b[38;5;28mself\u001b[39m\u001b[38;5;241m.\u001b[39moptions\u001b[38;5;241m.\u001b[39mget(\u001b[38;5;124m\"\u001b[39m\u001b[38;5;124mmemory_map\u001b[39m\u001b[38;5;124m\"\u001b[39m, \u001b[38;5;28;01mFalse\u001b[39;00m),\n\u001b[1;32m   1667\u001b[0m     is_text\u001b[38;5;241m=\u001b[39mis_text,\n\u001b[1;32m   1668\u001b[0m     errors\u001b[38;5;241m=\u001b[39m\u001b[38;5;28mself\u001b[39m\u001b[38;5;241m.\u001b[39moptions\u001b[38;5;241m.\u001b[39mget(\u001b[38;5;124m\"\u001b[39m\u001b[38;5;124mencoding_errors\u001b[39m\u001b[38;5;124m\"\u001b[39m, \u001b[38;5;124m\"\u001b[39m\u001b[38;5;124mstrict\u001b[39m\u001b[38;5;124m\"\u001b[39m),\n\u001b[1;32m   1669\u001b[0m     storage_options\u001b[38;5;241m=\u001b[39m\u001b[38;5;28mself\u001b[39m\u001b[38;5;241m.\u001b[39moptions\u001b[38;5;241m.\u001b[39mget(\u001b[38;5;124m\"\u001b[39m\u001b[38;5;124mstorage_options\u001b[39m\u001b[38;5;124m\"\u001b[39m, \u001b[38;5;28;01mNone\u001b[39;00m),\n\u001b[1;32m   1670\u001b[0m )\n\u001b[1;32m   1671\u001b[0m \u001b[38;5;28;01massert\u001b[39;00m \u001b[38;5;28mself\u001b[39m\u001b[38;5;241m.\u001b[39mhandles \u001b[38;5;129;01mis\u001b[39;00m \u001b[38;5;129;01mnot\u001b[39;00m \u001b[38;5;28;01mNone\u001b[39;00m\n\u001b[1;32m   1672\u001b[0m f \u001b[38;5;241m=\u001b[39m \u001b[38;5;28mself\u001b[39m\u001b[38;5;241m.\u001b[39mhandles\u001b[38;5;241m.\u001b[39mhandle\n",
      "File \u001b[0;32m~/anaconda3/lib/python3.11/site-packages/pandas/io/common.py:859\u001b[0m, in \u001b[0;36mget_handle\u001b[0;34m(path_or_buf, mode, encoding, compression, memory_map, is_text, errors, storage_options)\u001b[0m\n\u001b[1;32m    854\u001b[0m \u001b[38;5;28;01melif\u001b[39;00m \u001b[38;5;28misinstance\u001b[39m(handle, \u001b[38;5;28mstr\u001b[39m):\n\u001b[1;32m    855\u001b[0m     \u001b[38;5;66;03m# Check whether the filename is to be opened in binary mode.\u001b[39;00m\n\u001b[1;32m    856\u001b[0m     \u001b[38;5;66;03m# Binary mode does not support 'encoding' and 'newline'.\u001b[39;00m\n\u001b[1;32m    857\u001b[0m     \u001b[38;5;28;01mif\u001b[39;00m ioargs\u001b[38;5;241m.\u001b[39mencoding \u001b[38;5;129;01mand\u001b[39;00m \u001b[38;5;124m\"\u001b[39m\u001b[38;5;124mb\u001b[39m\u001b[38;5;124m\"\u001b[39m \u001b[38;5;129;01mnot\u001b[39;00m \u001b[38;5;129;01min\u001b[39;00m ioargs\u001b[38;5;241m.\u001b[39mmode:\n\u001b[1;32m    858\u001b[0m         \u001b[38;5;66;03m# Encoding\u001b[39;00m\n\u001b[0;32m--> 859\u001b[0m         handle \u001b[38;5;241m=\u001b[39m \u001b[38;5;28mopen\u001b[39m(\n\u001b[1;32m    860\u001b[0m             handle,\n\u001b[1;32m    861\u001b[0m             ioargs\u001b[38;5;241m.\u001b[39mmode,\n\u001b[1;32m    862\u001b[0m             encoding\u001b[38;5;241m=\u001b[39mioargs\u001b[38;5;241m.\u001b[39mencoding,\n\u001b[1;32m    863\u001b[0m             errors\u001b[38;5;241m=\u001b[39merrors,\n\u001b[1;32m    864\u001b[0m             newline\u001b[38;5;241m=\u001b[39m\u001b[38;5;124m\"\u001b[39m\u001b[38;5;124m\"\u001b[39m,\n\u001b[1;32m    865\u001b[0m         )\n\u001b[1;32m    866\u001b[0m     \u001b[38;5;28;01melse\u001b[39;00m:\n\u001b[1;32m    867\u001b[0m         \u001b[38;5;66;03m# Binary mode\u001b[39;00m\n\u001b[1;32m    868\u001b[0m         handle \u001b[38;5;241m=\u001b[39m \u001b[38;5;28mopen\u001b[39m(handle, ioargs\u001b[38;5;241m.\u001b[39mmode)\n",
      "\u001b[0;31mFileNotFoundError\u001b[0m: [Errno 2] No such file or directory: '../data/processed/WDICSV_PROCESSED_V2.csv'"
     ]
    }
   ],
   "source": [
    "arg_di_df = pd.read_csv('../data/processed/WDICSV_PROCESSED_V2.csv').clean_names(case_type=\"snake\")\n",
    "\n",
    "print(arg_di_df.shape)\n",
    "arg_di_df.info()"
   ]
  },
  {
   "cell_type": "markdown",
   "metadata": {},
   "source": [
    "# Get columns names and types"
   ]
  },
  {
   "cell_type": "code",
   "execution_count": 7,
   "metadata": {},
   "outputs": [],
   "source": [
    "indicators_names, categorical_cols, numeric_cols, columns_with_missing_values = get_columns(arg_di_df)"
   ]
  },
  {
   "cell_type": "code",
   "execution_count": 12,
   "metadata": {},
   "outputs": [
    {
     "name": "stdout",
     "output_type": "stream",
     "text": [
      "Total Columns: 28\n",
      "Categorical Columns: 6\n",
      "Numeric Columns: 22\n"
     ]
    }
   ],
   "source": [
    "print(f'Total Columns: {len(indicators_names)}')\n",
    "print(f'Categorical Columns: {len(categorical_cols)}')\n",
    "print(f'Numeric Columns: {len(numeric_cols)}')"
   ]
  },
  {
   "cell_type": "code",
   "execution_count": 8,
   "metadata": {},
   "outputs": [
    {
     "data": {
      "text/plain": [
       "['year, Year',\n",
       " 'it_mlt_main, Fixed telephone subscriptions',\n",
       " 'ny_gdp_mktp_kd_zg, GDP growth (annual %)',\n",
       " 'ny_gdp_pcap_kd, GDP per capita (constant 2015 US$)',\n",
       " 'ny_gdp_pcap_kd_zg, GDP per capita growth (annual %)',\n",
       " 'sp_dyn_le00_in, Life expectancy at birth, total (years)',\n",
       " 'it_cel_sets, Mobile cellular subscriptions',\n",
       " 'sh_dth_imrt, Number of infant deaths',\n",
       " 'sp_pop_0014_to_zs, Population ages 0-14 (% of total population)',\n",
       " 'sp_pop_1564_to_zs, Population ages 15-64 (% of total population)',\n",
       " 'sp_pop_65_up_to_zs, Population ages 65 and above (% of total population)',\n",
       " 'sp_pop_totl, Population, total',\n",
       " 'sm_pop_refg, Refugee population by country or territory of asylum',\n",
       " 'sm_pop_refg_or, Refugee population by country or territory of origin',\n",
       " 'se_pre_enrr, School enrollment, preprimary (% gross)',\n",
       " 'se_prm_enrr, School enrollment, primary (% gross)',\n",
       " 'se_sec_enrr, School enrollment, secondary (% gross)',\n",
       " 'se_ter_enrr, School enrollment, tertiary (% gross)',\n",
       " 'sp_urb_totl_in_zs, Urban population (% of total population)',\n",
       " 'year_of_dictatorship, It was a year of military dictatorship',\n",
       " 'ny_gdp_mktp_kd_zg_cat, GDP growth categories',\n",
       " 'sp_dyn_le00_in_cat, Life Expectancy categories',\n",
       " 'it_cel_sets_pct, Mobile Subscription (% of total population)',\n",
       " 'it_cel_sets_cat, Mobile Subscription Categories',\n",
       " 'ny_gdp_pcap_kd_cat, GDP Per Capita Categories',\n",
       " 'se_sec_enrr_cat, Secondary school enrollment categories',\n",
       " 'dem_dep_cat, Percentage of Worker Age Population',\n",
       " 'ny_gdp_mktp_kd_grw_cat, GDP Growth Volatility']"
      ]
     },
     "execution_count": 8,
     "metadata": {},
     "output_type": "execute_result"
    }
   ],
   "source": [
    "indicators_names"
   ]
  },
  {
   "cell_type": "code",
   "execution_count": 9,
   "metadata": {},
   "outputs": [
    {
     "data": {
      "text/plain": [
       "['se_ter_enrr',\n",
       " 'sm_pop_refg_or',\n",
       " 'se_pre_enrr',\n",
       " 'se_prm_enrr',\n",
       " 'se_sec_enrr',\n",
       " 'it_cel_sets',\n",
       " 'it_cel_sets_pct',\n",
       " 'sp_dyn_le00_in',\n",
       " 'sh_dth_imrt']"
      ]
     },
     "execution_count": 9,
     "metadata": {},
     "output_type": "execute_result"
    }
   ],
   "source": [
    "columns_with_missing_values"
   ]
  },
  {
   "cell_type": "markdown",
   "metadata": {},
   "source": [
    "# Target variable:"
   ]
  },
  {
   "cell_type": "markdown",
   "metadata": {},
   "source": [
    "sp_dyn_le00_in (Life expectancy at birth, total (years))"
   ]
  },
  {
   "cell_type": "code",
   "execution_count": 106,
   "metadata": {},
   "outputs": [],
   "source": [
    "target_variable = \"sp_dyn_le00_in\"\n",
    "target_variable_name = get_indicator_name(target_variable, True)"
   ]
  },
  {
   "cell_type": "markdown",
   "metadata": {},
   "source": [
    "# Apply statistical functions"
   ]
  },
  {
   "cell_type": "markdown",
   "metadata": {},
   "source": [
    "## TTest"
   ]
  },
  {
   "cell_type": "code",
   "execution_count": 114,
   "metadata": {},
   "outputs": [
    {
     "data": {
      "image/png": "[encoded data removed]",
      "text/plain": [
       "<Figure size 640x480 with 1 Axes>"
      ]
     },
     "metadata": {},
     "output_type": "display_data"
    },
    {
     "name": "stdout",
     "output_type": "stream",
     "text": [
      "Normality of sample 0? False\n",
      "Normality of sample 1? False\n",
      "Equality of variances? True\n"
     ]
    },
    {
     "data": {
      "text/plain": [
       "TtestResult(statistic=-6.492353268172686, pvalue=7.771964816118865e-08, df=42.0)"
      ]
     },
     "execution_count": 114,
     "metadata": {},
     "output_type": "execute_result"
    }
   ],
   "source": [
    "def get_groups_of_missing_values(data, grouping_variable, grouped_variable):\n",
    "\n",
    "    indexes_of_grouping_variable = arg_di_df.value_counts(grouping_variable, dropna=False).index\n",
    "    \n",
    "    grouped_variable = columns_with_missing_values[0]\n",
    "    grouped_variable_description = get_indicator_name(grouped_variable, True)\n",
    "\n",
    "    groupby_series = (\n",
    "        data\n",
    "            .rename(columns={grouped_variable: grouped_variable_description})\n",
    "            .loc[:,[grouping_variable, grouped_variable_description]]\n",
    "            .dropna()\n",
    "            .groupby(grouping_variable)\n",
    "    )\n",
    "\n",
    "    group_1 = pd.DataFrame() if groupby_series.indices.get(indexes_of_grouping_variable[1]) is None else groupby_series.get_group(indexes_of_grouping_variable[1]).loc[:,grouped_variable_description]\n",
    "    group_2 = pd.DataFrame() if groupby_series.indices.get(indexes_of_grouping_variable[0]) is None else groupby_series.get_group(indexes_of_grouping_variable[0]).loc[:,grouped_variable_description]\n",
    "\n",
    "    return group_1, group_2\n",
    "\n",
    "group_1, group_2 = get_groups_of_missing_values(arg_di_df, \"year_of_dictatorship\", columns_with_missing_values[1])\n",
    "\n",
    "ttest_ind_and_conditions(group_1,group_2)"
   ]
  },
  {
   "cell_type": "markdown",
   "metadata": {},
   "source": [
    "What does this plot tell us about the data?\n",
    "\n",
    "* There is significant autocorrelation at lower lags (strong dependency on past values).\n",
    "* The autocorrelation decreases over time, eventually turning negative.\n",
    "* This pattern suggests the data is not purely random and could be modeled using time series techniques, such as an ARMA or ARIMA model (AutoRegressive Moving Average and AutoRegressive Integrated Moving Average respectively)"
   ]
  },
  {
   "cell_type": "markdown",
   "metadata": {},
   "source": [
    "# Transform categorical variables"
   ]
  },
  {
   "cell_type": "markdown",
   "metadata": {},
   "source": [
    "## Ordinal coding"
   ]
  },
  {
   "cell_type": "markdown",
   "metadata": {},
   "source": [
    "This method implies to transform every category into an integer. It's useful when the categories have an order."
   ]
  },
  {
   "cell_type": "markdown",
   "metadata": {},
   "source": [
    "### Apply to a group of columns"
   ]
  },
  {
   "cell_type": "markdown",
   "metadata": {},
   "source": [
    "Column transformer: Applies transformers to columns of an array or pandas DataFrame.\n",
    "\n",
    "make_column_transformer(): Construct a ColumnTransformer from the given transformers. This is a shorthand for the ColumnTransformer constructor; it does not require, and does not permit, naming the transformers. Instead, they will be given names automatically based on their types.\n"
   ]
  },
  {
   "cell_type": "code",
   "execution_count": 117,
   "metadata": {},
   "outputs": [],
   "source": [
    "categorical_variables_ordered_values = [list(item.keys()) for item in df_categorical_values[\"Indicator Colors\"]]\n",
    "\n",
    "for item in categorical_variables_ordered_values:\n",
    "    item.remove(\"Unknown\")\n",
    "    item.insert(0, \"Unknown\")"
   ]
  },
  {
   "cell_type": "code",
   "execution_count": 118,
   "metadata": {},
   "outputs": [],
   "source": [
    "ordinal_encoder = OrdinalEncoder(categories= categorical_variables_ordered_values)"
   ]
  },
  {
   "cell_type": "code",
   "execution_count": 119,
   "metadata": {},
   "outputs": [],
   "source": [
    "categorical_transformer = sklearn.compose.make_column_transformer(\n",
    "    # Tuples of the form (transformer, columns) specifying the transformer objects to be applied to subsets of the data\n",
    "    (ordinal_encoder, df_categorical_values[\"Indicator Name\"]),\n",
    "    remainder=\"passthrough\"\n",
    "    # By specifying remainder='passthrough', all remaining columns that were not specified in transformers,\n",
    "    # but present in the data passed to fit will be automatically passed through. This subset of columns is\n",
    "    # concatenated with the output of the transformers. For dataframes, extra columns not seen during fit\n",
    "    # will be excluded from the output of transform. \n",
    ")"
   ]
  },
  {
   "cell_type": "code",
   "execution_count": 120,
   "metadata": {},
   "outputs": [],
   "source": [
    "arg_di_df_transformed = (\n",
    "    pd.DataFrame(\n",
    "        categorical_transformer.fit_transform(arg_di_df),\n",
    "        columns=categorical_transformer.get_feature_names_out(),\n",
    "        index=arg_di_df.index\n",
    "    )\n",
    "    .rename(\n",
    "        columns=remove_prefix\n",
    "    )\n",
    ")"
   ]
  },
  {
   "cell_type": "code",
   "execution_count": 121,
   "metadata": {},
   "outputs": [
    {
     "data": {
      "text/html": [
       "<style>#sk-container-id-5 {color: black;}#sk-container-id-5 pre{padding: 0;}#sk-container-id-5 div.sk-toggleable {background-color: white;}#sk-container-id-5 label.sk-toggleable__label {cursor: pointer;display: block;width: 100%;margin-bottom: 0;padding: 0.3em;box-sizing: border-box;text-align: center;}#sk-container-id-5 label.sk-toggleable__label-arrow:before {content: \"▸\";float: left;margin-right: 0.25em;color: #696969;}#sk-container-id-5 label.sk-toggleable__label-arrow:hover:before {color: black;}#sk-container-id-5 div.sk-estimator:hover label.sk-toggleable__label-arrow:before {color: black;}#sk-container-id-5 div.sk-toggleable__content {max-height: 0;max-width: 0;overflow: hidden;text-align: left;background-color: #f0f8ff;}#sk-container-id-5 div.sk-toggleable__content pre {margin: 0.2em;color: black;border-radius: 0.25em;background-color: #f0f8ff;}#sk-container-id-5 input.sk-toggleable__control:checked~div.sk-toggleable__content {max-height: 200px;max-width: 100%;overflow: auto;}#sk-container-id-5 input.sk-toggleable__control:checked~label.sk-toggleable__label-arrow:before {content: \"▾\";}#sk-container-id-5 div.sk-estimator input.sk-toggleable__control:checked~label.sk-toggleable__label {background-color: #d4ebff;}#sk-container-id-5 div.sk-label input.sk-toggleable__control:checked~label.sk-toggleable__label {background-color: #d4ebff;}#sk-container-id-5 input.sk-hidden--visually {border: 0;clip: rect(1px 1px 1px 1px);clip: rect(1px, 1px, 1px, 1px);height: 1px;margin: -1px;overflow: hidden;padding: 0;position: absolute;width: 1px;}#sk-container-id-5 div.sk-estimator {font-family: monospace;background-color: #f0f8ff;border: 1px dotted black;border-radius: 0.25em;box-sizing: border-box;margin-bottom: 0.5em;}#sk-container-id-5 div.sk-estimator:hover {background-color: #d4ebff;}#sk-container-id-5 div.sk-parallel-item::after {content: \"\";width: 100%;border-bottom: 1px solid gray;flex-grow: 1;}#sk-container-id-5 div.sk-label:hover label.sk-toggleable__label {background-color: #d4ebff;}#sk-container-id-5 div.sk-serial::before {content: \"\";position: absolute;border-left: 1px solid gray;box-sizing: border-box;top: 0;bottom: 0;left: 50%;z-index: 0;}#sk-container-id-5 div.sk-serial {display: flex;flex-direction: column;align-items: center;background-color: white;padding-right: 0.2em;padding-left: 0.2em;position: relative;}#sk-container-id-5 div.sk-item {position: relative;z-index: 1;}#sk-container-id-5 div.sk-parallel {display: flex;align-items: stretch;justify-content: center;background-color: white;position: relative;}#sk-container-id-5 div.sk-item::before, #sk-container-id-5 div.sk-parallel-item::before {content: \"\";position: absolute;border-left: 1px solid gray;box-sizing: border-box;top: 0;bottom: 0;left: 50%;z-index: -1;}#sk-container-id-5 div.sk-parallel-item {display: flex;flex-direction: column;z-index: 1;position: relative;background-color: white;}#sk-container-id-5 div.sk-parallel-item:first-child::after {align-self: flex-end;width: 50%;}#sk-container-id-5 div.sk-parallel-item:last-child::after {align-self: flex-start;width: 50%;}#sk-container-id-5 div.sk-parallel-item:only-child::after {width: 0;}#sk-container-id-5 div.sk-dashed-wrapped {border: 1px dashed gray;margin: 0 0.4em 0.5em 0.4em;box-sizing: border-box;padding-bottom: 0.4em;background-color: white;}#sk-container-id-5 div.sk-label label {font-family: monospace;font-weight: bold;display: inline-block;line-height: 1.2em;}#sk-container-id-5 div.sk-label-container {text-align: center;}#sk-container-id-5 div.sk-container {/* jupyter's `normalize.less` sets `[hidden] { display: none; }` but bootstrap.min.css set `[hidden] { display: none !important; }` so we also need the `!important` here to be able to override the default hidden behavior on the sphinx rendered scikit-learn.org. See: https://github.com/scikit-learn/scikit-learn/issues/21755 */display: inline-block !important;position: relative;}#sk-container-id-5 div.sk-text-repr-fallback {display: none;}</style><div id=\"sk-container-id-5\" class=\"sk-top-container\"><div class=\"sk-text-repr-fallback\"><pre>ColumnTransformer(remainder=&#x27;passthrough&#x27;,\n",
       "                  transformers=[(&#x27;ordinalencoder&#x27;,\n",
       "                                 OrdinalEncoder(categories=[[&#x27;Unknown&#x27;,\n",
       "                                                             &#x27;Negative growth&#x27;,\n",
       "                                                             &#x27;Low growth&#x27;,\n",
       "                                                             &#x27;Moderate growth&#x27;,\n",
       "                                                             &#x27;High growth&#x27;],\n",
       "                                                            [&#x27;Unknown&#x27;,\n",
       "                                                             &#x27;Low life &#x27;\n",
       "                                                             &#x27;expectancy&#x27;,\n",
       "                                                             &#x27;Medium life &#x27;\n",
       "                                                             &#x27;expectancy&#x27;,\n",
       "                                                             &#x27;High life &#x27;\n",
       "                                                             &#x27;expectancy&#x27;],\n",
       "                                                            [&#x27;Unknown&#x27;, &#x27;Low&#x27;,\n",
       "                                                             &#x27;Medium&#x27;, &#x27;High&#x27;,\n",
       "                                                             &#x27;Very High&#x27;],\n",
       "                                                            [&#x27;Unknown&#x27;,\n",
       "                                                             &#x27;Low income&#x27;,\n",
       "                                                             &#x27;Middle income&#x27;,\n",
       "                                                             &#x27;High income&#x27;],\n",
       "                                                            [&#x27;Unknown&#x27;, &#x27;Low&#x27;,\n",
       "                                                             &#x27;Medium&#x27;, &#x27;High&#x27;],\n",
       "                                                            [&#x27;Unknown&#x27;,\n",
       "                                                             &#x27;Low volatility&#x27;,\n",
       "                                                             &#x27;Medium &#x27;\n",
       "                                                             &#x27;volatility&#x27;,\n",
       "                                                             &#x27;High &#x27;\n",
       "                                                             &#x27;volatility&#x27;]]),\n",
       "                                 0     ny_gdp_mktp_kd_zg_cat\n",
       "1        sp_dyn_le00_in_cat\n",
       "2           it_cel_sets_cat\n",
       "3        ny_gdp_pcap_kd_cat\n",
       "4           se_sec_enrr_cat\n",
       "5    ny_gdp_mktp_kd_grw_cat\n",
       "Name: Indicator Name, dtype: object)])</pre><b>In a Jupyter environment, please rerun this cell to show the HTML representation or trust the notebook. <br />On GitHub, the HTML representation is unable to render, please try loading this page with nbviewer.org.</b></div><div class=\"sk-container\" hidden><div class=\"sk-item sk-dashed-wrapped\"><div class=\"sk-label-container\"><div class=\"sk-label sk-toggleable\"><input class=\"sk-toggleable__control sk-hidden--visually\" id=\"sk-estimator-id-17\" type=\"checkbox\" ><label for=\"sk-estimator-id-17\" class=\"sk-toggleable__label sk-toggleable__label-arrow\">ColumnTransformer</label><div class=\"sk-toggleable__content\"><pre>ColumnTransformer(remainder=&#x27;passthrough&#x27;,\n",
       "                  transformers=[(&#x27;ordinalencoder&#x27;,\n",
       "                                 OrdinalEncoder(categories=[[&#x27;Unknown&#x27;,\n",
       "                                                             &#x27;Negative growth&#x27;,\n",
       "                                                             &#x27;Low growth&#x27;,\n",
       "                                                             &#x27;Moderate growth&#x27;,\n",
       "                                                             &#x27;High growth&#x27;],\n",
       "                                                            [&#x27;Unknown&#x27;,\n",
       "                                                             &#x27;Low life &#x27;\n",
       "                                                             &#x27;expectancy&#x27;,\n",
       "                                                             &#x27;Medium life &#x27;\n",
       "                                                             &#x27;expectancy&#x27;,\n",
       "                                                             &#x27;High life &#x27;\n",
       "                                                             &#x27;expectancy&#x27;],\n",
       "                                                            [&#x27;Unknown&#x27;, &#x27;Low&#x27;,\n",
       "                                                             &#x27;Medium&#x27;, &#x27;High&#x27;,\n",
       "                                                             &#x27;Very High&#x27;],\n",
       "                                                            [&#x27;Unknown&#x27;,\n",
       "                                                             &#x27;Low income&#x27;,\n",
       "                                                             &#x27;Middle income&#x27;,\n",
       "                                                             &#x27;High income&#x27;],\n",
       "                                                            [&#x27;Unknown&#x27;, &#x27;Low&#x27;,\n",
       "                                                             &#x27;Medium&#x27;, &#x27;High&#x27;],\n",
       "                                                            [&#x27;Unknown&#x27;,\n",
       "                                                             &#x27;Low volatility&#x27;,\n",
       "                                                             &#x27;Medium &#x27;\n",
       "                                                             &#x27;volatility&#x27;,\n",
       "                                                             &#x27;High &#x27;\n",
       "                                                             &#x27;volatility&#x27;]]),\n",
       "                                 0     ny_gdp_mktp_kd_zg_cat\n",
       "1        sp_dyn_le00_in_cat\n",
       "2           it_cel_sets_cat\n",
       "3        ny_gdp_pcap_kd_cat\n",
       "4           se_sec_enrr_cat\n",
       "5    ny_gdp_mktp_kd_grw_cat\n",
       "Name: Indicator Name, dtype: object)])</pre></div></div></div><div class=\"sk-parallel\"><div class=\"sk-parallel-item\"><div class=\"sk-item\"><div class=\"sk-label-container\"><div class=\"sk-label sk-toggleable\"><input class=\"sk-toggleable__control sk-hidden--visually\" id=\"sk-estimator-id-18\" type=\"checkbox\" ><label for=\"sk-estimator-id-18\" class=\"sk-toggleable__label sk-toggleable__label-arrow\">ordinalencoder</label><div class=\"sk-toggleable__content\"><pre>0     ny_gdp_mktp_kd_zg_cat\n",
       "1        sp_dyn_le00_in_cat\n",
       "2           it_cel_sets_cat\n",
       "3        ny_gdp_pcap_kd_cat\n",
       "4           se_sec_enrr_cat\n",
       "5    ny_gdp_mktp_kd_grw_cat\n",
       "Name: Indicator Name, dtype: object</pre></div></div></div><div class=\"sk-serial\"><div class=\"sk-item\"><div class=\"sk-estimator sk-toggleable\"><input class=\"sk-toggleable__control sk-hidden--visually\" id=\"sk-estimator-id-19\" type=\"checkbox\" ><label for=\"sk-estimator-id-19\" class=\"sk-toggleable__label sk-toggleable__label-arrow\">OrdinalEncoder</label><div class=\"sk-toggleable__content\"><pre>OrdinalEncoder(categories=[[&#x27;Unknown&#x27;, &#x27;Negative growth&#x27;, &#x27;Low growth&#x27;,\n",
       "                            &#x27;Moderate growth&#x27;, &#x27;High growth&#x27;],\n",
       "                           [&#x27;Unknown&#x27;, &#x27;Low life expectancy&#x27;,\n",
       "                            &#x27;Medium life expectancy&#x27;, &#x27;High life expectancy&#x27;],\n",
       "                           [&#x27;Unknown&#x27;, &#x27;Low&#x27;, &#x27;Medium&#x27;, &#x27;High&#x27;, &#x27;Very High&#x27;],\n",
       "                           [&#x27;Unknown&#x27;, &#x27;Low income&#x27;, &#x27;Middle income&#x27;,\n",
       "                            &#x27;High income&#x27;],\n",
       "                           [&#x27;Unknown&#x27;, &#x27;Low&#x27;, &#x27;Medium&#x27;, &#x27;High&#x27;],\n",
       "                           [&#x27;Unknown&#x27;, &#x27;Low volatility&#x27;, &#x27;Medium volatility&#x27;,\n",
       "                            &#x27;High volatility&#x27;]])</pre></div></div></div></div></div></div><div class=\"sk-parallel-item\"><div class=\"sk-item\"><div class=\"sk-label-container\"><div class=\"sk-label sk-toggleable\"><input class=\"sk-toggleable__control sk-hidden--visually\" id=\"sk-estimator-id-20\" type=\"checkbox\" ><label for=\"sk-estimator-id-20\" class=\"sk-toggleable__label sk-toggleable__label-arrow\">remainder</label><div class=\"sk-toggleable__content\"><pre>[&#x27;year&#x27;, &#x27;it_mlt_main&#x27;, &#x27;ny_gdp_mktp_kd_zg&#x27;, &#x27;ny_gdp_pcap_kd&#x27;, &#x27;ny_gdp_pcap_kd_zg&#x27;, &#x27;sp_dyn_le00_in&#x27;, &#x27;it_cel_sets&#x27;, &#x27;sh_dth_imrt&#x27;, &#x27;sp_pop_0014_to_zs&#x27;, &#x27;sp_pop_1564_to_zs&#x27;, &#x27;sp_pop_65_up_to_zs&#x27;, &#x27;sp_pop_totl&#x27;, &#x27;sm_pop_refg&#x27;, &#x27;sm_pop_refg_or&#x27;, &#x27;se_pre_enrr&#x27;, &#x27;se_prm_enrr&#x27;, &#x27;se_sec_enrr&#x27;, &#x27;se_ter_enrr&#x27;, &#x27;sp_urb_totl_in_zs&#x27;, &#x27;year_of_dictatorship&#x27;, &#x27;it_cel_sets_pct&#x27;, &#x27;dem_dep_cat&#x27;]</pre></div></div></div><div class=\"sk-serial\"><div class=\"sk-item\"><div class=\"sk-estimator sk-toggleable\"><input class=\"sk-toggleable__control sk-hidden--visually\" id=\"sk-estimator-id-21\" type=\"checkbox\" ><label for=\"sk-estimator-id-21\" class=\"sk-toggleable__label sk-toggleable__label-arrow\">passthrough</label><div class=\"sk-toggleable__content\"><pre>passthrough</pre></div></div></div></div></div></div></div></div></div></div>"
      ],
      "text/plain": [
       "ColumnTransformer(remainder='passthrough',\n",
       "                  transformers=[('ordinalencoder',\n",
       "                                 OrdinalEncoder(categories=[['Unknown',\n",
       "                                                             'Negative growth',\n",
       "                                                             'Low growth',\n",
       "                                                             'Moderate growth',\n",
       "                                                             'High growth'],\n",
       "                                                            ['Unknown',\n",
       "                                                             'Low life '\n",
       "                                                             'expectancy',\n",
       "                                                             'Medium life '\n",
       "                                                             'expectancy',\n",
       "                                                             'High life '\n",
       "                                                             'expectancy'],\n",
       "                                                            ['Unknown', 'Low',\n",
       "                                                             'Medium', 'High',\n",
       "                                                             'Very High'],\n",
       "                                                            ['Unknown',\n",
       "                                                             'Low income',\n",
       "                                                             'Middle income',\n",
       "                                                             'High income'],\n",
       "                                                            ['Unknown', 'Low',\n",
       "                                                             'Medium', 'High'],\n",
       "                                                            ['Unknown',\n",
       "                                                             'Low volatility',\n",
       "                                                             'Medium '\n",
       "                                                             'volatility',\n",
       "                                                             'High '\n",
       "                                                             'volatility']]),\n",
       "                                 0     ny_gdp_mktp_kd_zg_cat\n",
       "1        sp_dyn_le00_in_cat\n",
       "2           it_cel_sets_cat\n",
       "3        ny_gdp_pcap_kd_cat\n",
       "4           se_sec_enrr_cat\n",
       "5    ny_gdp_mktp_kd_grw_cat\n",
       "Name: Indicator Name, dtype: object)])"
      ]
     },
     "execution_count": 121,
     "metadata": {},
     "output_type": "execute_result"
    }
   ],
   "source": [
    "categorical_transformer"
   ]
  },
  {
   "cell_type": "code",
   "execution_count": 122,
   "metadata": {},
   "outputs": [
    {
     "name": "stdout",
     "output_type": "stream",
     "text": [
      "ny_gdp_mktp_kd_zg_cat:\n",
      "  Unknown → 0\n",
      "  Negative growth → 1\n",
      "  Low growth → 2\n",
      "  Moderate growth → 3\n",
      "  High growth → 4\n",
      "sp_dyn_le00_in_cat:\n",
      "  Unknown → 0\n",
      "  Low life expectancy → 1\n",
      "  Medium life expectancy → 2\n",
      "  High life expectancy → 3\n",
      "it_cel_sets_cat:\n",
      "  Unknown → 0\n",
      "  Low → 1\n",
      "  Medium → 2\n",
      "  High → 3\n",
      "  Very High → 4\n",
      "ny_gdp_pcap_kd_cat:\n",
      "  Unknown → 0\n",
      "  Low income → 1\n",
      "  Middle income → 2\n",
      "  High income → 3\n",
      "se_sec_enrr_cat:\n",
      "  Unknown → 0\n",
      "  Low → 1\n",
      "  Medium → 2\n",
      "  High → 3\n",
      "ny_gdp_mktp_kd_grw_cat:\n",
      "  Unknown → 0\n",
      "  Low volatility → 1\n",
      "  Medium volatility → 2\n",
      "  High volatility → 3\n"
     ]
    }
   ],
   "source": [
    "ordinal = categorical_transformer.named_transformers_['ordinalencoder']\n",
    "# Check categories for each column\n",
    "for col_name, categories in zip(list(df_categorical_values[\"Indicator Name\"]), ordinal.categories_):\n",
    "    print(f\"{col_name}:\")\n",
    "    for i, cat in enumerate(categories):\n",
    "        print(f\"  {cat} → {i}\")"
   ]
  },
  {
   "cell_type": "code",
   "execution_count": 123,
   "metadata": {},
   "outputs": [
    {
     "data": {
      "text/html": [
       "<div>\n",
       "<style scoped>\n",
       "    .dataframe tbody tr th:only-of-type {\n",
       "        vertical-align: middle;\n",
       "    }\n",
       "\n",
       "    .dataframe tbody tr th {\n",
       "        vertical-align: top;\n",
       "    }\n",
       "\n",
       "    .dataframe thead th {\n",
       "        text-align: right;\n",
       "    }\n",
       "</style>\n",
       "<table border=\"1\" class=\"dataframe\">\n",
       "  <thead>\n",
       "    <tr style=\"text-align: right;\">\n",
       "      <th></th>\n",
       "      <th>ny_gdp_mktp_kd_zg_cat</th>\n",
       "      <th>sp_dyn_le00_in_cat</th>\n",
       "      <th>it_cel_sets_cat</th>\n",
       "      <th>ny_gdp_pcap_kd_cat</th>\n",
       "      <th>se_sec_enrr_cat</th>\n",
       "      <th>ny_gdp_mktp_kd_grw_cat</th>\n",
       "    </tr>\n",
       "  </thead>\n",
       "  <tbody>\n",
       "    <tr>\n",
       "      <th>0</th>\n",
       "      <td>3.0</td>\n",
       "      <td>2.0</td>\n",
       "      <td>1.0</td>\n",
       "      <td>2.0</td>\n",
       "      <td>2.0</td>\n",
       "      <td>0.0</td>\n",
       "    </tr>\n",
       "    <tr>\n",
       "      <th>1</th>\n",
       "      <td>4.0</td>\n",
       "      <td>2.0</td>\n",
       "      <td>0.0</td>\n",
       "      <td>2.0</td>\n",
       "      <td>2.0</td>\n",
       "      <td>0.0</td>\n",
       "    </tr>\n",
       "    <tr>\n",
       "      <th>2</th>\n",
       "      <td>2.0</td>\n",
       "      <td>2.0</td>\n",
       "      <td>0.0</td>\n",
       "      <td>2.0</td>\n",
       "      <td>2.0</td>\n",
       "      <td>2.0</td>\n",
       "    </tr>\n",
       "    <tr>\n",
       "      <th>3</th>\n",
       "      <td>3.0</td>\n",
       "      <td>2.0</td>\n",
       "      <td>0.0</td>\n",
       "      <td>2.0</td>\n",
       "      <td>2.0</td>\n",
       "      <td>1.0</td>\n",
       "    </tr>\n",
       "    <tr>\n",
       "      <th>4</th>\n",
       "      <td>4.0</td>\n",
       "      <td>2.0</td>\n",
       "      <td>0.0</td>\n",
       "      <td>2.0</td>\n",
       "      <td>2.0</td>\n",
       "      <td>1.0</td>\n",
       "    </tr>\n",
       "  </tbody>\n",
       "</table>\n",
       "</div>"
      ],
      "text/plain": [
       "   ny_gdp_mktp_kd_zg_cat  sp_dyn_le00_in_cat  it_cel_sets_cat  \\\n",
       "0                    3.0                 2.0              1.0   \n",
       "1                    4.0                 2.0              0.0   \n",
       "2                    2.0                 2.0              0.0   \n",
       "3                    3.0                 2.0              0.0   \n",
       "4                    4.0                 2.0              0.0   \n",
       "\n",
       "   ny_gdp_pcap_kd_cat  se_sec_enrr_cat  ny_gdp_mktp_kd_grw_cat  \n",
       "0                 2.0              2.0                     0.0  \n",
       "1                 2.0              2.0                     0.0  \n",
       "2                 2.0              2.0                     2.0  \n",
       "3                 2.0              2.0                     1.0  \n",
       "4                 2.0              2.0                     1.0  "
      ]
     },
     "execution_count": 123,
     "metadata": {},
     "output_type": "execute_result"
    }
   ],
   "source": [
    "arg_di_df_transformed[categorical_cols].head(5)"
   ]
  },
  {
   "cell_type": "markdown",
   "metadata": {},
   "source": [
    "## Scale Numerical Features"
   ]
  },
  {
   "cell_type": "code",
   "execution_count": 126,
   "metadata": {},
   "outputs": [],
   "source": [
    "scaler = MinMaxScaler()"
   ]
  }
 ],
 "metadata": {
  "kernelspec": {
   "display_name": "base",
   "language": "python",
   "name": "python3"
  },
  "language_info": {
   "codemirror_mode": {
    "name": "ipython",
    "version": 3
   },
   "file_extension": ".py",
   "mimetype": "text/x-python",
   "name": "python",
   "nbconvert_exporter": "python",
   "pygments_lexer": "ipython3",
   "version": "3.11.5"
  }
 },
 "nbformat": 4,
 "nbformat_minor": 2
}
