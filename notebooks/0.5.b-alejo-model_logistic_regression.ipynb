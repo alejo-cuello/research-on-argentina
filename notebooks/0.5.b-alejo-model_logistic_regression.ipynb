{
 "cells": [
  {
   "cell_type": "code",
   "execution_count": null,
   "metadata": {},
   "outputs": [
    {
     "data": {
      "text/plain": [
       "['sm_pop_refg_or',\n",
       " 'se_ter_enrr',\n",
       " 'se_pre_enrr',\n",
       " 'se_prm_enrr',\n",
       " 'se_sec_enrr',\n",
       " 'sp_dyn_le00_in',\n",
       " 'sh_dth_imrt']"
      ]
     },
     "metadata": {},
     "output_type": "display_data"
    }
   ],
   "source": [
    "columns_with_missing_values = get_columns_with_missing_values(arg_di_df)\n",
    "columns_with_missing_values"
   ]
  },
  {
   "cell_type": "code",
   "execution_count": null,
   "metadata": {},
   "outputs": [],
   "source": [
    "print(\"Testing accuracy =\", accuracy_score(ytest, ypred))"
   ]
  }
 ],
 "metadata": {
  "language_info": {
   "name": "python"
  }
 },
 "nbformat": 4,
 "nbformat_minor": 2
}
