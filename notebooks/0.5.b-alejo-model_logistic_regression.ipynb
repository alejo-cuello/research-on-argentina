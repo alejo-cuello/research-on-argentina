{
 "cells": [
  {
   "cell_type": "code",
   "execution_count": null,
   "metadata": {},
   "outputs": [],
   "source": [
    "import numpy as np\n",
    "import pandas as pd\n",
    "import matplotlib.pyplot as plt\n",
    "import seaborn as sns\n",
    "import session_info\n",
    "from sklearn.model_selection import train_test_split\n",
    "from sklearn.linear_model import LinearRegression\n",
    "from sklearn.decomposition import PCA\n",
    "import sklearn.metrics as metrics\n",
    "import statsmodels.api as sm"
   ]
  },
  {
   "cell_type": "code",
   "execution_count": null,
   "metadata": {},
   "outputs": [
    {
     "data": {
      "text/html": [
       "<details>\n",
       "<summary>Click to view session information</summary>\n",
       "<pre>\n",
       "-----\n",
       "matplotlib          3.9.2\n",
       "numpy               1.26.4\n",
       "pandas              2.2.2\n",
       "seaborn             0.13.2\n",
       "session_info        1.0.0\n",
       "sklearn             1.5.1\n",
       "statsmodels         0.14.4\n",
       "-----\n",
       "</pre>\n",
       "<details>\n",
       "<summary>Click to view modules imported as dependencies</summary>\n",
       "<pre>\n",
       "PIL                         10.4.0\n",
       "anyio                       NA\n",
       "asttokens                   NA\n",
       "attr                        24.2.0\n",
       "attrs                       24.2.0\n",
       "babel                       2.11.0\n",
       "backports                   NA\n",
       "bottleneck                  1.3.7\n",
       "brotli                      1.0.9\n",
       "certifi                     2025.01.31\n",
       "cffi                        1.17.1\n",
       "charset_normalizer          3.3.2\n",
       "colorama                    0.4.6\n",
       "comm                        0.2.1\n",
       "cycler                      0.10.0\n",
       "cython_runtime              NA\n",
       "dateutil                    2.9.0.post0\n",
       "debugpy                     1.6.7\n",
       "decorator                   5.1.1\n",
       "defusedxml                  0.7.1\n",
       "executing                   0.8.3\n",
       "fastjsonschema              NA\n",
       "idna                        3.7\n",
       "ipykernel                   6.29.5\n",
       "ipywidgets                  8.1.2\n",
       "jaraco                      NA\n",
       "jedi                        0.19.1\n",
       "jinja2                      3.1.4\n",
       "joblib                      1.4.2\n",
       "json5                       NA\n",
       "jsonschema                  4.23.0\n",
       "jsonschema_specifications   NA\n",
       "jupyter_events              0.10.0\n",
       "jupyter_server              2.14.1\n",
       "jupyterlab_server           2.27.3\n",
       "kiwisolver                  1.4.4\n",
       "markupsafe                  2.1.3\n",
       "more_itertools              10.3.0\n",
       "mpl_toolkits                NA\n",
       "nbformat                    5.10.4\n",
       "numexpr                     2.8.7\n",
       "overrides                   NA\n",
       "packaging                   24.1\n",
       "parso                       0.8.3\n",
       "patsy                       0.5.6\n",
       "pkg_resources               NA\n",
       "platformdirs                3.10.0\n",
       "prometheus_client           NA\n",
       "prompt_toolkit              3.0.43\n",
       "psutil                      5.9.0\n",
       "pure_eval                   0.2.2\n",
       "pydev_ipython               NA\n",
       "pydevconsole                NA\n",
       "pydevd                      2.9.5\n",
       "pydevd_file_utils           NA\n",
       "pydevd_plugins              NA\n",
       "pydevd_tracing              NA\n",
       "pygments                    2.15.1\n",
       "pyparsing                   3.1.2\n",
       "pythonjsonlogger            NA\n",
       "pytz                        2024.1\n",
       "referencing                 NA\n",
       "requests                    2.32.3\n",
       "rfc3339_validator           0.1.4\n",
       "rfc3986_validator           0.1.1\n",
       "rpds                        NA\n",
       "scipy                       1.15.1\n",
       "send2trash                  NA\n",
       "six                         1.16.0\n",
       "sniffio                     1.3.0\n",
       "socks                       1.7.1\n",
       "stack_data                  0.2.0\n",
       "threadpoolctl               3.5.0\n",
       "tornado                     6.4.1\n",
       "traitlets                   5.14.3\n",
       "typing_extensions           NA\n",
       "urllib3                     2.2.3\n",
       "vscode                      NA\n",
       "wcwidth                     0.2.5\n",
       "websocket                   1.8.0\n",
       "yaml                        6.0.2\n",
       "zmq                         25.1.2\n",
       "</pre>\n",
       "</details> <!-- seems like this ends pre, so might as well be explicit -->\n",
       "<pre>\n",
       "-----\n",
       "IPython             8.27.0\n",
       "jupyter_client      8.6.0\n",
       "jupyter_core        5.7.2\n",
       "jupyterlab          4.2.5\n",
       "notebook            7.2.2\n",
       "-----\n",
       "Python 3.11.5 (main, Sep 11 2023, 13:54:46) [GCC 11.2.0]\n",
       "Linux-5.15.167.4-microsoft-standard-WSL2-x86_64-with-glibc2.35\n",
       "-----\n",
       "Session information updated at 2025-08-10 15:11\n",
       "</pre>\n",
       "</details>"
      ],
      "text/plain": [
       "<IPython.core.display.HTML object>"
      ]
     },
     "metadata": {},
     "output_type": "display_data"
    }
   ],
   "source": [
    "try:\n",
    "    session_info_output = session_info.show()\n",
    "except Exception as error:\n",
    "    print(\"The session info has been requested already:\")\n",
    "    \n",
    "session_info_output"
   ]
  },
  {
   "cell_type": "code",
   "execution_count": null,
   "metadata": {},
   "outputs": [],
   "source": [
    "import janitor # This library generates an error when I execute session_info()"
   ]
  },
  {
   "cell_type": "markdown",
   "metadata": {},
   "source": [
    "# Import external files"
   ]
  },
  {
   "cell_type": "markdown",
   "metadata": {},
   "source": [
    "- Extension of the \"missing\" functions from Pandas\n",
    "- DataFrame and dictionary functions\n",
    "- Statistical functions"
   ]
  },
  {
   "cell_type": "code",
   "execution_count": null,
   "metadata": {},
   "outputs": [],
   "source": [
    "%run utils/u.0.0-pandas_missing_extension.ipynb\n",
    "%run utils/u.0.1-df_functions.ipynb\n",
    "%run utils/u.0.2-statistical-functions.ipynb"
   ]
  },
  {
   "cell_type": "markdown",
   "metadata": {},
   "source": [
    "# Get the processed data (V3)"
   ]
  },
  {
   "cell_type": "code",
   "execution_count": null,
   "metadata": {},
   "outputs": [
    {
     "name": "stdout",
     "output_type": "stream",
     "text": [
      "(54, 19)\n",
      "<class 'pandas.core.frame.DataFrame'>\n",
      "RangeIndex: 54 entries, 0 to 53\n",
      "Data columns (total 19 columns):\n",
      " #   Column                  Non-Null Count  Dtype  \n",
      "---  ------                  --------------  -----  \n",
      " 0   ny_gdp_mktp_kd_zg_cat   54 non-null     float64\n",
      " 1   sp_dyn_le00_in_cat      54 non-null     float64\n",
      " 2   ny_gdp_pcap_kd_cat      54 non-null     float64\n",
      " 3   se_sec_enrr_cat         54 non-null     float64\n",
      " 4   ny_gdp_mktp_kd_grw_cat  54 non-null     float64\n",
      " 5   it_cel_sets_cat         54 non-null     float64\n",
      " 6   year                    54 non-null     float64\n",
      " 7   it_mlt_main             54 non-null     float64\n",
      " 8   ny_gdp_pcap_kd          54 non-null     float64\n",
      " 9   sp_dyn_le00_in          53 non-null     float64\n",
      " 10  sh_dth_imrt             54 non-null     float64\n",
      " 11  sm_pop_refg             54 non-null     float64\n",
      " 12  sm_pop_refg_or          54 non-null     float64\n",
      " 13  se_pre_enrr             54 non-null     float64\n",
      " 14  se_sec_enrr             54 non-null     float64\n",
      " 15  sp_urb_totl_in_zs       54 non-null     float64\n",
      " 16  year_of_dictatorship    54 non-null     float64\n",
      " 17  it_cel_sets_pct         54 non-null     float64\n",
      " 18  dem_dep_pct             54 non-null     float64\n",
      "dtypes: float64(19)\n",
      "memory usage: 8.1 KB\n"
     ]
    }
   ],
   "source": [
    "arg_di_df_processed = pd.read_csv('../data/processed/WDICSV_PROCESSED_V3.csv').clean_names(case_type=\"snake\")\n",
    "\n",
    "print(arg_di_df_processed.shape)\n",
    "arg_di_df_processed.info()"
   ]
  },
  {
   "cell_type": "markdown",
   "metadata": {},
   "source": [
    "# Get columns names and types"
   ]
  },
  {
   "cell_type": "code",
   "execution_count": null,
   "metadata": {},
   "outputs": [],
   "source": [
    "indicators_names, categorical_cols, numeric_cols, columns_with_missing_values = get_columns(arg_di_df_processed, True)"
   ]
  },
  {
   "cell_type": "code",
   "execution_count": null,
   "metadata": {},
   "outputs": [
    {
     "name": "stdout",
     "output_type": "stream",
     "text": [
      "Total Columns: 19\n",
      "Categorical Columns: 6\n",
      "Numeric Columns: 13\n"
     ]
    }
   ],
   "source": [
    "print(f'Total Columns: {len(indicators_names)}')\n",
    "print(f'Categorical Columns: {len(categorical_cols)}')\n",
    "print(f'Numeric Columns: {len(numeric_cols)}')\n",
    "\n",
    "numeric_cols = list(numeric_cols)"
   ]
  },
  {
   "cell_type": "code",
   "execution_count": null,
   "metadata": {},
   "outputs": [
    {
     "data": {
      "text/plain": [
       "ny_gdp_mktp_kd_zg_cat     float64\n",
       "sp_dyn_le00_in_cat        float64\n",
       "ny_gdp_pcap_kd_cat        float64\n",
       "se_sec_enrr_cat           float64\n",
       "ny_gdp_mktp_kd_grw_cat    float64\n",
       "it_cel_sets_cat           float64\n",
       "year                      float64\n",
       "it_mlt_main               float64\n",
       "ny_gdp_pcap_kd            float64\n",
       "sp_dyn_le00_in            float64\n",
       "sh_dth_imrt               float64\n",
       "sm_pop_refg               float64\n",
       "sm_pop_refg_or            float64\n",
       "se_pre_enrr               float64\n",
       "se_sec_enrr               float64\n",
       "sp_urb_totl_in_zs         float64\n",
       "year_of_dictatorship      float64\n",
       "it_cel_sets_pct           float64\n",
       "dem_dep_pct               float64\n",
       "dtype: object"
      ]
     },
     "metadata": {},
     "output_type": "display_data"
    }
   ],
   "source": [
    "arg_di_df_processed.dtypes"
   ]
  },
  {
   "cell_type": "code",
   "execution_count": null,
   "metadata": {},
   "outputs": [
    {
     "data": {
      "text/plain": [
       "['ny_gdp_mktp_kd_zg_cat, GDP growth categories',\n",
       " 'sp_dyn_le00_in_cat, Life Expectancy categories',\n",
       " 'ny_gdp_pcap_kd_cat, GDP Per Capita Categories',\n",
       " 'se_sec_enrr_cat, Secondary school enrollment categories',\n",
       " 'ny_gdp_mktp_kd_grw_cat, GDP Growth Volatility',\n",
       " 'it_cel_sets_cat, Mobile Subscription Categories',\n",
       " 'year, Year',\n",
       " 'it_mlt_main, Fixed telephone subscriptions',\n",
       " 'ny_gdp_pcap_kd, GDP per capita (constant 2015 US$)',\n",
       " 'sp_dyn_le00_in, Life expectancy at birth, total (years)',\n",
       " 'sh_dth_imrt, Number of infant deaths',\n",
       " 'sm_pop_refg, Refugee population by country or territory of asylum',\n",
       " 'sm_pop_refg_or, Refugee population by country or territory of origin',\n",
       " 'se_pre_enrr, School enrollment, preprimary (% gross)',\n",
       " 'se_sec_enrr, School enrollment, secondary (% gross)',\n",
       " 'sp_urb_totl_in_zs, Urban population (% of total population)',\n",
       " 'year_of_dictatorship, It was a year of military dictatorship',\n",
       " 'it_cel_sets_pct, Mobile Subscription (% of total population)',\n",
       " 'dem_dep_pct, Percentage of Worker Age Population']"
      ]
     },
     "metadata": {},
     "output_type": "display_data"
    }
   ],
   "source": [
    "indicators_names"
   ]
  },
  {
   "cell_type": "code",
   "execution_count": null,
   "metadata": {},
   "outputs": [
    {
     "data": {
      "text/plain": [
       "['sp_dyn_le00_in']"
      ]
     },
     "metadata": {},
     "output_type": "display_data"
    }
   ],
   "source": [
    "columns_with_missing_values"
   ]
  },
  {
   "cell_type": "markdown",
   "metadata": {},
   "source": [
    "# Split target variable"
   ]
  },
  {
   "cell_type": "markdown",
   "metadata": {},
   "source": [
    "Target variable: sp_dyn_le00_in (Life expectancy at birth, total (years))"
   ]
  },
  {
   "cell_type": "code",
   "execution_count": null,
   "metadata": {},
   "outputs": [],
   "source": [
    "target_variable = \"sp_dyn_le00_in\"\n",
    "target_variable_name = get_indicator_name(target_variable, True)"
   ]
  },
  {
   "cell_type": "code",
   "execution_count": null,
   "metadata": {},
   "outputs": [],
   "source": [
    "if target_variable in numeric_cols:\n",
    "    numeric_cols.remove(target_variable)\n",
    "    \n",
    "if 'year' in numeric_cols:\n",
    "    numeric_cols.remove('year')"
   ]
  },
  {
   "cell_type": "markdown",
   "metadata": {},
   "source": [
    "## Split rows with missing values in the target variable"
   ]
  },
  {
   "cell_type": "code",
   "execution_count": null,
   "metadata": {},
   "outputs": [
    {
     "data": {
      "text/html": [
       "<div>\n",
       "<style scoped>\n",
       "    .dataframe tbody tr th:only-of-type {\n",
       "        vertical-align: middle;\n",
       "    }\n",
       "\n",
       "    .dataframe tbody tr th {\n",
       "        vertical-align: top;\n",
       "    }\n",
       "\n",
       "    .dataframe thead th {\n",
       "        text-align: right;\n",
       "    }\n",
       "</style>\n",
       "<table border=\"1\" class=\"dataframe\">\n",
       "  <thead>\n",
       "    <tr style=\"text-align: right;\">\n",
       "      <th></th>\n",
       "      <th>ny_gdp_mktp_kd_zg_cat</th>\n",
       "      <th>sp_dyn_le00_in_cat</th>\n",
       "      <th>ny_gdp_pcap_kd_cat</th>\n",
       "      <th>se_sec_enrr_cat</th>\n",
       "      <th>ny_gdp_mktp_kd_grw_cat</th>\n",
       "      <th>it_cel_sets_cat</th>\n",
       "      <th>year</th>\n",
       "      <th>it_mlt_main</th>\n",
       "      <th>ny_gdp_pcap_kd</th>\n",
       "      <th>sp_dyn_le00_in</th>\n",
       "      <th>sh_dth_imrt</th>\n",
       "      <th>sm_pop_refg</th>\n",
       "      <th>sm_pop_refg_or</th>\n",
       "      <th>se_pre_enrr</th>\n",
       "      <th>se_sec_enrr</th>\n",
       "      <th>sp_urb_totl_in_zs</th>\n",
       "      <th>year_of_dictatorship</th>\n",
       "      <th>it_cel_sets_pct</th>\n",
       "      <th>dem_dep_pct</th>\n",
       "    </tr>\n",
       "  </thead>\n",
       "  <tbody>\n",
       "    <tr>\n",
       "      <th>53</th>\n",
       "      <td>1.0</td>\n",
       "      <td>0.0</td>\n",
       "      <td>3.0</td>\n",
       "      <td>0.0</td>\n",
       "      <td>1.0</td>\n",
       "      <td>4.0</td>\n",
       "      <td>2023.0</td>\n",
       "      <td>0.412407</td>\n",
       "      <td>1.011066</td>\n",
       "      <td>NaN</td>\n",
       "      <td>-0.924576</td>\n",
       "      <td>-0.68224</td>\n",
       "      <td>-0.184756</td>\n",
       "      <td>1.036592</td>\n",
       "      <td>1.152048</td>\n",
       "      <td>1.264111</td>\n",
       "      <td>-0.534522</td>\n",
       "      <td>1.418794</td>\n",
       "      <td>-1.852406</td>\n",
       "    </tr>\n",
       "  </tbody>\n",
       "</table>\n",
       "</div>"
      ],
      "text/plain": [
       "    ny_gdp_mktp_kd_zg_cat  sp_dyn_le00_in_cat  ny_gdp_pcap_kd_cat  \\\n",
       "53                    1.0                 0.0                 3.0   \n",
       "\n",
       "    se_sec_enrr_cat  ny_gdp_mktp_kd_grw_cat  it_cel_sets_cat    year  \\\n",
       "53              0.0                     1.0              4.0  2023.0   \n",
       "\n",
       "    it_mlt_main  ny_gdp_pcap_kd  sp_dyn_le00_in  sh_dth_imrt  sm_pop_refg  \\\n",
       "53     0.412407        1.011066             NaN    -0.924576     -0.68224   \n",
       "\n",
       "    sm_pop_refg_or  se_pre_enrr  se_sec_enrr  sp_urb_totl_in_zs  \\\n",
       "53       -0.184756     1.036592     1.152048           1.264111   \n",
       "\n",
       "    year_of_dictatorship  it_cel_sets_pct  dem_dep_pct  \n",
       "53             -0.534522         1.418794    -1.852406  "
      ]
     },
     "metadata": {},
     "output_type": "display_data"
    }
   ],
   "source": [
    "rows_with_na = arg_di_df_processed[arg_di_df_processed[target_variable].isna()].copy()\n",
    "rows_with_na"
   ]
  },
  {
   "cell_type": "code",
   "execution_count": null,
   "metadata": {},
   "outputs": [
    {
     "data": {
      "text/plain": [
       "((53, 11), (53,))"
      ]
     },
     "metadata": {},
     "output_type": "display_data"
    }
   ],
   "source": [
    "X = arg_di_df_processed.drop(index=rows_with_na.index)[numeric_cols]\n",
    "y = arg_di_df_processed.drop(index=rows_with_na.index)[target_variable]\n",
    "\n",
    "X.shape, y.shape"
   ]
  },
  {
   "cell_type": "markdown",
   "metadata": {},
   "source": [
    "# Apply Logistic Regression"
   ]
  },
  {
   "cell_type": "code",
   "execution_count": null,
   "metadata": {},
   "outputs": [],
   "source": [
    "logistic_reg = LogisticRegression()\n",
    "logistic_reg.fit(x_train,y_train)\n",
    "predictions = logistic_reg.predict(x_test)\n"
   ]
  },
  {
   "cell_type": "code",
   "execution_count": null,
   "metadata": {},
   "outputs": [],
   "source": [
    "from sklearn.metrics import confusion_matrix, ConfusionMatrixDisplay\n",
    "cm = confusion_matrix(y_test, prediction_test, labels=model.classes_)\n",
    "disp = ConfusionMatrixDisplay(confusion_matrix= cm,display_labels=model.classes_)\n",
    "disp.plot(cmap=\"gray\")\n",
    "plt.show()\n",
    "sns.heatmap(cf, annot=True, square=True, cmap=\"coolwarm\")"
   ]
  },
  {
   "cell_type": "code",
   "execution_count": null,
   "metadata": {},
   "outputs": [],
   "source": [
    "\n",
    "print(metrics.accuracy_score(y_test, prediction_test))\n",
    "model.predict_proba(X_test)\n",
    "model.coef_\n",
    "model.feature_names_in_\n",
    "weights = pd.Series(model.coef_[0], index=X.columns.values)\n"
   ]
  },
  {
   "cell_type": "code",
   "execution_count": null,
   "metadata": {},
   "outputs": [],
   "source": [
    "st_x = StandardScaler()\n",
    "X_train = st_x.fit_transform(X_train)\n",
    "X_test = st_x.transform(X_test)\n"
   ]
  },
  {
   "cell_type": "code",
   "execution_count": null,
   "metadata": {},
   "outputs": [],
   "source": [
    "\n",
    "def logistic_model(C_, solver_, multiclass_):\n",
    "    logistic_regression_model = LogisticRegression(random_state=42, solver=solver_, multi_class=multiclass_, n_jobs=-1, C=C_)\n",
    "    return logistic_regression_model\n"
   ]
  },
  {
   "cell_type": "code",
   "execution_count": null,
   "metadata": {},
   "outputs": [],
   "source": [
    "\n",
    "multiclass = ['ovr','multinomial']\n",
    "solver_list = ['liblinear', 'newton-cg', 'lbfgs', 'sag', 'saga']\n",
    "scores = []\n",
    "params = []\n",
    "for i in multiclass:\n",
    "    for j in solver_list:\n",
    "        try:\n",
    "            model = logistic_model(1,j,i)\n",
    "            model.fit(X_train, y_train)\n",
    "            predictions = model.predict(X_test)\n",
    "            params.append(i + \"-\" + j)\n",
    "            accuracy = accuracy_score(y_test, predictions)\n",
    "            scores.append(accuracy)\n",
    "        except:\n",
    "            None\n"
   ]
  },
  {
   "cell_type": "code",
   "execution_count": null,
   "metadata": {},
   "outputs": [],
   "source": [
    "\n",
    "fig = plt.figure(figsize=(10,10))\n",
    "sns.barplot(x=params, y=scores).set_title(\"Beans Accuracy\")\n",
    "plt.xticks(rotation=90)"
   ]
  }
 ],
 "metadata": {
  "language_info": {
   "name": "python"
  }
 },
 "nbformat": 4,
 "nbformat_minor": 2
}
